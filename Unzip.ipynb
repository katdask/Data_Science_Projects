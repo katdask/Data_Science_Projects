{
  "nbformat": 4,
  "nbformat_minor": 0,
  "metadata": {
    "colab": {
      "name": "Unzip.ipynb",
      "provenance": [],
      "authorship_tag": "ABX9TyMRmtL6jLhoJoTw8bVH/xDP",
      "include_colab_link": true
    },
    "kernelspec": {
      "name": "python3",
      "display_name": "Python 3"
    },
    "language_info": {
      "name": "python"
    },
    "accelerator": "GPU"
  },
  "cells": [
    {
      "cell_type": "markdown",
      "metadata": {
        "id": "view-in-github",
        "colab_type": "text"
      },
      "source": [
        "<a href=\"https://colab.research.google.com/github/katdask/Data_Science_Projects/blob/main/Unzip.ipynb\" target=\"_parent\"><img src=\"https://colab.research.google.com/assets/colab-badge.svg\" alt=\"Open In Colab\"/></a>"
      ]
    },
    {
      "cell_type": "code",
      "metadata": {
        "colab": {
          "base_uri": "https://localhost:8080/"
        },
        "id": "r49VDxhl3ZnL",
        "outputId": "186432dd-ac7d-4100-f97e-519123baf702"
      },
      "source": [
        "from google.colab import drive\n",
        "drive.mount('/content/drive')"
      ],
      "execution_count": 1,
      "outputs": [
        {
          "output_type": "stream",
          "text": [
            "Drive already mounted at /content/drive; to attempt to forcibly remount, call drive.mount(\"/content/drive\", force_remount=True).\n"
          ],
          "name": "stdout"
        }
      ]
    },
    {
      "cell_type": "code",
      "metadata": {
        "id": "imlJVdku3gdk"
      },
      "source": [
        "#!unzip -u \"/content/drive/My Drive/facial_attributes/archive (1).zip\" -d \"/content/drive/My Drive/facial_attributes/data\""
      ],
      "execution_count": null,
      "outputs": []
    },
    {
      "cell_type": "code",
      "metadata": {
        "colab": {
          "base_uri": "https://localhost:8080/"
        },
        "id": "irkaWVI-OLgz",
        "outputId": "99685709-a372-4c24-9f19-b424be80d784"
      },
      "source": [
        "%cd /content/drive/My Drive/facial_attributes/"
      ],
      "execution_count": 2,
      "outputs": [
        {
          "output_type": "stream",
          "text": [
            "/content/drive/My Drive/facial_attributes\n"
          ],
          "name": "stdout"
        }
      ]
    },
    {
      "cell_type": "code",
      "metadata": {
        "id": "QyP2Zf9xOc2B"
      },
      "source": [
        "import tensorflow as tf\n",
        "from tensorflow import keras\n",
        "from tensorflow.keras import layers\n",
        "from tensorflow.keras import models\n",
        "from tensorflow.keras import optimizers\n",
        "import pandas as pd\n",
        "import matplotlib.pyplot as plt\n",
        "import matplotlib.image as mpimg\n",
        "import numpy as np\n",
        "from sklearn.model_selection import train_test_split\n",
        "from sklearn.preprocessing import MinMaxScaler\n",
        "import os\n",
        "from sklearn.metrics import confusion_matrix, ConfusionMatrixDisplay"
      ],
      "execution_count": 3,
      "outputs": []
    },
    {
      "cell_type": "markdown",
      "metadata": {
        "id": "sI0SDmcqUJwY"
      },
      "source": [
        "### Load and prepare data"
      ]
    },
    {
      "cell_type": "code",
      "metadata": {
        "colab": {
          "base_uri": "https://localhost:8080/",
          "height": 222
        },
        "id": "Y2r6QTnXOLwB",
        "outputId": "f21b0b4d-2d80-45b0-aaa3-4d0ec79f3063"
      },
      "source": [
        "celebs=pd.read_csv(\"list_attr_celeba.csv\")\n",
        "celebs.head()"
      ],
      "execution_count": 4,
      "outputs": [
        {
          "output_type": "execute_result",
          "data": {
            "text/html": [
              "<div>\n",
              "<style scoped>\n",
              "    .dataframe tbody tr th:only-of-type {\n",
              "        vertical-align: middle;\n",
              "    }\n",
              "\n",
              "    .dataframe tbody tr th {\n",
              "        vertical-align: top;\n",
              "    }\n",
              "\n",
              "    .dataframe thead th {\n",
              "        text-align: right;\n",
              "    }\n",
              "</style>\n",
              "<table border=\"1\" class=\"dataframe\">\n",
              "  <thead>\n",
              "    <tr style=\"text-align: right;\">\n",
              "      <th></th>\n",
              "      <th>image_id</th>\n",
              "      <th>5_o_Clock_Shadow</th>\n",
              "      <th>Arched_Eyebrows</th>\n",
              "      <th>Attractive</th>\n",
              "      <th>Bags_Under_Eyes</th>\n",
              "      <th>Bald</th>\n",
              "      <th>Bangs</th>\n",
              "      <th>Big_Lips</th>\n",
              "      <th>Big_Nose</th>\n",
              "      <th>Black_Hair</th>\n",
              "      <th>Blond_Hair</th>\n",
              "      <th>Blurry</th>\n",
              "      <th>Brown_Hair</th>\n",
              "      <th>Bushy_Eyebrows</th>\n",
              "      <th>Chubby</th>\n",
              "      <th>Double_Chin</th>\n",
              "      <th>Eyeglasses</th>\n",
              "      <th>Goatee</th>\n",
              "      <th>Gray_Hair</th>\n",
              "      <th>Heavy_Makeup</th>\n",
              "      <th>High_Cheekbones</th>\n",
              "      <th>Male</th>\n",
              "      <th>Mouth_Slightly_Open</th>\n",
              "      <th>Mustache</th>\n",
              "      <th>Narrow_Eyes</th>\n",
              "      <th>No_Beard</th>\n",
              "      <th>Oval_Face</th>\n",
              "      <th>Pale_Skin</th>\n",
              "      <th>Pointy_Nose</th>\n",
              "      <th>Receding_Hairline</th>\n",
              "      <th>Rosy_Cheeks</th>\n",
              "      <th>Sideburns</th>\n",
              "      <th>Smiling</th>\n",
              "      <th>Straight_Hair</th>\n",
              "      <th>Wavy_Hair</th>\n",
              "      <th>Wearing_Earrings</th>\n",
              "      <th>Wearing_Hat</th>\n",
              "      <th>Wearing_Lipstick</th>\n",
              "      <th>Wearing_Necklace</th>\n",
              "      <th>Wearing_Necktie</th>\n",
              "      <th>Young</th>\n",
              "    </tr>\n",
              "  </thead>\n",
              "  <tbody>\n",
              "    <tr>\n",
              "      <th>0</th>\n",
              "      <td>000001.jpg</td>\n",
              "      <td>-1</td>\n",
              "      <td>1</td>\n",
              "      <td>1</td>\n",
              "      <td>-1</td>\n",
              "      <td>-1</td>\n",
              "      <td>-1</td>\n",
              "      <td>-1</td>\n",
              "      <td>-1</td>\n",
              "      <td>-1</td>\n",
              "      <td>-1</td>\n",
              "      <td>-1</td>\n",
              "      <td>1</td>\n",
              "      <td>-1</td>\n",
              "      <td>-1</td>\n",
              "      <td>-1</td>\n",
              "      <td>-1</td>\n",
              "      <td>-1</td>\n",
              "      <td>-1</td>\n",
              "      <td>1</td>\n",
              "      <td>1</td>\n",
              "      <td>-1</td>\n",
              "      <td>1</td>\n",
              "      <td>-1</td>\n",
              "      <td>-1</td>\n",
              "      <td>1</td>\n",
              "      <td>-1</td>\n",
              "      <td>-1</td>\n",
              "      <td>1</td>\n",
              "      <td>-1</td>\n",
              "      <td>-1</td>\n",
              "      <td>-1</td>\n",
              "      <td>1</td>\n",
              "      <td>1</td>\n",
              "      <td>-1</td>\n",
              "      <td>1</td>\n",
              "      <td>-1</td>\n",
              "      <td>1</td>\n",
              "      <td>-1</td>\n",
              "      <td>-1</td>\n",
              "      <td>1</td>\n",
              "    </tr>\n",
              "    <tr>\n",
              "      <th>1</th>\n",
              "      <td>000002.jpg</td>\n",
              "      <td>-1</td>\n",
              "      <td>-1</td>\n",
              "      <td>-1</td>\n",
              "      <td>1</td>\n",
              "      <td>-1</td>\n",
              "      <td>-1</td>\n",
              "      <td>-1</td>\n",
              "      <td>1</td>\n",
              "      <td>-1</td>\n",
              "      <td>-1</td>\n",
              "      <td>-1</td>\n",
              "      <td>1</td>\n",
              "      <td>-1</td>\n",
              "      <td>-1</td>\n",
              "      <td>-1</td>\n",
              "      <td>-1</td>\n",
              "      <td>-1</td>\n",
              "      <td>-1</td>\n",
              "      <td>-1</td>\n",
              "      <td>1</td>\n",
              "      <td>-1</td>\n",
              "      <td>1</td>\n",
              "      <td>-1</td>\n",
              "      <td>-1</td>\n",
              "      <td>1</td>\n",
              "      <td>-1</td>\n",
              "      <td>-1</td>\n",
              "      <td>-1</td>\n",
              "      <td>-1</td>\n",
              "      <td>-1</td>\n",
              "      <td>-1</td>\n",
              "      <td>1</td>\n",
              "      <td>-1</td>\n",
              "      <td>-1</td>\n",
              "      <td>-1</td>\n",
              "      <td>-1</td>\n",
              "      <td>-1</td>\n",
              "      <td>-1</td>\n",
              "      <td>-1</td>\n",
              "      <td>1</td>\n",
              "    </tr>\n",
              "    <tr>\n",
              "      <th>2</th>\n",
              "      <td>000003.jpg</td>\n",
              "      <td>-1</td>\n",
              "      <td>-1</td>\n",
              "      <td>-1</td>\n",
              "      <td>-1</td>\n",
              "      <td>-1</td>\n",
              "      <td>-1</td>\n",
              "      <td>1</td>\n",
              "      <td>-1</td>\n",
              "      <td>-1</td>\n",
              "      <td>-1</td>\n",
              "      <td>1</td>\n",
              "      <td>-1</td>\n",
              "      <td>-1</td>\n",
              "      <td>-1</td>\n",
              "      <td>-1</td>\n",
              "      <td>-1</td>\n",
              "      <td>-1</td>\n",
              "      <td>-1</td>\n",
              "      <td>-1</td>\n",
              "      <td>-1</td>\n",
              "      <td>1</td>\n",
              "      <td>-1</td>\n",
              "      <td>-1</td>\n",
              "      <td>1</td>\n",
              "      <td>1</td>\n",
              "      <td>-1</td>\n",
              "      <td>-1</td>\n",
              "      <td>1</td>\n",
              "      <td>-1</td>\n",
              "      <td>-1</td>\n",
              "      <td>-1</td>\n",
              "      <td>-1</td>\n",
              "      <td>-1</td>\n",
              "      <td>1</td>\n",
              "      <td>-1</td>\n",
              "      <td>-1</td>\n",
              "      <td>-1</td>\n",
              "      <td>-1</td>\n",
              "      <td>-1</td>\n",
              "      <td>1</td>\n",
              "    </tr>\n",
              "    <tr>\n",
              "      <th>3</th>\n",
              "      <td>000004.jpg</td>\n",
              "      <td>-1</td>\n",
              "      <td>-1</td>\n",
              "      <td>1</td>\n",
              "      <td>-1</td>\n",
              "      <td>-1</td>\n",
              "      <td>-1</td>\n",
              "      <td>-1</td>\n",
              "      <td>-1</td>\n",
              "      <td>-1</td>\n",
              "      <td>-1</td>\n",
              "      <td>-1</td>\n",
              "      <td>-1</td>\n",
              "      <td>-1</td>\n",
              "      <td>-1</td>\n",
              "      <td>-1</td>\n",
              "      <td>-1</td>\n",
              "      <td>-1</td>\n",
              "      <td>-1</td>\n",
              "      <td>-1</td>\n",
              "      <td>-1</td>\n",
              "      <td>-1</td>\n",
              "      <td>-1</td>\n",
              "      <td>-1</td>\n",
              "      <td>-1</td>\n",
              "      <td>1</td>\n",
              "      <td>-1</td>\n",
              "      <td>-1</td>\n",
              "      <td>1</td>\n",
              "      <td>-1</td>\n",
              "      <td>-1</td>\n",
              "      <td>-1</td>\n",
              "      <td>-1</td>\n",
              "      <td>1</td>\n",
              "      <td>-1</td>\n",
              "      <td>1</td>\n",
              "      <td>-1</td>\n",
              "      <td>1</td>\n",
              "      <td>1</td>\n",
              "      <td>-1</td>\n",
              "      <td>1</td>\n",
              "    </tr>\n",
              "    <tr>\n",
              "      <th>4</th>\n",
              "      <td>000005.jpg</td>\n",
              "      <td>-1</td>\n",
              "      <td>1</td>\n",
              "      <td>1</td>\n",
              "      <td>-1</td>\n",
              "      <td>-1</td>\n",
              "      <td>-1</td>\n",
              "      <td>1</td>\n",
              "      <td>-1</td>\n",
              "      <td>-1</td>\n",
              "      <td>-1</td>\n",
              "      <td>-1</td>\n",
              "      <td>-1</td>\n",
              "      <td>-1</td>\n",
              "      <td>-1</td>\n",
              "      <td>-1</td>\n",
              "      <td>-1</td>\n",
              "      <td>-1</td>\n",
              "      <td>-1</td>\n",
              "      <td>1</td>\n",
              "      <td>-1</td>\n",
              "      <td>-1</td>\n",
              "      <td>-1</td>\n",
              "      <td>-1</td>\n",
              "      <td>1</td>\n",
              "      <td>1</td>\n",
              "      <td>-1</td>\n",
              "      <td>-1</td>\n",
              "      <td>1</td>\n",
              "      <td>-1</td>\n",
              "      <td>-1</td>\n",
              "      <td>-1</td>\n",
              "      <td>-1</td>\n",
              "      <td>-1</td>\n",
              "      <td>-1</td>\n",
              "      <td>-1</td>\n",
              "      <td>-1</td>\n",
              "      <td>1</td>\n",
              "      <td>-1</td>\n",
              "      <td>-1</td>\n",
              "      <td>1</td>\n",
              "    </tr>\n",
              "  </tbody>\n",
              "</table>\n",
              "</div>"
            ],
            "text/plain": [
              "     image_id  5_o_Clock_Shadow  ...  Wearing_Necktie  Young\n",
              "0  000001.jpg                -1  ...               -1      1\n",
              "1  000002.jpg                -1  ...               -1      1\n",
              "2  000003.jpg                -1  ...               -1      1\n",
              "3  000004.jpg                -1  ...               -1      1\n",
              "4  000005.jpg                -1  ...               -1      1\n",
              "\n",
              "[5 rows x 41 columns]"
            ]
          },
          "metadata": {
            "tags": []
          },
          "execution_count": 4
        }
      ]
    },
    {
      "cell_type": "code",
      "metadata": {
        "colab": {
          "base_uri": "https://localhost:8080/",
          "height": 222
        },
        "id": "V_2WRtWTOL8e",
        "outputId": "0c2b1bca-1561-4970-e29f-00b278a0dd47"
      },
      "source": [
        "celebs[\"image_id\"]='data/img_align_celeba/img_align_celeba/' + celebs[\"image_id\"].astype(str)\n",
        "celebs.head()"
      ],
      "execution_count": 5,
      "outputs": [
        {
          "output_type": "execute_result",
          "data": {
            "text/html": [
              "<div>\n",
              "<style scoped>\n",
              "    .dataframe tbody tr th:only-of-type {\n",
              "        vertical-align: middle;\n",
              "    }\n",
              "\n",
              "    .dataframe tbody tr th {\n",
              "        vertical-align: top;\n",
              "    }\n",
              "\n",
              "    .dataframe thead th {\n",
              "        text-align: right;\n",
              "    }\n",
              "</style>\n",
              "<table border=\"1\" class=\"dataframe\">\n",
              "  <thead>\n",
              "    <tr style=\"text-align: right;\">\n",
              "      <th></th>\n",
              "      <th>image_id</th>\n",
              "      <th>5_o_Clock_Shadow</th>\n",
              "      <th>Arched_Eyebrows</th>\n",
              "      <th>Attractive</th>\n",
              "      <th>Bags_Under_Eyes</th>\n",
              "      <th>Bald</th>\n",
              "      <th>Bangs</th>\n",
              "      <th>Big_Lips</th>\n",
              "      <th>Big_Nose</th>\n",
              "      <th>Black_Hair</th>\n",
              "      <th>Blond_Hair</th>\n",
              "      <th>Blurry</th>\n",
              "      <th>Brown_Hair</th>\n",
              "      <th>Bushy_Eyebrows</th>\n",
              "      <th>Chubby</th>\n",
              "      <th>Double_Chin</th>\n",
              "      <th>Eyeglasses</th>\n",
              "      <th>Goatee</th>\n",
              "      <th>Gray_Hair</th>\n",
              "      <th>Heavy_Makeup</th>\n",
              "      <th>High_Cheekbones</th>\n",
              "      <th>Male</th>\n",
              "      <th>Mouth_Slightly_Open</th>\n",
              "      <th>Mustache</th>\n",
              "      <th>Narrow_Eyes</th>\n",
              "      <th>No_Beard</th>\n",
              "      <th>Oval_Face</th>\n",
              "      <th>Pale_Skin</th>\n",
              "      <th>Pointy_Nose</th>\n",
              "      <th>Receding_Hairline</th>\n",
              "      <th>Rosy_Cheeks</th>\n",
              "      <th>Sideburns</th>\n",
              "      <th>Smiling</th>\n",
              "      <th>Straight_Hair</th>\n",
              "      <th>Wavy_Hair</th>\n",
              "      <th>Wearing_Earrings</th>\n",
              "      <th>Wearing_Hat</th>\n",
              "      <th>Wearing_Lipstick</th>\n",
              "      <th>Wearing_Necklace</th>\n",
              "      <th>Wearing_Necktie</th>\n",
              "      <th>Young</th>\n",
              "    </tr>\n",
              "  </thead>\n",
              "  <tbody>\n",
              "    <tr>\n",
              "      <th>0</th>\n",
              "      <td>data/img_align_celeba/img_align_celeba/000001.jpg</td>\n",
              "      <td>-1</td>\n",
              "      <td>1</td>\n",
              "      <td>1</td>\n",
              "      <td>-1</td>\n",
              "      <td>-1</td>\n",
              "      <td>-1</td>\n",
              "      <td>-1</td>\n",
              "      <td>-1</td>\n",
              "      <td>-1</td>\n",
              "      <td>-1</td>\n",
              "      <td>-1</td>\n",
              "      <td>1</td>\n",
              "      <td>-1</td>\n",
              "      <td>-1</td>\n",
              "      <td>-1</td>\n",
              "      <td>-1</td>\n",
              "      <td>-1</td>\n",
              "      <td>-1</td>\n",
              "      <td>1</td>\n",
              "      <td>1</td>\n",
              "      <td>-1</td>\n",
              "      <td>1</td>\n",
              "      <td>-1</td>\n",
              "      <td>-1</td>\n",
              "      <td>1</td>\n",
              "      <td>-1</td>\n",
              "      <td>-1</td>\n",
              "      <td>1</td>\n",
              "      <td>-1</td>\n",
              "      <td>-1</td>\n",
              "      <td>-1</td>\n",
              "      <td>1</td>\n",
              "      <td>1</td>\n",
              "      <td>-1</td>\n",
              "      <td>1</td>\n",
              "      <td>-1</td>\n",
              "      <td>1</td>\n",
              "      <td>-1</td>\n",
              "      <td>-1</td>\n",
              "      <td>1</td>\n",
              "    </tr>\n",
              "    <tr>\n",
              "      <th>1</th>\n",
              "      <td>data/img_align_celeba/img_align_celeba/000002.jpg</td>\n",
              "      <td>-1</td>\n",
              "      <td>-1</td>\n",
              "      <td>-1</td>\n",
              "      <td>1</td>\n",
              "      <td>-1</td>\n",
              "      <td>-1</td>\n",
              "      <td>-1</td>\n",
              "      <td>1</td>\n",
              "      <td>-1</td>\n",
              "      <td>-1</td>\n",
              "      <td>-1</td>\n",
              "      <td>1</td>\n",
              "      <td>-1</td>\n",
              "      <td>-1</td>\n",
              "      <td>-1</td>\n",
              "      <td>-1</td>\n",
              "      <td>-1</td>\n",
              "      <td>-1</td>\n",
              "      <td>-1</td>\n",
              "      <td>1</td>\n",
              "      <td>-1</td>\n",
              "      <td>1</td>\n",
              "      <td>-1</td>\n",
              "      <td>-1</td>\n",
              "      <td>1</td>\n",
              "      <td>-1</td>\n",
              "      <td>-1</td>\n",
              "      <td>-1</td>\n",
              "      <td>-1</td>\n",
              "      <td>-1</td>\n",
              "      <td>-1</td>\n",
              "      <td>1</td>\n",
              "      <td>-1</td>\n",
              "      <td>-1</td>\n",
              "      <td>-1</td>\n",
              "      <td>-1</td>\n",
              "      <td>-1</td>\n",
              "      <td>-1</td>\n",
              "      <td>-1</td>\n",
              "      <td>1</td>\n",
              "    </tr>\n",
              "    <tr>\n",
              "      <th>2</th>\n",
              "      <td>data/img_align_celeba/img_align_celeba/000003.jpg</td>\n",
              "      <td>-1</td>\n",
              "      <td>-1</td>\n",
              "      <td>-1</td>\n",
              "      <td>-1</td>\n",
              "      <td>-1</td>\n",
              "      <td>-1</td>\n",
              "      <td>1</td>\n",
              "      <td>-1</td>\n",
              "      <td>-1</td>\n",
              "      <td>-1</td>\n",
              "      <td>1</td>\n",
              "      <td>-1</td>\n",
              "      <td>-1</td>\n",
              "      <td>-1</td>\n",
              "      <td>-1</td>\n",
              "      <td>-1</td>\n",
              "      <td>-1</td>\n",
              "      <td>-1</td>\n",
              "      <td>-1</td>\n",
              "      <td>-1</td>\n",
              "      <td>1</td>\n",
              "      <td>-1</td>\n",
              "      <td>-1</td>\n",
              "      <td>1</td>\n",
              "      <td>1</td>\n",
              "      <td>-1</td>\n",
              "      <td>-1</td>\n",
              "      <td>1</td>\n",
              "      <td>-1</td>\n",
              "      <td>-1</td>\n",
              "      <td>-1</td>\n",
              "      <td>-1</td>\n",
              "      <td>-1</td>\n",
              "      <td>1</td>\n",
              "      <td>-1</td>\n",
              "      <td>-1</td>\n",
              "      <td>-1</td>\n",
              "      <td>-1</td>\n",
              "      <td>-1</td>\n",
              "      <td>1</td>\n",
              "    </tr>\n",
              "    <tr>\n",
              "      <th>3</th>\n",
              "      <td>data/img_align_celeba/img_align_celeba/000004.jpg</td>\n",
              "      <td>-1</td>\n",
              "      <td>-1</td>\n",
              "      <td>1</td>\n",
              "      <td>-1</td>\n",
              "      <td>-1</td>\n",
              "      <td>-1</td>\n",
              "      <td>-1</td>\n",
              "      <td>-1</td>\n",
              "      <td>-1</td>\n",
              "      <td>-1</td>\n",
              "      <td>-1</td>\n",
              "      <td>-1</td>\n",
              "      <td>-1</td>\n",
              "      <td>-1</td>\n",
              "      <td>-1</td>\n",
              "      <td>-1</td>\n",
              "      <td>-1</td>\n",
              "      <td>-1</td>\n",
              "      <td>-1</td>\n",
              "      <td>-1</td>\n",
              "      <td>-1</td>\n",
              "      <td>-1</td>\n",
              "      <td>-1</td>\n",
              "      <td>-1</td>\n",
              "      <td>1</td>\n",
              "      <td>-1</td>\n",
              "      <td>-1</td>\n",
              "      <td>1</td>\n",
              "      <td>-1</td>\n",
              "      <td>-1</td>\n",
              "      <td>-1</td>\n",
              "      <td>-1</td>\n",
              "      <td>1</td>\n",
              "      <td>-1</td>\n",
              "      <td>1</td>\n",
              "      <td>-1</td>\n",
              "      <td>1</td>\n",
              "      <td>1</td>\n",
              "      <td>-1</td>\n",
              "      <td>1</td>\n",
              "    </tr>\n",
              "    <tr>\n",
              "      <th>4</th>\n",
              "      <td>data/img_align_celeba/img_align_celeba/000005.jpg</td>\n",
              "      <td>-1</td>\n",
              "      <td>1</td>\n",
              "      <td>1</td>\n",
              "      <td>-1</td>\n",
              "      <td>-1</td>\n",
              "      <td>-1</td>\n",
              "      <td>1</td>\n",
              "      <td>-1</td>\n",
              "      <td>-1</td>\n",
              "      <td>-1</td>\n",
              "      <td>-1</td>\n",
              "      <td>-1</td>\n",
              "      <td>-1</td>\n",
              "      <td>-1</td>\n",
              "      <td>-1</td>\n",
              "      <td>-1</td>\n",
              "      <td>-1</td>\n",
              "      <td>-1</td>\n",
              "      <td>1</td>\n",
              "      <td>-1</td>\n",
              "      <td>-1</td>\n",
              "      <td>-1</td>\n",
              "      <td>-1</td>\n",
              "      <td>1</td>\n",
              "      <td>1</td>\n",
              "      <td>-1</td>\n",
              "      <td>-1</td>\n",
              "      <td>1</td>\n",
              "      <td>-1</td>\n",
              "      <td>-1</td>\n",
              "      <td>-1</td>\n",
              "      <td>-1</td>\n",
              "      <td>-1</td>\n",
              "      <td>-1</td>\n",
              "      <td>-1</td>\n",
              "      <td>-1</td>\n",
              "      <td>1</td>\n",
              "      <td>-1</td>\n",
              "      <td>-1</td>\n",
              "      <td>1</td>\n",
              "    </tr>\n",
              "  </tbody>\n",
              "</table>\n",
              "</div>"
            ],
            "text/plain": [
              "                                            image_id  ...  Young\n",
              "0  data/img_align_celeba/img_align_celeba/000001.jpg  ...      1\n",
              "1  data/img_align_celeba/img_align_celeba/000002.jpg  ...      1\n",
              "2  data/img_align_celeba/img_align_celeba/000003.jpg  ...      1\n",
              "3  data/img_align_celeba/img_align_celeba/000004.jpg  ...      1\n",
              "4  data/img_align_celeba/img_align_celeba/000005.jpg  ...      1\n",
              "\n",
              "[5 rows x 41 columns]"
            ]
          },
          "metadata": {
            "tags": []
          },
          "execution_count": 5
        }
      ]
    },
    {
      "cell_type": "code",
      "metadata": {
        "colab": {
          "base_uri": "https://localhost:8080/",
          "height": 222
        },
        "id": "eo_8uc8xOMJZ",
        "outputId": "05af307a-2bc4-403a-f1da-1d52a8dbbe01"
      },
      "source": [
        "celebs.replace(-1, 0, inplace=True)\n",
        "celebs.head()"
      ],
      "execution_count": 6,
      "outputs": [
        {
          "output_type": "execute_result",
          "data": {
            "text/html": [
              "<div>\n",
              "<style scoped>\n",
              "    .dataframe tbody tr th:only-of-type {\n",
              "        vertical-align: middle;\n",
              "    }\n",
              "\n",
              "    .dataframe tbody tr th {\n",
              "        vertical-align: top;\n",
              "    }\n",
              "\n",
              "    .dataframe thead th {\n",
              "        text-align: right;\n",
              "    }\n",
              "</style>\n",
              "<table border=\"1\" class=\"dataframe\">\n",
              "  <thead>\n",
              "    <tr style=\"text-align: right;\">\n",
              "      <th></th>\n",
              "      <th>image_id</th>\n",
              "      <th>5_o_Clock_Shadow</th>\n",
              "      <th>Arched_Eyebrows</th>\n",
              "      <th>Attractive</th>\n",
              "      <th>Bags_Under_Eyes</th>\n",
              "      <th>Bald</th>\n",
              "      <th>Bangs</th>\n",
              "      <th>Big_Lips</th>\n",
              "      <th>Big_Nose</th>\n",
              "      <th>Black_Hair</th>\n",
              "      <th>Blond_Hair</th>\n",
              "      <th>Blurry</th>\n",
              "      <th>Brown_Hair</th>\n",
              "      <th>Bushy_Eyebrows</th>\n",
              "      <th>Chubby</th>\n",
              "      <th>Double_Chin</th>\n",
              "      <th>Eyeglasses</th>\n",
              "      <th>Goatee</th>\n",
              "      <th>Gray_Hair</th>\n",
              "      <th>Heavy_Makeup</th>\n",
              "      <th>High_Cheekbones</th>\n",
              "      <th>Male</th>\n",
              "      <th>Mouth_Slightly_Open</th>\n",
              "      <th>Mustache</th>\n",
              "      <th>Narrow_Eyes</th>\n",
              "      <th>No_Beard</th>\n",
              "      <th>Oval_Face</th>\n",
              "      <th>Pale_Skin</th>\n",
              "      <th>Pointy_Nose</th>\n",
              "      <th>Receding_Hairline</th>\n",
              "      <th>Rosy_Cheeks</th>\n",
              "      <th>Sideburns</th>\n",
              "      <th>Smiling</th>\n",
              "      <th>Straight_Hair</th>\n",
              "      <th>Wavy_Hair</th>\n",
              "      <th>Wearing_Earrings</th>\n",
              "      <th>Wearing_Hat</th>\n",
              "      <th>Wearing_Lipstick</th>\n",
              "      <th>Wearing_Necklace</th>\n",
              "      <th>Wearing_Necktie</th>\n",
              "      <th>Young</th>\n",
              "    </tr>\n",
              "  </thead>\n",
              "  <tbody>\n",
              "    <tr>\n",
              "      <th>0</th>\n",
              "      <td>data/img_align_celeba/img_align_celeba/000001.jpg</td>\n",
              "      <td>0</td>\n",
              "      <td>1</td>\n",
              "      <td>1</td>\n",
              "      <td>0</td>\n",
              "      <td>0</td>\n",
              "      <td>0</td>\n",
              "      <td>0</td>\n",
              "      <td>0</td>\n",
              "      <td>0</td>\n",
              "      <td>0</td>\n",
              "      <td>0</td>\n",
              "      <td>1</td>\n",
              "      <td>0</td>\n",
              "      <td>0</td>\n",
              "      <td>0</td>\n",
              "      <td>0</td>\n",
              "      <td>0</td>\n",
              "      <td>0</td>\n",
              "      <td>1</td>\n",
              "      <td>1</td>\n",
              "      <td>0</td>\n",
              "      <td>1</td>\n",
              "      <td>0</td>\n",
              "      <td>0</td>\n",
              "      <td>1</td>\n",
              "      <td>0</td>\n",
              "      <td>0</td>\n",
              "      <td>1</td>\n",
              "      <td>0</td>\n",
              "      <td>0</td>\n",
              "      <td>0</td>\n",
              "      <td>1</td>\n",
              "      <td>1</td>\n",
              "      <td>0</td>\n",
              "      <td>1</td>\n",
              "      <td>0</td>\n",
              "      <td>1</td>\n",
              "      <td>0</td>\n",
              "      <td>0</td>\n",
              "      <td>1</td>\n",
              "    </tr>\n",
              "    <tr>\n",
              "      <th>1</th>\n",
              "      <td>data/img_align_celeba/img_align_celeba/000002.jpg</td>\n",
              "      <td>0</td>\n",
              "      <td>0</td>\n",
              "      <td>0</td>\n",
              "      <td>1</td>\n",
              "      <td>0</td>\n",
              "      <td>0</td>\n",
              "      <td>0</td>\n",
              "      <td>1</td>\n",
              "      <td>0</td>\n",
              "      <td>0</td>\n",
              "      <td>0</td>\n",
              "      <td>1</td>\n",
              "      <td>0</td>\n",
              "      <td>0</td>\n",
              "      <td>0</td>\n",
              "      <td>0</td>\n",
              "      <td>0</td>\n",
              "      <td>0</td>\n",
              "      <td>0</td>\n",
              "      <td>1</td>\n",
              "      <td>0</td>\n",
              "      <td>1</td>\n",
              "      <td>0</td>\n",
              "      <td>0</td>\n",
              "      <td>1</td>\n",
              "      <td>0</td>\n",
              "      <td>0</td>\n",
              "      <td>0</td>\n",
              "      <td>0</td>\n",
              "      <td>0</td>\n",
              "      <td>0</td>\n",
              "      <td>1</td>\n",
              "      <td>0</td>\n",
              "      <td>0</td>\n",
              "      <td>0</td>\n",
              "      <td>0</td>\n",
              "      <td>0</td>\n",
              "      <td>0</td>\n",
              "      <td>0</td>\n",
              "      <td>1</td>\n",
              "    </tr>\n",
              "    <tr>\n",
              "      <th>2</th>\n",
              "      <td>data/img_align_celeba/img_align_celeba/000003.jpg</td>\n",
              "      <td>0</td>\n",
              "      <td>0</td>\n",
              "      <td>0</td>\n",
              "      <td>0</td>\n",
              "      <td>0</td>\n",
              "      <td>0</td>\n",
              "      <td>1</td>\n",
              "      <td>0</td>\n",
              "      <td>0</td>\n",
              "      <td>0</td>\n",
              "      <td>1</td>\n",
              "      <td>0</td>\n",
              "      <td>0</td>\n",
              "      <td>0</td>\n",
              "      <td>0</td>\n",
              "      <td>0</td>\n",
              "      <td>0</td>\n",
              "      <td>0</td>\n",
              "      <td>0</td>\n",
              "      <td>0</td>\n",
              "      <td>1</td>\n",
              "      <td>0</td>\n",
              "      <td>0</td>\n",
              "      <td>1</td>\n",
              "      <td>1</td>\n",
              "      <td>0</td>\n",
              "      <td>0</td>\n",
              "      <td>1</td>\n",
              "      <td>0</td>\n",
              "      <td>0</td>\n",
              "      <td>0</td>\n",
              "      <td>0</td>\n",
              "      <td>0</td>\n",
              "      <td>1</td>\n",
              "      <td>0</td>\n",
              "      <td>0</td>\n",
              "      <td>0</td>\n",
              "      <td>0</td>\n",
              "      <td>0</td>\n",
              "      <td>1</td>\n",
              "    </tr>\n",
              "    <tr>\n",
              "      <th>3</th>\n",
              "      <td>data/img_align_celeba/img_align_celeba/000004.jpg</td>\n",
              "      <td>0</td>\n",
              "      <td>0</td>\n",
              "      <td>1</td>\n",
              "      <td>0</td>\n",
              "      <td>0</td>\n",
              "      <td>0</td>\n",
              "      <td>0</td>\n",
              "      <td>0</td>\n",
              "      <td>0</td>\n",
              "      <td>0</td>\n",
              "      <td>0</td>\n",
              "      <td>0</td>\n",
              "      <td>0</td>\n",
              "      <td>0</td>\n",
              "      <td>0</td>\n",
              "      <td>0</td>\n",
              "      <td>0</td>\n",
              "      <td>0</td>\n",
              "      <td>0</td>\n",
              "      <td>0</td>\n",
              "      <td>0</td>\n",
              "      <td>0</td>\n",
              "      <td>0</td>\n",
              "      <td>0</td>\n",
              "      <td>1</td>\n",
              "      <td>0</td>\n",
              "      <td>0</td>\n",
              "      <td>1</td>\n",
              "      <td>0</td>\n",
              "      <td>0</td>\n",
              "      <td>0</td>\n",
              "      <td>0</td>\n",
              "      <td>1</td>\n",
              "      <td>0</td>\n",
              "      <td>1</td>\n",
              "      <td>0</td>\n",
              "      <td>1</td>\n",
              "      <td>1</td>\n",
              "      <td>0</td>\n",
              "      <td>1</td>\n",
              "    </tr>\n",
              "    <tr>\n",
              "      <th>4</th>\n",
              "      <td>data/img_align_celeba/img_align_celeba/000005.jpg</td>\n",
              "      <td>0</td>\n",
              "      <td>1</td>\n",
              "      <td>1</td>\n",
              "      <td>0</td>\n",
              "      <td>0</td>\n",
              "      <td>0</td>\n",
              "      <td>1</td>\n",
              "      <td>0</td>\n",
              "      <td>0</td>\n",
              "      <td>0</td>\n",
              "      <td>0</td>\n",
              "      <td>0</td>\n",
              "      <td>0</td>\n",
              "      <td>0</td>\n",
              "      <td>0</td>\n",
              "      <td>0</td>\n",
              "      <td>0</td>\n",
              "      <td>0</td>\n",
              "      <td>1</td>\n",
              "      <td>0</td>\n",
              "      <td>0</td>\n",
              "      <td>0</td>\n",
              "      <td>0</td>\n",
              "      <td>1</td>\n",
              "      <td>1</td>\n",
              "      <td>0</td>\n",
              "      <td>0</td>\n",
              "      <td>1</td>\n",
              "      <td>0</td>\n",
              "      <td>0</td>\n",
              "      <td>0</td>\n",
              "      <td>0</td>\n",
              "      <td>0</td>\n",
              "      <td>0</td>\n",
              "      <td>0</td>\n",
              "      <td>0</td>\n",
              "      <td>1</td>\n",
              "      <td>0</td>\n",
              "      <td>0</td>\n",
              "      <td>1</td>\n",
              "    </tr>\n",
              "  </tbody>\n",
              "</table>\n",
              "</div>"
            ],
            "text/plain": [
              "                                            image_id  ...  Young\n",
              "0  data/img_align_celeba/img_align_celeba/000001.jpg  ...      1\n",
              "1  data/img_align_celeba/img_align_celeba/000002.jpg  ...      1\n",
              "2  data/img_align_celeba/img_align_celeba/000003.jpg  ...      1\n",
              "3  data/img_align_celeba/img_align_celeba/000004.jpg  ...      1\n",
              "4  data/img_align_celeba/img_align_celeba/000005.jpg  ...      1\n",
              "\n",
              "[5 rows x 41 columns]"
            ]
          },
          "metadata": {
            "tags": []
          },
          "execution_count": 6
        }
      ]
    },
    {
      "cell_type": "code",
      "metadata": {
        "colab": {
          "base_uri": "https://localhost:8080/"
        },
        "id": "33wPqBCWOMVD",
        "outputId": "4890860a-4c4e-4000-d8d9-df7f3f44db97"
      },
      "source": [
        "img=mpimg.imread(celebs[\"image_id\"][0])\n",
        "img.shape"
      ],
      "execution_count": 7,
      "outputs": [
        {
          "output_type": "execute_result",
          "data": {
            "text/plain": [
              "(218, 178, 3)"
            ]
          },
          "metadata": {
            "tags": []
          },
          "execution_count": 7
        }
      ]
    },
    {
      "cell_type": "code",
      "metadata": {
        "colab": {
          "base_uri": "https://localhost:8080/"
        },
        "id": "22R2UCSrOMhU",
        "outputId": "444b849b-6c6a-4877-91ab-5e4c22d9d25e"
      },
      "source": [
        "img_crop=img[20:198,:,:]\n",
        "img_crop.shape"
      ],
      "execution_count": null,
      "outputs": [
        {
          "output_type": "execute_result",
          "data": {
            "text/plain": [
              "(178, 178, 3)"
            ]
          },
          "metadata": {
            "tags": []
          },
          "execution_count": 8
        }
      ]
    },
    {
      "cell_type": "code",
      "metadata": {
        "colab": {
          "base_uri": "https://localhost:8080/",
          "height": 287
        },
        "id": "4p24FW-PPI-f",
        "outputId": "41b661c4-6f24-447c-ec96-a8279aeb7a2e"
      },
      "source": [
        "plt.imshow(img)"
      ],
      "execution_count": null,
      "outputs": [
        {
          "output_type": "execute_result",
          "data": {
            "text/plain": [
              "<matplotlib.image.AxesImage at 0x7f3138311f90>"
            ]
          },
          "metadata": {
            "tags": []
          },
          "execution_count": 9
        },
        {
          "output_type": "display_data",
          "data": {
            "image/png": "[encoded data removed]",
            "text/plain": [
              "<Figure size 432x288 with 1 Axes>"
            ]
          },
          "metadata": {
            "tags": [],
            "needs_background": "light"
          }
        }
      ]
    },
    {
      "cell_type": "code",
      "metadata": {
        "colab": {
          "base_uri": "https://localhost:8080/",
          "height": 287
        },
        "id": "JLoqAHNvPJHj",
        "outputId": "fb7cc709-9e4c-4f52-8527-50a730b1054f"
      },
      "source": [
        "plt.imshow(img_crop)"
      ],
      "execution_count": null,
      "outputs": [
        {
          "output_type": "execute_result",
          "data": {
            "text/plain": [
              "<matplotlib.image.AxesImage at 0x7f313891da10>"
            ]
          },
          "metadata": {
            "tags": []
          },
          "execution_count": 10
        },
        {
          "output_type": "display_data",
          "data": {
            "image/png": "[encoded data removed]",
            "text/plain": [
              "<Figure size 432x288 with 1 Axes>"
            ]
          },
          "metadata": {
            "tags": [],
            "needs_background": "light"
          }
        }
      ]
    },
    {
      "cell_type": "code",
      "metadata": {
        "id": "TgN4dIM3PJO5"
      },
      "source": [
        "my_list=[]\n",
        "for i in range(5000):\n",
        "    img=mpimg.imread(celebs[\"image_id\"][i])\n",
        "    img=img[20:198,:,:]\n",
        "    my_list.append(img/255)"
      ],
      "execution_count": 7,
      "outputs": []
    },
    {
      "cell_type": "code",
      "metadata": {
        "id": "YGL-78zZPJfy"
      },
      "source": [
        "y=celebs.loc[:4999,['Male', 'Young', 'Attractive', 'Smiling', 'Heavy_Makeup',\n",
        "                    'High_Cheekbones', 'Narrow_Eyes', 'Pale_Skin', 'Oval_Face', \n",
        "                    'Straight_Hair', 'Wavy_Hair', 'Bald', 'Black_Hair', 'Blond_Hair', 'Brown_Hair']]"
      ],
      "execution_count": 8,
      "outputs": []
    },
    {
      "cell_type": "code",
      "metadata": {
        "id": "XVGHLSbaPJsn"
      },
      "source": [
        "X_train, X_valid, y_train, y_valid = train_test_split(np.array(my_list), y, test_size=0.20, random_state=82)\n",
        "\n",
        "my_list=[]"
      ],
      "execution_count": 9,
      "outputs": []
    },
    {
      "cell_type": "code",
      "metadata": {
        "colab": {
          "base_uri": "https://localhost:8080/"
        },
        "id": "kOpW1wjNFs3H",
        "outputId": "a062fb1a-c233-4707-e57b-79836271d566"
      },
      "source": [
        "X_train.shape"
      ],
      "execution_count": null,
      "outputs": [
        {
          "output_type": "execute_result",
          "data": {
            "text/plain": [
              "(4000, 178, 178, 3)"
            ]
          },
          "metadata": {
            "tags": []
          },
          "execution_count": 14
        }
      ]
    },
    {
      "cell_type": "code",
      "metadata": {
        "id": "0WxuMUJcFs5m"
      },
      "source": [
        "# create test set\n",
        "new_list=[]\n",
        "for i in range(1000):\n",
        "    img=mpimg.imread(celebs[\"image_id\"][5000+i])\n",
        "    img=img[20:198,:,:]\n",
        "    new_list.append(img/255)\n",
        "\n",
        "X_test = np.array(new_list)\n",
        "\n",
        "new_list=[]\n",
        "\n",
        "y_test = celebs.loc[5000:5999,['Male', 'Young', 'Attractive', 'Smiling', 'Heavy_Makeup',\n",
        "                               'High_Cheekbones', 'Narrow_Eyes', 'Pale_Skin', 'Oval_Face', \n",
        "                               'Straight_Hair', 'Wavy_Hair', 'Bald', 'Black_Hair', 'Blond_Hair', 'Brown_Hair']]"
      ],
      "execution_count": 10,
      "outputs": []
    },
    {
      "cell_type": "code",
      "metadata": {
        "colab": {
          "base_uri": "https://localhost:8080/"
        },
        "id": "yCuEAqGQFs8U",
        "outputId": "e3e57b9c-e787-4d75-e15d-5c038053b699"
      },
      "source": [
        "X_test.shape"
      ],
      "execution_count": null,
      "outputs": [
        {
          "output_type": "execute_result",
          "data": {
            "text/plain": [
              "(1000, 178, 178, 3)"
            ]
          },
          "metadata": {
            "tags": []
          },
          "execution_count": 16
        }
      ]
    },
    {
      "cell_type": "code",
      "metadata": {
        "colab": {
          "base_uri": "https://localhost:8080/"
        },
        "id": "EEMwTW7gFs_X",
        "outputId": "fb671e7d-a4ef-4585-8447-b05a3a8441d4"
      },
      "source": [
        "y_test.shape"
      ],
      "execution_count": null,
      "outputs": [
        {
          "output_type": "execute_result",
          "data": {
            "text/plain": [
              "(1000, 15)"
            ]
          },
          "metadata": {
            "tags": []
          },
          "execution_count": 17
        }
      ]
    },
    {
      "cell_type": "markdown",
      "metadata": {
        "id": "RG55uUywUTxp"
      },
      "source": [
        "### Build Models for Binary Classification of several Facial Attributes"
      ]
    },
    {
      "cell_type": "code",
      "metadata": {
        "id": "JM7JV-TXXxy1"
      },
      "source": [
        "# Create checkpoint2 directory (if not exist) to store best models\n",
        "\n",
        "import os\n",
        "try:\n",
        "    os.mkdir('checkpoint2')\n",
        "except:\n",
        "    pass"
      ],
      "execution_count": null,
      "outputs": []
    },
    {
      "cell_type": "markdown",
      "metadata": {
        "id": "JD1uCi6wYAdg"
      },
      "source": [
        "#### Binary Classification for Attribute Male"
      ]
    },
    {
      "cell_type": "code",
      "metadata": {
        "colab": {
          "base_uri": "https://localhost:8080/"
        },
        "id": "qeGwcsExFtCs",
        "outputId": "07f34681-c1e9-4d32-fc77-044024da7520"
      },
      "source": [
        "# male_model to classify binaty attrubute \"male\"\n",
        "\n",
        "layer_male1 = keras.layers.Conv2D(32, 3, activation=\"relu\")\n",
        "layer_male2 = keras.layers.MaxPooling2D(2,2)\n",
        "layer_male3 = keras.layers.Conv2D(64, 3, activation=\"relu\")\n",
        "layer_male4 = keras.layers.MaxPooling2D(2,2)\n",
        "layer_male5 = keras.layers.Conv2D(128, 3, activation=\"relu\")\n",
        "layer_male6 = keras.layers.MaxPooling2D(2,2)\n",
        "layer_male7 = keras.layers.Conv2D(256, 3, activation=\"relu\")\n",
        "layer_male8 = keras.layers.MaxPooling2D(2,2)\n",
        "layer_male9 = keras.layers.Conv2D(512, 3, activation=\"relu\")\n",
        "layer_male10 = keras.layers.MaxPooling2D(2,2)\n",
        "layer_male11 = keras.layers.Flatten()\n",
        "layer_male12 = keras.layers.Dense(1000, activation=\"relu\")\n",
        "layer_male13 = keras.layers.Dense(256, activation=\"relu\")\n",
        "layer_male14 = keras.layers.Dense(2, activation=\"softmax\")\n",
        "\n",
        "male_model = keras.Sequential([keras.layers.Input(shape=(178, 178, 3)), layer_male1, layer_male2, layer_male3, layer_male4, layer_male5, \n",
        "                              layer_male6, layer_male7, layer_male8, layer_male9, layer_male10, layer_male11, layer_male12, \n",
        "                              layer_male13, layer_male14])\n",
        "\n",
        "male_model.summary()"
      ],
      "execution_count": null,
      "outputs": [
        {
          "output_type": "stream",
          "text": [
            "WARNING:tensorflow:Please add `keras.layers.InputLayer` instead of `keras.Input` to Sequential model. `keras.Input` is intended to be used by Functional model.\n",
            "Model: \"sequential_3\"\n",
            "_________________________________________________________________\n",
            "Layer (type)                 Output Shape              Param #   \n",
            "=================================================================\n",
            "conv2d_15 (Conv2D)           (None, 176, 176, 32)      896       \n",
            "_________________________________________________________________\n",
            "max_pooling2d_15 (MaxPooling (None, 88, 88, 32)        0         \n",
            "_________________________________________________________________\n",
            "conv2d_16 (Conv2D)           (None, 86, 86, 64)        18496     \n",
            "_________________________________________________________________\n",
            "max_pooling2d_16 (MaxPooling (None, 43, 43, 64)        0         \n",
            "_________________________________________________________________\n",
            "conv2d_17 (Conv2D)           (None, 41, 41, 128)       73856     \n",
            "_________________________________________________________________\n",
            "max_pooling2d_17 (MaxPooling (None, 20, 20, 128)       0         \n",
            "_________________________________________________________________\n",
            "conv2d_18 (Conv2D)           (None, 18, 18, 256)       295168    \n",
            "_________________________________________________________________\n",
            "max_pooling2d_18 (MaxPooling (None, 9, 9, 256)         0         \n",
            "_________________________________________________________________\n",
            "conv2d_19 (Conv2D)           (None, 7, 7, 512)         1180160   \n",
            "_________________________________________________________________\n",
            "max_pooling2d_19 (MaxPooling (None, 3, 3, 512)         0         \n",
            "_________________________________________________________________\n",
            "flatten_3 (Flatten)          (None, 4608)              0         \n",
            "_________________________________________________________________\n",
            "dense_9 (Dense)              (None, 1000)              4609000   \n",
            "_________________________________________________________________\n",
            "dense_10 (Dense)             (None, 256)               256256    \n",
            "_________________________________________________________________\n",
            "dense_11 (Dense)             (None, 2)                 514       \n",
            "=================================================================\n",
            "Total params: 6,434,346\n",
            "Trainable params: 6,434,346\n",
            "Non-trainable params: 0\n",
            "_________________________________________________________________\n"
          ],
          "name": "stdout"
        }
      ]
    },
    {
      "cell_type": "code",
      "metadata": {
        "id": "Y5P2oH68O1mF"
      },
      "source": [
        "# Create y_male train-validation-tests sets for classification task \"Male\"\n",
        "\n",
        "y_male_train=y_train[\"Male\"]\n",
        "y_male_valid=y_valid[\"Male\"]\n",
        "y_male_test=y_test[\"Male\"]"
      ],
      "execution_count": null,
      "outputs": []
    },
    {
      "cell_type": "code",
      "metadata": {
        "id": "ScMhqseCO1o4"
      },
      "source": [
        "# We specify the training configuration (optimizer, loss, metrics):\n",
        "male_model.compile(\n",
        "    optimizer=keras.optimizers.RMSprop(learning_rate=0.001),  \n",
        "    loss=keras.losses.SparseCategoricalCrossentropy(),\n",
        "    metrics=[keras.metrics.SparseCategoricalAccuracy()])"
      ],
      "execution_count": null,
      "outputs": []
    },
    {
      "cell_type": "code",
      "metadata": {
        "id": "LgFVtNjyO1sW"
      },
      "source": [
        "# Call_back to store best model\n",
        "file_name = 'best_model_male.h5'\n",
        "checkpoint_path= os.path.join('checkpoint2',file_name)\n",
        "\n",
        "call_back = tf.keras.callbacks.ModelCheckpoint(filepath=checkpoint_path, \n",
        "                                                 monitor='val_sparse_categorical_accuracy', \n",
        "                                                 verbose=1,\n",
        "                                                 save_freq='epoch',\n",
        "                                                 save_best_only=True, \n",
        "                                                 save_weights_only=False, \n",
        "                                                 mode='max')"
      ],
      "execution_count": null,
      "outputs": []
    },
    {
      "cell_type": "code",
      "metadata": {
        "colab": {
          "base_uri": "https://localhost:8080/"
        },
        "id": "03zgtpCyO12E",
        "outputId": "c6c30cf3-abf7-4e22-a2dd-7001046efbc6"
      },
      "source": [
        "# Fit model to training data - track through validation data\n",
        "print(\"Fit model on training data\")\n",
        "history = male_model.fit(\n",
        "    X_train,\n",
        "    y_male_train,\n",
        "    batch_size=128,\n",
        "    epochs=30,\n",
        "    validation_data=(X_valid, y_male_valid),\n",
        "    callbacks=call_back,\n",
        "    shuffle=True)"
      ],
      "execution_count": null,
      "outputs": [
        {
          "output_type": "stream",
          "text": [
            "Fit model on training data\n",
            "Epoch 1/30\n",
            "32/32 [==============================] - 6s 168ms/step - loss: 0.8889 - sparse_categorical_accuracy: 0.5650 - val_loss: 0.6811 - val_sparse_categorical_accuracy: 0.5870\n",
            "\n",
            "Epoch 00001: val_sparse_categorical_accuracy improved from -inf to 0.58700, saving model to checkpoint2/best_model_male.h5\n",
            "Epoch 2/30\n",
            "32/32 [==============================] - 5s 142ms/step - loss: 0.6993 - sparse_categorical_accuracy: 0.5830 - val_loss: 0.6909 - val_sparse_categorical_accuracy: 0.5400\n",
            "\n",
            "Epoch 00002: val_sparse_categorical_accuracy did not improve from 0.58700\n",
            "Epoch 3/30\n",
            "32/32 [==============================] - 4s 140ms/step - loss: 0.6591 - sparse_categorical_accuracy: 0.6110 - val_loss: 0.6148 - val_sparse_categorical_accuracy: 0.6250\n",
            "\n",
            "Epoch 00003: val_sparse_categorical_accuracy improved from 0.58700 to 0.62500, saving model to checkpoint2/best_model_male.h5\n",
            "Epoch 4/30\n",
            "32/32 [==============================] - 5s 143ms/step - loss: 0.5882 - sparse_categorical_accuracy: 0.6810 - val_loss: 0.5935 - val_sparse_categorical_accuracy: 0.7160\n",
            "\n",
            "Epoch 00004: val_sparse_categorical_accuracy improved from 0.62500 to 0.71600, saving model to checkpoint2/best_model_male.h5\n",
            "Epoch 5/30\n",
            "32/32 [==============================] - 5s 143ms/step - loss: 0.5207 - sparse_categorical_accuracy: 0.7535 - val_loss: 0.3751 - val_sparse_categorical_accuracy: 0.8430\n",
            "\n",
            "Epoch 00005: val_sparse_categorical_accuracy improved from 0.71600 to 0.84300, saving model to checkpoint2/best_model_male.h5\n",
            "Epoch 6/30\n",
            "32/32 [==============================] - 5s 141ms/step - loss: 0.3586 - sparse_categorical_accuracy: 0.8422 - val_loss: 0.3412 - val_sparse_categorical_accuracy: 0.8790\n",
            "\n",
            "Epoch 00006: val_sparse_categorical_accuracy improved from 0.84300 to 0.87900, saving model to checkpoint2/best_model_male.h5\n",
            "Epoch 7/30\n",
            "32/32 [==============================] - 4s 141ms/step - loss: 0.2938 - sparse_categorical_accuracy: 0.8758 - val_loss: 0.3111 - val_sparse_categorical_accuracy: 0.8980\n",
            "\n",
            "Epoch 00007: val_sparse_categorical_accuracy improved from 0.87900 to 0.89800, saving model to checkpoint2/best_model_male.h5\n",
            "Epoch 8/30\n",
            "32/32 [==============================] - 5s 141ms/step - loss: 0.2397 - sparse_categorical_accuracy: 0.9032 - val_loss: 2.8012 - val_sparse_categorical_accuracy: 0.5790\n",
            "\n",
            "Epoch 00008: val_sparse_categorical_accuracy did not improve from 0.89800\n",
            "Epoch 9/30\n",
            "32/32 [==============================] - 5s 142ms/step - loss: 0.2545 - sparse_categorical_accuracy: 0.9137 - val_loss: 0.2335 - val_sparse_categorical_accuracy: 0.9080\n",
            "\n",
            "Epoch 00009: val_sparse_categorical_accuracy improved from 0.89800 to 0.90800, saving model to checkpoint2/best_model_male.h5\n",
            "Epoch 10/30\n",
            "32/32 [==============================] - 4s 140ms/step - loss: 0.1626 - sparse_categorical_accuracy: 0.9373 - val_loss: 0.1995 - val_sparse_categorical_accuracy: 0.9250\n",
            "\n",
            "Epoch 00010: val_sparse_categorical_accuracy improved from 0.90800 to 0.92500, saving model to checkpoint2/best_model_male.h5\n",
            "Epoch 11/30\n",
            "32/32 [==============================] - 5s 141ms/step - loss: 0.1665 - sparse_categorical_accuracy: 0.9345 - val_loss: 0.3679 - val_sparse_categorical_accuracy: 0.8750\n",
            "\n",
            "Epoch 00011: val_sparse_categorical_accuracy did not improve from 0.92500\n",
            "Epoch 12/30\n",
            "32/32 [==============================] - 4s 141ms/step - loss: 0.1328 - sparse_categorical_accuracy: 0.9492 - val_loss: 0.1975 - val_sparse_categorical_accuracy: 0.9320\n",
            "\n",
            "Epoch 00012: val_sparse_categorical_accuracy improved from 0.92500 to 0.93200, saving model to checkpoint2/best_model_male.h5\n",
            "Epoch 13/30\n",
            "32/32 [==============================] - 4s 141ms/step - loss: 0.1085 - sparse_categorical_accuracy: 0.9592 - val_loss: 0.2847 - val_sparse_categorical_accuracy: 0.8940\n",
            "\n",
            "Epoch 00013: val_sparse_categorical_accuracy did not improve from 0.93200\n",
            "Epoch 14/30\n",
            "32/32 [==============================] - 4s 141ms/step - loss: 0.0930 - sparse_categorical_accuracy: 0.9630 - val_loss: 0.1934 - val_sparse_categorical_accuracy: 0.9420\n",
            "\n",
            "Epoch 00014: val_sparse_categorical_accuracy improved from 0.93200 to 0.94200, saving model to checkpoint2/best_model_male.h5\n",
            "Epoch 15/30\n",
            "32/32 [==============================] - 4s 140ms/step - loss: 0.0789 - sparse_categorical_accuracy: 0.9693 - val_loss: 0.2831 - val_sparse_categorical_accuracy: 0.9250\n",
            "\n",
            "Epoch 00015: val_sparse_categorical_accuracy did not improve from 0.94200\n",
            "Epoch 16/30\n",
            "32/32 [==============================] - 5s 142ms/step - loss: 0.0655 - sparse_categorical_accuracy: 0.9740 - val_loss: 0.4487 - val_sparse_categorical_accuracy: 0.9070\n",
            "\n",
            "Epoch 00016: val_sparse_categorical_accuracy did not improve from 0.94200\n",
            "Epoch 17/30\n",
            "32/32 [==============================] - 5s 143ms/step - loss: 0.0686 - sparse_categorical_accuracy: 0.9712 - val_loss: 0.3087 - val_sparse_categorical_accuracy: 0.8700\n",
            "\n",
            "Epoch 00017: val_sparse_categorical_accuracy did not improve from 0.94200\n",
            "Epoch 18/30\n",
            "32/32 [==============================] - 5s 142ms/step - loss: 0.0495 - sparse_categorical_accuracy: 0.9805 - val_loss: 0.2061 - val_sparse_categorical_accuracy: 0.9420\n",
            "\n",
            "Epoch 00018: val_sparse_categorical_accuracy did not improve from 0.94200\n",
            "Epoch 19/30\n",
            "32/32 [==============================] - 5s 141ms/step - loss: 0.0476 - sparse_categorical_accuracy: 0.9818 - val_loss: 0.2945 - val_sparse_categorical_accuracy: 0.9330\n",
            "\n",
            "Epoch 00019: val_sparse_categorical_accuracy did not improve from 0.94200\n",
            "Epoch 20/30\n",
            "32/32 [==============================] - 5s 142ms/step - loss: 0.0371 - sparse_categorical_accuracy: 0.9862 - val_loss: 0.2890 - val_sparse_categorical_accuracy: 0.9180\n",
            "\n",
            "Epoch 00020: val_sparse_categorical_accuracy did not improve from 0.94200\n",
            "Epoch 21/30\n",
            "32/32 [==============================] - 5s 143ms/step - loss: 0.0331 - sparse_categorical_accuracy: 0.9875 - val_loss: 0.4168 - val_sparse_categorical_accuracy: 0.9310\n",
            "\n",
            "Epoch 00021: val_sparse_categorical_accuracy did not improve from 0.94200\n",
            "Epoch 22/30\n",
            "32/32 [==============================] - 5s 141ms/step - loss: 0.0475 - sparse_categorical_accuracy: 0.9835 - val_loss: 0.3070 - val_sparse_categorical_accuracy: 0.9450\n",
            "\n",
            "Epoch 00022: val_sparse_categorical_accuracy improved from 0.94200 to 0.94500, saving model to checkpoint2/best_model_male.h5\n",
            "Epoch 23/30\n",
            "32/32 [==============================] - 5s 141ms/step - loss: 0.0395 - sparse_categorical_accuracy: 0.9880 - val_loss: 0.2894 - val_sparse_categorical_accuracy: 0.9330\n",
            "\n",
            "Epoch 00023: val_sparse_categorical_accuracy did not improve from 0.94500\n",
            "Epoch 24/30\n",
            "32/32 [==============================] - 5s 142ms/step - loss: 0.0189 - sparse_categorical_accuracy: 0.9935 - val_loss: 0.4553 - val_sparse_categorical_accuracy: 0.9520\n",
            "\n",
            "Epoch 00024: val_sparse_categorical_accuracy improved from 0.94500 to 0.95200, saving model to checkpoint2/best_model_male.h5\n",
            "Epoch 25/30\n",
            "32/32 [==============================] - 5s 141ms/step - loss: 0.0683 - sparse_categorical_accuracy: 0.9803 - val_loss: 0.3429 - val_sparse_categorical_accuracy: 0.9340\n",
            "\n",
            "Epoch 00025: val_sparse_categorical_accuracy did not improve from 0.95200\n",
            "Epoch 26/30\n",
            "32/32 [==============================] - 5s 141ms/step - loss: 0.0364 - sparse_categorical_accuracy: 0.9908 - val_loss: 0.4882 - val_sparse_categorical_accuracy: 0.9260\n",
            "\n",
            "Epoch 00026: val_sparse_categorical_accuracy did not improve from 0.95200\n",
            "Epoch 27/30\n",
            "32/32 [==============================] - 5s 142ms/step - loss: 0.0199 - sparse_categorical_accuracy: 0.9915 - val_loss: 0.4907 - val_sparse_categorical_accuracy: 0.9290\n",
            "\n",
            "Epoch 00027: val_sparse_categorical_accuracy did not improve from 0.95200\n",
            "Epoch 28/30\n",
            "32/32 [==============================] - 5s 142ms/step - loss: 0.0254 - sparse_categorical_accuracy: 0.9920 - val_loss: 0.3259 - val_sparse_categorical_accuracy: 0.9450\n",
            "\n",
            "Epoch 00028: val_sparse_categorical_accuracy did not improve from 0.95200\n",
            "Epoch 29/30\n",
            "32/32 [==============================] - 5s 141ms/step - loss: 0.1129 - sparse_categorical_accuracy: 0.9850 - val_loss: 0.3502 - val_sparse_categorical_accuracy: 0.9490\n",
            "\n",
            "Epoch 00029: val_sparse_categorical_accuracy did not improve from 0.95200\n",
            "Epoch 30/30\n",
            "32/32 [==============================] - 4s 139ms/step - loss: 0.0171 - sparse_categorical_accuracy: 0.9933 - val_loss: 0.3000 - val_sparse_categorical_accuracy: 0.9440\n",
            "\n",
            "Epoch 00030: val_sparse_categorical_accuracy did not improve from 0.95200\n"
          ],
          "name": "stdout"
        }
      ]
    },
    {
      "cell_type": "code",
      "metadata": {
        "colab": {
          "base_uri": "https://localhost:8080/"
        },
        "id": "DKVZMqdFO15E",
        "outputId": "e1362f25-ed5d-4246-aaaf-51dd6c808391"
      },
      "source": [
        "# Final Evaluation on test data\n",
        "\n",
        "male_model.load_weights(checkpoint_path)\n",
        "print(\"Evaluate on test data\")\n",
        "results = male_model.evaluate(X_test, y_male_test, batch_size=32)\n",
        "print(\"test loss, test acc:\", results)"
      ],
      "execution_count": null,
      "outputs": [
        {
          "output_type": "stream",
          "text": [
            "Evaluate on test data\n",
            "32/32 [==============================] - 1s 16ms/step - loss: 0.5444 - sparse_categorical_accuracy: 0.9340\n",
            "test loss, test acc: [0.544408917427063, 0.9340000152587891]\n"
          ],
          "name": "stdout"
        }
      ]
    },
    {
      "cell_type": "code",
      "metadata": {
        "colab": {
          "base_uri": "https://localhost:8080/",
          "height": 297
        },
        "id": "YYf9Bl2NwaHo",
        "outputId": "c2808c72-f789-463c-ad5a-1bc4960d1eac"
      },
      "source": [
        "pred = male_model.predict(X_test) \n",
        "y_pred = np.argmax(pred, axis = 1)\n",
        "cm=confusion_matrix(y_male_test, y_pred)\n",
        "disp = ConfusionMatrixDisplay(confusion_matrix=cm, display_labels=[\"Female\", \"Male\"])\n",
        "disp.plot() "
      ],
      "execution_count": null,
      "outputs": [
        {
          "output_type": "execute_result",
          "data": {
            "text/plain": [
              "<sklearn.metrics._plot.confusion_matrix.ConfusionMatrixDisplay at 0x7f26ee730810>"
            ]
          },
          "metadata": {
            "tags": []
          },
          "execution_count": 56
        },
        {
          "output_type": "display_data",
          "data": {
            "image/png": "[encoded data removed]",
            "text/plain": [
              "<Figure size 432x288 with 2 Axes>"
            ]
          },
          "metadata": {
            "tags": [],
            "needs_background": "light"
          }
        }
      ]
    },
    {
      "cell_type": "markdown",
      "metadata": {
        "id": "sADufevvcW48"
      },
      "source": [
        "#### Binary Classification for Attribute \"Young\""
      ]
    },
    {
      "cell_type": "code",
      "metadata": {
        "colab": {
          "base_uri": "https://localhost:8080/"
        },
        "id": "fDfVowEDO177",
        "outputId": "9485b5fa-2306-4e00-fe85-60d21c6e2b04"
      },
      "source": [
        "# young_model to classify binary attrubute \"young\"\n",
        "\n",
        "layer_young1 = keras.layers.Conv2D(32, 3, activation=\"relu\")\n",
        "layer_young2 = keras.layers.MaxPooling2D(2,2)\n",
        "layer_young3 = keras.layers.Conv2D(64, 3, activation=\"relu\")\n",
        "layer_youngd3 = keras.layers.Dropout(0.2)\n",
        "layer_young4 = keras.layers.MaxPooling2D(2,2)\n",
        "layer_young5 = keras.layers.Conv2D(128, 3, activation=\"relu\")\n",
        "layer_youngd5 = keras.layers.Dropout(0.2)\n",
        "layer_young6 = keras.layers.MaxPooling2D(2,2)\n",
        "layer_young7 = keras.layers.Conv2D(256, 3, activation=\"relu\")\n",
        "layer_youngd7 = keras.layers.Dropout(0.2)\n",
        "layer_young8 = keras.layers.MaxPooling2D(2,2)\n",
        "layer_young9 = keras.layers.Conv2D(512, 3, activation=\"relu\")\n",
        "layer_youngd9 = keras.layers.Dropout(0.2)\n",
        "layer_young10 = keras.layers.MaxPooling2D(2,2)\n",
        "layer_young11 = keras.layers.Flatten()\n",
        "layer_young12 = keras.layers.Dense(1000, activation=\"relu\")\n",
        "layer_youngd12 = keras.layers.Dropout(0.3)\n",
        "layer_young13 = keras.layers.Dense(256, activation=\"relu\")\n",
        "layer_youngd13 = keras.layers.Dropout(0.2)\n",
        "layer_young14 = keras.layers.Dense(2, activation=\"softmax\")\n",
        "\n",
        "young_model = keras.Sequential([keras.layers.Input(shape=(178, 178, 3)), layer_young1, layer_young2, layer_young3, layer_youngd3, layer_young4, \n",
        "                              layer_young5, layer_youngd5, layer_young6, layer_young7, layer_youngd7, layer_young8, layer_young9, layer_youngd9, \n",
        "                              layer_young10, layer_young11, layer_young12, layer_youngd12, layer_young13, layer_youngd13, layer_young14])\n",
        "\n",
        "young_model.summary()"
      ],
      "execution_count": null,
      "outputs": [
        {
          "output_type": "stream",
          "text": [
            "WARNING:tensorflow:Please add `keras.layers.InputLayer` instead of `keras.Input` to Sequential model. `keras.Input` is intended to be used by Functional model.\n",
            "Model: \"sequential_1\"\n",
            "_________________________________________________________________\n",
            "Layer (type)                 Output Shape              Param #   \n",
            "=================================================================\n",
            "conv2d_5 (Conv2D)            (None, 176, 176, 32)      896       \n",
            "_________________________________________________________________\n",
            "max_pooling2d_5 (MaxPooling2 (None, 88, 88, 32)        0         \n",
            "_________________________________________________________________\n",
            "conv2d_6 (Conv2D)            (None, 86, 86, 64)        18496     \n",
            "_________________________________________________________________\n",
            "dropout_6 (Dropout)          (None, 86, 86, 64)        0         \n",
            "_________________________________________________________________\n",
            "max_pooling2d_6 (MaxPooling2 (None, 43, 43, 64)        0         \n",
            "_________________________________________________________________\n",
            "conv2d_7 (Conv2D)            (None, 41, 41, 128)       73856     \n",
            "_________________________________________________________________\n",
            "dropout_7 (Dropout)          (None, 41, 41, 128)       0         \n",
            "_________________________________________________________________\n",
            "max_pooling2d_7 (MaxPooling2 (None, 20, 20, 128)       0         \n",
            "_________________________________________________________________\n",
            "conv2d_8 (Conv2D)            (None, 18, 18, 256)       295168    \n",
            "_________________________________________________________________\n",
            "dropout_8 (Dropout)          (None, 18, 18, 256)       0         \n",
            "_________________________________________________________________\n",
            "max_pooling2d_8 (MaxPooling2 (None, 9, 9, 256)         0         \n",
            "_________________________________________________________________\n",
            "conv2d_9 (Conv2D)            (None, 7, 7, 512)         1180160   \n",
            "_________________________________________________________________\n",
            "dropout_9 (Dropout)          (None, 7, 7, 512)         0         \n",
            "_________________________________________________________________\n",
            "max_pooling2d_9 (MaxPooling2 (None, 3, 3, 512)         0         \n",
            "_________________________________________________________________\n",
            "flatten_1 (Flatten)          (None, 4608)              0         \n",
            "_________________________________________________________________\n",
            "dense_3 (Dense)              (None, 1000)              4609000   \n",
            "_________________________________________________________________\n",
            "dropout_10 (Dropout)         (None, 1000)              0         \n",
            "_________________________________________________________________\n",
            "dense_4 (Dense)              (None, 256)               256256    \n",
            "_________________________________________________________________\n",
            "dropout_11 (Dropout)         (None, 256)               0         \n",
            "_________________________________________________________________\n",
            "dense_5 (Dense)              (None, 2)                 514       \n",
            "=================================================================\n",
            "Total params: 6,434,346\n",
            "Trainable params: 6,434,346\n",
            "Non-trainable params: 0\n",
            "_________________________________________________________________\n"
          ],
          "name": "stdout"
        }
      ]
    },
    {
      "cell_type": "code",
      "metadata": {
        "id": "-6zTDHR-dT7s"
      },
      "source": [
        "# Create y_young train-validation-tests sets for classification task \"Young\"\n",
        "\n",
        "y_young_train=y_train[\"Young\"]\n",
        "y_young_valid=y_valid[\"Young\"]\n",
        "y_young_test=y_test[\"Young\"]"
      ],
      "execution_count": null,
      "outputs": []
    },
    {
      "cell_type": "code",
      "metadata": {
        "id": "27J9KdvudUIr"
      },
      "source": [
        "# We specify the training configuration (optimizer, loss, metrics):\n",
        "young_model.compile(\n",
        "    optimizer=keras.optimizers.Adam(learning_rate=0.001),  \n",
        "    loss=keras.losses.SparseCategoricalCrossentropy(),\n",
        "    metrics=[keras.metrics.SparseCategoricalAccuracy()])"
      ],
      "execution_count": null,
      "outputs": []
    },
    {
      "cell_type": "code",
      "metadata": {
        "id": "jnjjKIAGcckM"
      },
      "source": [
        "# Call_back to store best model\n",
        "file_name = 'best_model_young.h5'\n",
        "checkpoint_path= os.path.join('checkpoint2',file_name)\n",
        "\n",
        "call_back = tf.keras.callbacks.ModelCheckpoint(filepath=checkpoint_path, \n",
        "                                                 monitor='val_sparse_categorical_accuracy', \n",
        "                                                 verbose=1,\n",
        "                                                 save_freq='epoch',\n",
        "                                                 save_best_only=True, \n",
        "                                                 save_weights_only=False, \n",
        "                                                 mode='max')"
      ],
      "execution_count": null,
      "outputs": []
    },
    {
      "cell_type": "code",
      "metadata": {
        "colab": {
          "base_uri": "https://localhost:8080/"
        },
        "id": "-CqfKx3kccnW",
        "outputId": "9c70c791-f477-4e54-e200-af8f85c15e90"
      },
      "source": [
        "# Fit model to training data - track through validation data\n",
        "print(\"Fit model on training data\")\n",
        "history = young_model.fit(\n",
        "    X_train,\n",
        "    y_young_train,\n",
        "    batch_size=64,\n",
        "    epochs=30,\n",
        "    validation_data=(X_valid, y_young_valid),\n",
        "    callbacks=call_back,\n",
        "    shuffle=True)"
      ],
      "execution_count": null,
      "outputs": [
        {
          "output_type": "stream",
          "text": [
            "Fit model on training data\n",
            "Epoch 1/30\n",
            "63/63 [==============================] - 40s 115ms/step - loss: 0.5760 - sparse_categorical_accuracy: 0.7843 - val_loss: 0.5765 - val_sparse_categorical_accuracy: 0.7690\n",
            "\n",
            "Epoch 00001: val_sparse_categorical_accuracy improved from -inf to 0.76900, saving model to checkpoint2/best_model_young.h5\n",
            "Epoch 2/30\n",
            "63/63 [==============================] - 6s 89ms/step - loss: 0.5155 - sparse_categorical_accuracy: 0.7860 - val_loss: 0.5260 - val_sparse_categorical_accuracy: 0.7690\n",
            "\n",
            "Epoch 00002: val_sparse_categorical_accuracy did not improve from 0.76900\n",
            "Epoch 3/30\n",
            "63/63 [==============================] - 6s 89ms/step - loss: 0.5021 - sparse_categorical_accuracy: 0.7860 - val_loss: 0.5161 - val_sparse_categorical_accuracy: 0.7690\n",
            "\n",
            "Epoch 00003: val_sparse_categorical_accuracy did not improve from 0.76900\n",
            "Epoch 4/30\n",
            "63/63 [==============================] - 6s 89ms/step - loss: 0.4865 - sparse_categorical_accuracy: 0.7860 - val_loss: 0.5154 - val_sparse_categorical_accuracy: 0.7690\n",
            "\n",
            "Epoch 00004: val_sparse_categorical_accuracy did not improve from 0.76900\n",
            "Epoch 5/30\n",
            "63/63 [==============================] - 6s 89ms/step - loss: 0.4664 - sparse_categorical_accuracy: 0.7905 - val_loss: 0.4860 - val_sparse_categorical_accuracy: 0.7760\n",
            "\n",
            "Epoch 00005: val_sparse_categorical_accuracy improved from 0.76900 to 0.77600, saving model to checkpoint2/best_model_young.h5\n",
            "Epoch 6/30\n",
            "63/63 [==============================] - 6s 90ms/step - loss: 0.4501 - sparse_categorical_accuracy: 0.8060 - val_loss: 0.4742 - val_sparse_categorical_accuracy: 0.7860\n",
            "\n",
            "Epoch 00006: val_sparse_categorical_accuracy improved from 0.77600 to 0.78600, saving model to checkpoint2/best_model_young.h5\n",
            "Epoch 7/30\n",
            "63/63 [==============================] - 6s 90ms/step - loss: 0.4283 - sparse_categorical_accuracy: 0.8140 - val_loss: 0.4548 - val_sparse_categorical_accuracy: 0.8140\n",
            "\n",
            "Epoch 00007: val_sparse_categorical_accuracy improved from 0.78600 to 0.81400, saving model to checkpoint2/best_model_young.h5\n",
            "Epoch 8/30\n",
            "63/63 [==============================] - 6s 90ms/step - loss: 0.4082 - sparse_categorical_accuracy: 0.8267 - val_loss: 0.4537 - val_sparse_categorical_accuracy: 0.8140\n",
            "\n",
            "Epoch 00008: val_sparse_categorical_accuracy did not improve from 0.81400\n",
            "Epoch 9/30\n",
            "63/63 [==============================] - 6s 91ms/step - loss: 0.3906 - sparse_categorical_accuracy: 0.8355 - val_loss: 0.4438 - val_sparse_categorical_accuracy: 0.8120\n",
            "\n",
            "Epoch 00009: val_sparse_categorical_accuracy did not improve from 0.81400\n",
            "Epoch 10/30\n",
            "63/63 [==============================] - 6s 90ms/step - loss: 0.3794 - sparse_categorical_accuracy: 0.8413 - val_loss: 0.4998 - val_sparse_categorical_accuracy: 0.8040\n",
            "\n",
            "Epoch 00010: val_sparse_categorical_accuracy did not improve from 0.81400\n",
            "Epoch 11/30\n",
            "63/63 [==============================] - 6s 89ms/step - loss: 0.3618 - sparse_categorical_accuracy: 0.8535 - val_loss: 0.4149 - val_sparse_categorical_accuracy: 0.8290\n",
            "\n",
            "Epoch 00011: val_sparse_categorical_accuracy improved from 0.81400 to 0.82900, saving model to checkpoint2/best_model_young.h5\n",
            "Epoch 12/30\n",
            "63/63 [==============================] - 6s 88ms/step - loss: 0.3564 - sparse_categorical_accuracy: 0.8503 - val_loss: 0.4493 - val_sparse_categorical_accuracy: 0.8270\n",
            "\n",
            "Epoch 00012: val_sparse_categorical_accuracy did not improve from 0.82900\n",
            "Epoch 13/30\n",
            "63/63 [==============================] - 6s 89ms/step - loss: 0.3254 - sparse_categorical_accuracy: 0.8668 - val_loss: 0.3979 - val_sparse_categorical_accuracy: 0.8260\n",
            "\n",
            "Epoch 00013: val_sparse_categorical_accuracy did not improve from 0.82900\n",
            "Epoch 14/30\n",
            "63/63 [==============================] - 6s 88ms/step - loss: 0.3148 - sparse_categorical_accuracy: 0.8705 - val_loss: 0.4001 - val_sparse_categorical_accuracy: 0.8410\n",
            "\n",
            "Epoch 00014: val_sparse_categorical_accuracy improved from 0.82900 to 0.84100, saving model to checkpoint2/best_model_young.h5\n",
            "Epoch 15/30\n",
            "63/63 [==============================] - 6s 89ms/step - loss: 0.3011 - sparse_categorical_accuracy: 0.8790 - val_loss: 0.4340 - val_sparse_categorical_accuracy: 0.8270\n",
            "\n",
            "Epoch 00015: val_sparse_categorical_accuracy did not improve from 0.84100\n",
            "Epoch 16/30\n",
            "63/63 [==============================] - 6s 89ms/step - loss: 0.2846 - sparse_categorical_accuracy: 0.8815 - val_loss: 0.4432 - val_sparse_categorical_accuracy: 0.8210\n",
            "\n",
            "Epoch 00016: val_sparse_categorical_accuracy did not improve from 0.84100\n",
            "Epoch 17/30\n",
            "63/63 [==============================] - 6s 88ms/step - loss: 0.2646 - sparse_categorical_accuracy: 0.8945 - val_loss: 0.4343 - val_sparse_categorical_accuracy: 0.8040\n",
            "\n",
            "Epoch 00017: val_sparse_categorical_accuracy did not improve from 0.84100\n",
            "Epoch 18/30\n",
            "63/63 [==============================] - 6s 88ms/step - loss: 0.2491 - sparse_categorical_accuracy: 0.8978 - val_loss: 0.4176 - val_sparse_categorical_accuracy: 0.8360\n",
            "\n",
            "Epoch 00018: val_sparse_categorical_accuracy did not improve from 0.84100\n",
            "Epoch 19/30\n",
            "63/63 [==============================] - 6s 89ms/step - loss: 0.2239 - sparse_categorical_accuracy: 0.9040 - val_loss: 0.4247 - val_sparse_categorical_accuracy: 0.8240\n",
            "\n",
            "Epoch 00019: val_sparse_categorical_accuracy did not improve from 0.84100\n",
            "Epoch 20/30\n",
            "63/63 [==============================] - 6s 89ms/step - loss: 0.2161 - sparse_categorical_accuracy: 0.9155 - val_loss: 0.4178 - val_sparse_categorical_accuracy: 0.8300\n",
            "\n",
            "Epoch 00020: val_sparse_categorical_accuracy did not improve from 0.84100\n",
            "Epoch 21/30\n",
            "63/63 [==============================] - 6s 93ms/step - loss: 0.1860 - sparse_categorical_accuracy: 0.9283 - val_loss: 0.4458 - val_sparse_categorical_accuracy: 0.8070\n",
            "\n",
            "Epoch 00021: val_sparse_categorical_accuracy did not improve from 0.84100\n",
            "Epoch 22/30\n",
            "63/63 [==============================] - 6s 89ms/step - loss: 0.1770 - sparse_categorical_accuracy: 0.9280 - val_loss: 0.4733 - val_sparse_categorical_accuracy: 0.8150\n",
            "\n",
            "Epoch 00022: val_sparse_categorical_accuracy did not improve from 0.84100\n",
            "Epoch 23/30\n",
            "63/63 [==============================] - 6s 89ms/step - loss: 0.1751 - sparse_categorical_accuracy: 0.9308 - val_loss: 0.4742 - val_sparse_categorical_accuracy: 0.8240\n",
            "\n",
            "Epoch 00023: val_sparse_categorical_accuracy did not improve from 0.84100\n",
            "Epoch 24/30\n",
            "63/63 [==============================] - 6s 89ms/step - loss: 0.1455 - sparse_categorical_accuracy: 0.9433 - val_loss: 0.4740 - val_sparse_categorical_accuracy: 0.8100\n",
            "\n",
            "Epoch 00024: val_sparse_categorical_accuracy did not improve from 0.84100\n",
            "Epoch 25/30\n",
            "63/63 [==============================] - 6s 89ms/step - loss: 0.1278 - sparse_categorical_accuracy: 0.9490 - val_loss: 0.4922 - val_sparse_categorical_accuracy: 0.8100\n",
            "\n",
            "Epoch 00025: val_sparse_categorical_accuracy did not improve from 0.84100\n",
            "Epoch 26/30\n",
            "63/63 [==============================] - 6s 89ms/step - loss: 0.1191 - sparse_categorical_accuracy: 0.9532 - val_loss: 0.4795 - val_sparse_categorical_accuracy: 0.8170\n",
            "\n",
            "Epoch 00026: val_sparse_categorical_accuracy did not improve from 0.84100\n",
            "Epoch 27/30\n",
            "63/63 [==============================] - 6s 89ms/step - loss: 0.1257 - sparse_categorical_accuracy: 0.9503 - val_loss: 0.4774 - val_sparse_categorical_accuracy: 0.8180\n",
            "\n",
            "Epoch 00027: val_sparse_categorical_accuracy did not improve from 0.84100\n",
            "Epoch 28/30\n",
            "63/63 [==============================] - 6s 88ms/step - loss: 0.1132 - sparse_categorical_accuracy: 0.9575 - val_loss: 0.5101 - val_sparse_categorical_accuracy: 0.7880\n",
            "\n",
            "Epoch 00028: val_sparse_categorical_accuracy did not improve from 0.84100\n",
            "Epoch 29/30\n",
            "63/63 [==============================] - 6s 88ms/step - loss: 0.1013 - sparse_categorical_accuracy: 0.9603 - val_loss: 0.5589 - val_sparse_categorical_accuracy: 0.7990\n",
            "\n",
            "Epoch 00029: val_sparse_categorical_accuracy did not improve from 0.84100\n",
            "Epoch 30/30\n",
            "63/63 [==============================] - 6s 88ms/step - loss: 0.0863 - sparse_categorical_accuracy: 0.9685 - val_loss: 0.5500 - val_sparse_categorical_accuracy: 0.8120\n",
            "\n",
            "Epoch 00030: val_sparse_categorical_accuracy did not improve from 0.84100\n"
          ],
          "name": "stdout"
        }
      ]
    },
    {
      "cell_type": "code",
      "metadata": {
        "colab": {
          "base_uri": "https://localhost:8080/"
        },
        "id": "G08q3tGRccqx",
        "outputId": "b1f41071-cc86-4e9f-fb5a-0bd9bb4649fb"
      },
      "source": [
        "# Final Evaluation on test data\n",
        "\n",
        "young_model.load_weights(checkpoint_path)\n",
        "print(\"Evaluate on test data\")\n",
        "results = young_model.evaluate(X_test, y_young_test, batch_size=32)\n",
        "print(\"test loss, test acc:\", results)"
      ],
      "execution_count": null,
      "outputs": [
        {
          "output_type": "stream",
          "text": [
            "Evaluate on test data\n",
            "32/32 [==============================] - 1s 23ms/step - loss: 0.4472 - sparse_categorical_accuracy: 0.8040\n",
            "test loss, test acc: [0.4471667408943176, 0.8040000200271606]\n"
          ],
          "name": "stdout"
        }
      ]
    },
    {
      "cell_type": "code",
      "metadata": {
        "colab": {
          "base_uri": "https://localhost:8080/",
          "height": 297
        },
        "id": "XltLTWK3zspa",
        "outputId": "eb6a0af9-0694-4ec8-a90a-603df10073e8"
      },
      "source": [
        "pred = young_model.predict(X_test) \n",
        "y_pred = np.argmax(pred, axis = 1)\n",
        "cm=confusion_matrix(y_young_test, y_pred)\n",
        "disp = ConfusionMatrixDisplay(confusion_matrix=cm, display_labels=[\"Old\", \"Young\"])\n",
        "disp.plot() "
      ],
      "execution_count": null,
      "outputs": [
        {
          "output_type": "execute_result",
          "data": {
            "text/plain": [
              "<sklearn.metrics._plot.confusion_matrix.ConfusionMatrixDisplay at 0x7f7dbbc7da90>"
            ]
          },
          "metadata": {
            "tags": []
          },
          "execution_count": 23
        },
        {
          "output_type": "display_data",
          "data": {
            "image/png": "[encoded data removed]",
            "text/plain": [
              "<Figure size 432x288 with 2 Axes>"
            ]
          },
          "metadata": {
            "tags": [],
            "needs_background": "light"
          }
        }
      ]
    },
    {
      "cell_type": "markdown",
      "metadata": {
        "id": "UTQ6RMlvh8in"
      },
      "source": [
        "#### Binary Classification for the Attribute \"Smiling\""
      ]
    },
    {
      "cell_type": "code",
      "metadata": {
        "colab": {
          "base_uri": "https://localhost:8080/"
        },
        "id": "0rBTnz8occyo",
        "outputId": "cecb2585-94a5-4a0f-996e-b99138cb9071"
      },
      "source": [
        "# smile_model to classify binaty attrubute \"Smiling\"\n",
        "\n",
        "layer_smile1 = keras.layers.Conv2D(32, 3, activation=\"relu\")\n",
        "layer_smile2 = keras.layers.MaxPooling2D(2,2)\n",
        "layer_smile3 = keras.layers.Conv2D(64, 3, activation=\"relu\")\n",
        "layer_smiled3 = keras.layers.Dropout(0.2)\n",
        "layer_smile4 = keras.layers.MaxPooling2D(2,2)\n",
        "layer_smile5 = keras.layers.Conv2D(128, 3, activation=\"relu\")\n",
        "layer_smiled5 = keras.layers.Dropout(0.2)\n",
        "layer_smile6 = keras.layers.MaxPooling2D(2,2)\n",
        "layer_smile7 = keras.layers.Conv2D(256, 3, activation=\"relu\")\n",
        "layer_smiled7 = keras.layers.Dropout(0.2)\n",
        "layer_smile8 = keras.layers.MaxPooling2D(2,2)\n",
        "layer_smile9 = keras.layers.Conv2D(512, 3, activation=\"relu\")\n",
        "layer_smiled9 = keras.layers.Dropout(0.2)\n",
        "layer_smile10 = keras.layers.MaxPooling2D(2,2)\n",
        "layer_smile11 = keras.layers.Flatten()\n",
        "layer_smile12 = keras.layers.Dense(1000, activation=\"relu\")\n",
        "layer_smiled12 = keras.layers.Dropout(0.3)\n",
        "layer_smile13 = keras.layers.Dense(256, activation=\"relu\")\n",
        "layer_smiled13 = keras.layers.Dropout(0.3)\n",
        "layer_smile14 = keras.layers.Dense(2, activation=\"softmax\")\n",
        "\n",
        "                            \n",
        "smile_model = keras.Sequential([keras.layers.Input(shape=(178, 178, 3)), layer_smile1, layer_smile2, layer_smile3, layer_smiled3, layer_smile4, \n",
        "                                layer_smile5, layer_smiled5, layer_smile6, layer_smile7,layer_smiled7, layer_smile8, layer_smile9,\n",
        "                                layer_smiled9, layer_smile10, layer_smile11, layer_smile12, layer_smiled12, layer_smile13, \n",
        "                                layer_smiled13, layer_smile14])\n",
        "\n",
        "smile_model.summary()"
      ],
      "execution_count": null,
      "outputs": [
        {
          "output_type": "stream",
          "text": [
            "WARNING:tensorflow:Please add `keras.layers.InputLayer` instead of `keras.Input` to Sequential model. `keras.Input` is intended to be used by Functional model.\n",
            "Model: \"sequential_2\"\n",
            "_________________________________________________________________\n",
            "Layer (type)                 Output Shape              Param #   \n",
            "=================================================================\n",
            "conv2d_10 (Conv2D)           (None, 176, 176, 32)      896       \n",
            "_________________________________________________________________\n",
            "max_pooling2d_10 (MaxPooling (None, 88, 88, 32)        0         \n",
            "_________________________________________________________________\n",
            "conv2d_11 (Conv2D)           (None, 86, 86, 64)        18496     \n",
            "_________________________________________________________________\n",
            "dropout_12 (Dropout)         (None, 86, 86, 64)        0         \n",
            "_________________________________________________________________\n",
            "max_pooling2d_11 (MaxPooling (None, 43, 43, 64)        0         \n",
            "_________________________________________________________________\n",
            "conv2d_12 (Conv2D)           (None, 41, 41, 128)       73856     \n",
            "_________________________________________________________________\n",
            "dropout_13 (Dropout)         (None, 41, 41, 128)       0         \n",
            "_________________________________________________________________\n",
            "max_pooling2d_12 (MaxPooling (None, 20, 20, 128)       0         \n",
            "_________________________________________________________________\n",
            "conv2d_13 (Conv2D)           (None, 18, 18, 256)       295168    \n",
            "_________________________________________________________________\n",
            "dropout_14 (Dropout)         (None, 18, 18, 256)       0         \n",
            "_________________________________________________________________\n",
            "max_pooling2d_13 (MaxPooling (None, 9, 9, 256)         0         \n",
            "_________________________________________________________________\n",
            "conv2d_14 (Conv2D)           (None, 7, 7, 512)         1180160   \n",
            "_________________________________________________________________\n",
            "dropout_15 (Dropout)         (None, 7, 7, 512)         0         \n",
            "_________________________________________________________________\n",
            "max_pooling2d_14 (MaxPooling (None, 3, 3, 512)         0         \n",
            "_________________________________________________________________\n",
            "flatten_2 (Flatten)          (None, 4608)              0         \n",
            "_________________________________________________________________\n",
            "dense_6 (Dense)              (None, 1000)              4609000   \n",
            "_________________________________________________________________\n",
            "dropout_16 (Dropout)         (None, 1000)              0         \n",
            "_________________________________________________________________\n",
            "dense_7 (Dense)              (None, 256)               256256    \n",
            "_________________________________________________________________\n",
            "dropout_17 (Dropout)         (None, 256)               0         \n",
            "_________________________________________________________________\n",
            "dense_8 (Dense)              (None, 2)                 514       \n",
            "=================================================================\n",
            "Total params: 6,434,346\n",
            "Trainable params: 6,434,346\n",
            "Non-trainable params: 0\n",
            "_________________________________________________________________\n"
          ],
          "name": "stdout"
        }
      ]
    },
    {
      "cell_type": "code",
      "metadata": {
        "id": "hyB7-99ecc6A"
      },
      "source": [
        "# Create y_smile train-validation-tests sets for classification task \"Smiling\"\n",
        "\n",
        "y_smile_train=y_train[\"Smiling\"]\n",
        "y_smile_valid=y_valid[\"Smiling\"]\n",
        "y_smile_test=y_test[\"Smiling\"]"
      ],
      "execution_count": null,
      "outputs": []
    },
    {
      "cell_type": "code",
      "metadata": {
        "id": "SFMtDoNOcdA3"
      },
      "source": [
        "# We specify the training configuration (optimizer, loss, metrics):\n",
        "smile_model.compile(\n",
        "    optimizer=keras.optimizers.RMSprop(learning_rate=0.001),  \n",
        "    loss=keras.losses.SparseCategoricalCrossentropy(),\n",
        "    metrics=[keras.metrics.SparseCategoricalAccuracy()])"
      ],
      "execution_count": null,
      "outputs": []
    },
    {
      "cell_type": "code",
      "metadata": {
        "id": "5hT-YZ-vcdIF"
      },
      "source": [
        "# Call_back to store best model\n",
        "file_name = 'best_model_smile.h5'\n",
        "checkpoint_path= os.path.join('checkpoint2',file_name)\n",
        "\n",
        "call_back = tf.keras.callbacks.ModelCheckpoint(filepath=checkpoint_path, \n",
        "                                                 monitor='val_sparse_categorical_accuracy', \n",
        "                                                 verbose=1,\n",
        "                                                 save_freq='epoch',\n",
        "                                                 save_best_only=True, \n",
        "                                                 save_weights_only=False, \n",
        "                                                 mode='max')"
      ],
      "execution_count": null,
      "outputs": []
    },
    {
      "cell_type": "code",
      "metadata": {
        "colab": {
          "base_uri": "https://localhost:8080/"
        },
        "id": "hWAbrSYMO1_M",
        "outputId": "0cb1759d-34b0-49bc-ab97-60a20251d26f"
      },
      "source": [
        "# Fit model to training data - track through validation data\n",
        "print(\"Fit model on training data\")\n",
        "history = smile_model.fit(\n",
        "    X_train,\n",
        "    y_smile_train,\n",
        "    batch_size=64,\n",
        "    epochs=30,\n",
        "    validation_data=(X_valid, y_smile_valid),\n",
        "    callbacks=call_back,\n",
        "    shuffle=True)"
      ],
      "execution_count": null,
      "outputs": [
        {
          "output_type": "stream",
          "text": [
            "Fit model on training data\n",
            "Epoch 1/30\n",
            "63/63 [==============================] - 8s 100ms/step - loss: 3.4485 - sparse_categorical_accuracy: 0.5117 - val_loss: 0.6930 - val_sparse_categorical_accuracy: 0.5080\n",
            "\n",
            "Epoch 00001: val_sparse_categorical_accuracy improved from -inf to 0.50800, saving model to checkpoint2/best_model_smile.h5\n",
            "Epoch 2/30\n",
            "63/63 [==============================] - 6s 91ms/step - loss: 0.7227 - sparse_categorical_accuracy: 0.5245 - val_loss: 0.6928 - val_sparse_categorical_accuracy: 0.5080\n",
            "\n",
            "Epoch 00002: val_sparse_categorical_accuracy did not improve from 0.50800\n",
            "Epoch 3/30\n",
            "63/63 [==============================] - 6s 91ms/step - loss: 0.7013 - sparse_categorical_accuracy: 0.5278 - val_loss: 0.6916 - val_sparse_categorical_accuracy: 0.5330\n",
            "\n",
            "Epoch 00003: val_sparse_categorical_accuracy improved from 0.50800 to 0.53300, saving model to checkpoint2/best_model_smile.h5\n",
            "Epoch 4/30\n",
            "63/63 [==============================] - 6s 91ms/step - loss: 0.7082 - sparse_categorical_accuracy: 0.5437 - val_loss: 0.6766 - val_sparse_categorical_accuracy: 0.5890\n",
            "\n",
            "Epoch 00004: val_sparse_categorical_accuracy improved from 0.53300 to 0.58900, saving model to checkpoint2/best_model_smile.h5\n",
            "Epoch 5/30\n",
            "63/63 [==============================] - 6s 91ms/step - loss: 0.7137 - sparse_categorical_accuracy: 0.5792 - val_loss: 0.7539 - val_sparse_categorical_accuracy: 0.5080\n",
            "\n",
            "Epoch 00005: val_sparse_categorical_accuracy did not improve from 0.58900\n",
            "Epoch 6/30\n",
            "63/63 [==============================] - 6s 90ms/step - loss: 0.6923 - sparse_categorical_accuracy: 0.6395 - val_loss: 0.6210 - val_sparse_categorical_accuracy: 0.6470\n",
            "\n",
            "Epoch 00006: val_sparse_categorical_accuracy improved from 0.58900 to 0.64700, saving model to checkpoint2/best_model_smile.h5\n",
            "Epoch 7/30\n",
            "63/63 [==============================] - 6s 90ms/step - loss: 0.5796 - sparse_categorical_accuracy: 0.6977 - val_loss: 0.6419 - val_sparse_categorical_accuracy: 0.5600\n",
            "\n",
            "Epoch 00007: val_sparse_categorical_accuracy did not improve from 0.64700\n",
            "Epoch 8/30\n",
            "63/63 [==============================] - 6s 90ms/step - loss: 0.4546 - sparse_categorical_accuracy: 0.7905 - val_loss: 0.3944 - val_sparse_categorical_accuracy: 0.8240\n",
            "\n",
            "Epoch 00008: val_sparse_categorical_accuracy improved from 0.64700 to 0.82400, saving model to checkpoint2/best_model_smile.h5\n",
            "Epoch 9/30\n",
            "63/63 [==============================] - 6s 91ms/step - loss: 0.3586 - sparse_categorical_accuracy: 0.8497 - val_loss: 0.4837 - val_sparse_categorical_accuracy: 0.8040\n",
            "\n",
            "Epoch 00009: val_sparse_categorical_accuracy did not improve from 0.82400\n",
            "Epoch 10/30\n",
            "63/63 [==============================] - 6s 91ms/step - loss: 0.3236 - sparse_categorical_accuracy: 0.8648 - val_loss: 0.3408 - val_sparse_categorical_accuracy: 0.8690\n",
            "\n",
            "Epoch 00010: val_sparse_categorical_accuracy improved from 0.82400 to 0.86900, saving model to checkpoint2/best_model_smile.h5\n",
            "Epoch 11/30\n",
            "63/63 [==============================] - 6s 90ms/step - loss: 0.2908 - sparse_categorical_accuracy: 0.8805 - val_loss: 0.4030 - val_sparse_categorical_accuracy: 0.8140\n",
            "\n",
            "Epoch 00011: val_sparse_categorical_accuracy did not improve from 0.86900\n",
            "Epoch 12/30\n",
            "63/63 [==============================] - 6s 90ms/step - loss: 0.2729 - sparse_categorical_accuracy: 0.8880 - val_loss: 0.2925 - val_sparse_categorical_accuracy: 0.8770\n",
            "\n",
            "Epoch 00012: val_sparse_categorical_accuracy improved from 0.86900 to 0.87700, saving model to checkpoint2/best_model_smile.h5\n",
            "Epoch 13/30\n",
            "63/63 [==============================] - 6s 91ms/step - loss: 0.2509 - sparse_categorical_accuracy: 0.8995 - val_loss: 0.3355 - val_sparse_categorical_accuracy: 0.8750\n",
            "\n",
            "Epoch 00013: val_sparse_categorical_accuracy did not improve from 0.87700\n",
            "Epoch 14/30\n",
            "63/63 [==============================] - 6s 90ms/step - loss: 0.2351 - sparse_categorical_accuracy: 0.9050 - val_loss: 0.2891 - val_sparse_categorical_accuracy: 0.8820\n",
            "\n",
            "Epoch 00014: val_sparse_categorical_accuracy improved from 0.87700 to 0.88200, saving model to checkpoint2/best_model_smile.h5\n",
            "Epoch 15/30\n",
            "63/63 [==============================] - 6s 91ms/step - loss: 0.2217 - sparse_categorical_accuracy: 0.9128 - val_loss: 0.3065 - val_sparse_categorical_accuracy: 0.8600\n",
            "\n",
            "Epoch 00015: val_sparse_categorical_accuracy did not improve from 0.88200\n",
            "Epoch 16/30\n",
            "63/63 [==============================] - 6s 91ms/step - loss: 0.2046 - sparse_categorical_accuracy: 0.9140 - val_loss: 0.2720 - val_sparse_categorical_accuracy: 0.8900\n",
            "\n",
            "Epoch 00016: val_sparse_categorical_accuracy improved from 0.88200 to 0.89000, saving model to checkpoint2/best_model_smile.h5\n",
            "Epoch 17/30\n",
            "63/63 [==============================] - 6s 91ms/step - loss: 0.1892 - sparse_categorical_accuracy: 0.9220 - val_loss: 0.2838 - val_sparse_categorical_accuracy: 0.8850\n",
            "\n",
            "Epoch 00017: val_sparse_categorical_accuracy did not improve from 0.89000\n",
            "Epoch 18/30\n",
            "63/63 [==============================] - 6s 91ms/step - loss: 0.1772 - sparse_categorical_accuracy: 0.9255 - val_loss: 0.2938 - val_sparse_categorical_accuracy: 0.8700\n",
            "\n",
            "Epoch 00018: val_sparse_categorical_accuracy did not improve from 0.89000\n",
            "Epoch 19/30\n",
            "63/63 [==============================] - 6s 91ms/step - loss: 0.1783 - sparse_categorical_accuracy: 0.9295 - val_loss: 0.4024 - val_sparse_categorical_accuracy: 0.8710\n",
            "\n",
            "Epoch 00019: val_sparse_categorical_accuracy did not improve from 0.89000\n",
            "Epoch 20/30\n",
            "63/63 [==============================] - 6s 91ms/step - loss: 0.1695 - sparse_categorical_accuracy: 0.9355 - val_loss: 0.2699 - val_sparse_categorical_accuracy: 0.8810\n",
            "\n",
            "Epoch 00020: val_sparse_categorical_accuracy did not improve from 0.89000\n",
            "Epoch 21/30\n",
            "63/63 [==============================] - 6s 91ms/step - loss: 0.1562 - sparse_categorical_accuracy: 0.9388 - val_loss: 0.3059 - val_sparse_categorical_accuracy: 0.8780\n",
            "\n",
            "Epoch 00021: val_sparse_categorical_accuracy did not improve from 0.89000\n",
            "Epoch 22/30\n",
            "63/63 [==============================] - 6s 92ms/step - loss: 0.1354 - sparse_categorical_accuracy: 0.9505 - val_loss: 0.4227 - val_sparse_categorical_accuracy: 0.8610\n",
            "\n",
            "Epoch 00022: val_sparse_categorical_accuracy did not improve from 0.89000\n",
            "Epoch 23/30\n",
            "63/63 [==============================] - 6s 91ms/step - loss: 0.1471 - sparse_categorical_accuracy: 0.9450 - val_loss: 0.3047 - val_sparse_categorical_accuracy: 0.8790\n",
            "\n",
            "Epoch 00023: val_sparse_categorical_accuracy did not improve from 0.89000\n",
            "Epoch 24/30\n",
            "63/63 [==============================] - 6s 91ms/step - loss: 0.1460 - sparse_categorical_accuracy: 0.9485 - val_loss: 0.3100 - val_sparse_categorical_accuracy: 0.8790\n",
            "\n",
            "Epoch 00024: val_sparse_categorical_accuracy did not improve from 0.89000\n",
            "Epoch 25/30\n",
            "63/63 [==============================] - 6s 91ms/step - loss: 0.1207 - sparse_categorical_accuracy: 0.9495 - val_loss: 0.3047 - val_sparse_categorical_accuracy: 0.8930\n",
            "\n",
            "Epoch 00025: val_sparse_categorical_accuracy improved from 0.89000 to 0.89300, saving model to checkpoint2/best_model_smile.h5\n",
            "Epoch 26/30\n",
            "63/63 [==============================] - 6s 91ms/step - loss: 0.1281 - sparse_categorical_accuracy: 0.9490 - val_loss: 0.3271 - val_sparse_categorical_accuracy: 0.8550\n",
            "\n",
            "Epoch 00026: val_sparse_categorical_accuracy did not improve from 0.89300\n",
            "Epoch 27/30\n",
            "63/63 [==============================] - 6s 91ms/step - loss: 0.1111 - sparse_categorical_accuracy: 0.9525 - val_loss: 0.3149 - val_sparse_categorical_accuracy: 0.8850\n",
            "\n",
            "Epoch 00027: val_sparse_categorical_accuracy did not improve from 0.89300\n",
            "Epoch 28/30\n",
            "63/63 [==============================] - 6s 91ms/step - loss: 0.1061 - sparse_categorical_accuracy: 0.9572 - val_loss: 0.3785 - val_sparse_categorical_accuracy: 0.8810\n",
            "\n",
            "Epoch 00028: val_sparse_categorical_accuracy did not improve from 0.89300\n",
            "Epoch 29/30\n",
            "63/63 [==============================] - 6s 91ms/step - loss: 0.1101 - sparse_categorical_accuracy: 0.9638 - val_loss: 0.4016 - val_sparse_categorical_accuracy: 0.8370\n",
            "\n",
            "Epoch 00029: val_sparse_categorical_accuracy did not improve from 0.89300\n",
            "Epoch 30/30\n",
            "63/63 [==============================] - 6s 91ms/step - loss: 0.1016 - sparse_categorical_accuracy: 0.9640 - val_loss: 0.5470 - val_sparse_categorical_accuracy: 0.8690\n",
            "\n",
            "Epoch 00030: val_sparse_categorical_accuracy did not improve from 0.89300\n"
          ],
          "name": "stdout"
        }
      ]
    },
    {
      "cell_type": "code",
      "metadata": {
        "colab": {
          "base_uri": "https://localhost:8080/"
        },
        "id": "6k33__SQhvg3",
        "outputId": "32be41a4-0f3c-458e-af60-2bcbf4132d30"
      },
      "source": [
        "# Final Evaluation on test data\n",
        "smile_model.load_weights(checkpoint_path)\n",
        "\n",
        "print(\"Evaluate on test data\")\n",
        "results = smile_model.evaluate(X_test, y_smile_test, batch_size=32)\n",
        "print(\"test loss, test acc:\", results)"
      ],
      "execution_count": null,
      "outputs": [
        {
          "output_type": "stream",
          "text": [
            "Evaluate on test data\n",
            "32/32 [==============================] - 1s 16ms/step - loss: 0.2569 - sparse_categorical_accuracy: 0.8870\n",
            "test loss, test acc: [0.2569214403629303, 0.8870000243186951]\n"
          ],
          "name": "stdout"
        }
      ]
    },
    {
      "cell_type": "code",
      "metadata": {
        "id": "FIbuOI1VO2Cc",
        "colab": {
          "base_uri": "https://localhost:8080/",
          "height": 297
        },
        "outputId": "cdbf709e-437c-4bfa-e815-fbabd942d053"
      },
      "source": [
        "pred = smile_model.predict(X_test) \n",
        "y_pred = np.argmax(pred, axis = 1)\n",
        "cm=confusion_matrix(y_smile_test, y_pred)\n",
        "disp = ConfusionMatrixDisplay(confusion_matrix=cm, display_labels=[\"No Smiling\", \"Smiling\"])\n",
        "disp.plot()"
      ],
      "execution_count": null,
      "outputs": [
        {
          "output_type": "execute_result",
          "data": {
            "text/plain": [
              "<sklearn.metrics._plot.confusion_matrix.ConfusionMatrixDisplay at 0x7f7dbb6e5bd0>"
            ]
          },
          "metadata": {
            "tags": []
          },
          "execution_count": 31
        },
        {
          "output_type": "display_data",
          "data": {
            "image/png": "[encoded data removed]",
            "text/plain": [
              "<Figure size 432x288 with 2 Axes>"
            ]
          },
          "metadata": {
            "tags": [],
            "needs_background": "light"
          }
        }
      ]
    },
    {
      "cell_type": "markdown",
      "metadata": {
        "id": "Z6mt8jnX2l6J"
      },
      "source": [
        "#### Binary Classification for Attribute \"Attractive\""
      ]
    },
    {
      "cell_type": "code",
      "metadata": {
        "colab": {
          "base_uri": "https://localhost:8080/"
        },
        "id": "pyO_ewkJhvlT",
        "outputId": "490c8665-6712-4c27-d5fd-a70bd6e659f0"
      },
      "source": [
        "# attr_model to classify binaty attribute \"Attractive\"\n",
        "\n",
        "layer_attr1 = keras.layers.Conv2D(32, 3, activation=\"relu\")\n",
        "layer_attr2 = keras.layers.MaxPooling2D(2,2)\n",
        "layer_attr3 = keras.layers.Conv2D(64, 3, activation=\"relu\")\n",
        "layer_attrd3 = keras.layers.Dropout(0.2)\n",
        "layer_attr4 = keras.layers.MaxPooling2D(2,2)\n",
        "layer_attr5 = keras.layers.Conv2D(128, 3, activation=\"relu\")\n",
        "layer_attrd5 = keras.layers.Dropout(0.2)\n",
        "layer_attr6 = keras.layers.MaxPooling2D(2,2)\n",
        "layer_attr7 = keras.layers.Conv2D(256, 3, activation=\"relu\")\n",
        "layer_attrd7 = keras.layers.Dropout(0.2)\n",
        "layer_attr8 = keras.layers.MaxPooling2D(2,2)\n",
        "layer_attr9 = keras.layers.Conv2D(512, 3, activation=\"relu\")\n",
        "layer_attrd9 = keras.layers.Dropout(0.2)\n",
        "layer_attr10 = keras.layers.MaxPooling2D(2,2)\n",
        "layer_attr11 = keras.layers.Flatten()\n",
        "layer_attr12 = keras.layers.Dense(1000, activation=\"relu\")\n",
        "layer_attrd12 = keras.layers.Dropout(0.3)\n",
        "layer_attr13 = keras.layers.Dense(256, activation=\"relu\")\n",
        "layer_attrd13 = keras.layers.Dropout(0.3)\n",
        "layer_attr14 = keras.layers.Dense(2, activation=\"softmax\")\n",
        "\n",
        "                            \n",
        "attr_model = keras.Sequential([keras.layers.Input(shape=(178, 178, 3)), layer_attr1, layer_attr2, layer_attr3, layer_attrd3, layer_attr4, \n",
        "                                layer_attr5, layer_attrd5, layer_attr6, layer_attr7,layer_attrd7, layer_attr8, layer_attr9,\n",
        "                                layer_attrd9, layer_attr10, layer_attr11, layer_attr12, layer_attrd12, layer_attr13, \n",
        "                                layer_attrd13, layer_attr14])\n",
        "\n",
        "attr_model.summary()"
      ],
      "execution_count": null,
      "outputs": [
        {
          "output_type": "stream",
          "text": [
            "WARNING:tensorflow:Please add `keras.layers.InputLayer` instead of `keras.Input` to Sequential model. `keras.Input` is intended to be used by Functional model.\n",
            "Model: \"sequential_1\"\n",
            "_________________________________________________________________\n",
            "Layer (type)                 Output Shape              Param #   \n",
            "=================================================================\n",
            "conv2d_5 (Conv2D)            (None, 176, 176, 32)      896       \n",
            "_________________________________________________________________\n",
            "max_pooling2d_5 (MaxPooling2 (None, 88, 88, 32)        0         \n",
            "_________________________________________________________________\n",
            "conv2d_6 (Conv2D)            (None, 86, 86, 64)        18496     \n",
            "_________________________________________________________________\n",
            "dropout_6 (Dropout)          (None, 86, 86, 64)        0         \n",
            "_________________________________________________________________\n",
            "max_pooling2d_6 (MaxPooling2 (None, 43, 43, 64)        0         \n",
            "_________________________________________________________________\n",
            "conv2d_7 (Conv2D)            (None, 41, 41, 128)       73856     \n",
            "_________________________________________________________________\n",
            "dropout_7 (Dropout)          (None, 41, 41, 128)       0         \n",
            "_________________________________________________________________\n",
            "max_pooling2d_7 (MaxPooling2 (None, 20, 20, 128)       0         \n",
            "_________________________________________________________________\n",
            "conv2d_8 (Conv2D)            (None, 18, 18, 256)       295168    \n",
            "_________________________________________________________________\n",
            "dropout_8 (Dropout)          (None, 18, 18, 256)       0         \n",
            "_________________________________________________________________\n",
            "max_pooling2d_8 (MaxPooling2 (None, 9, 9, 256)         0         \n",
            "_________________________________________________________________\n",
            "conv2d_9 (Conv2D)            (None, 7, 7, 512)         1180160   \n",
            "_________________________________________________________________\n",
            "dropout_9 (Dropout)          (None, 7, 7, 512)         0         \n",
            "_________________________________________________________________\n",
            "max_pooling2d_9 (MaxPooling2 (None, 3, 3, 512)         0         \n",
            "_________________________________________________________________\n",
            "flatten_1 (Flatten)          (None, 4608)              0         \n",
            "_________________________________________________________________\n",
            "dense_3 (Dense)              (None, 1000)              4609000   \n",
            "_________________________________________________________________\n",
            "dropout_10 (Dropout)         (None, 1000)              0         \n",
            "_________________________________________________________________\n",
            "dense_4 (Dense)              (None, 256)               256256    \n",
            "_________________________________________________________________\n",
            "dropout_11 (Dropout)         (None, 256)               0         \n",
            "_________________________________________________________________\n",
            "dense_5 (Dense)              (None, 2)                 514       \n",
            "=================================================================\n",
            "Total params: 6,434,346\n",
            "Trainable params: 6,434,346\n",
            "Non-trainable params: 0\n",
            "_________________________________________________________________\n"
          ],
          "name": "stdout"
        }
      ]
    },
    {
      "cell_type": "code",
      "metadata": {
        "id": "ViaaH6dlhvot"
      },
      "source": [
        "# Create y_attr train-validation-tests sets for classification task \"Attractive\"\n",
        "\n",
        "y_attr_train=y_train[\"Attractive\"]\n",
        "y_attr_valid=y_valid[\"Attractive\"]\n",
        "y_attr_test=y_test[\"Attractive\"]"
      ],
      "execution_count": null,
      "outputs": []
    },
    {
      "cell_type": "code",
      "metadata": {
        "id": "K6rq9bsQhvwv"
      },
      "source": [
        "# We specify the training configuration (optimizer, loss, metrics):\n",
        "attr_model.compile(\n",
        "    optimizer=keras.optimizers.Adam(learning_rate=0.001),  \n",
        "    loss=keras.losses.SparseCategoricalCrossentropy(),\n",
        "    metrics=[keras.metrics.SparseCategoricalAccuracy()])"
      ],
      "execution_count": null,
      "outputs": []
    },
    {
      "cell_type": "code",
      "metadata": {
        "id": "Ryfayfzhhv3y"
      },
      "source": [
        "# Call_back to store best model\n",
        "file_name = 'best_model_attr.h5'\n",
        "checkpoint_path= os.path.join('checkpoint2',file_name)\n",
        "\n",
        "call_back = tf.keras.callbacks.ModelCheckpoint(filepath=checkpoint_path, \n",
        "                                                 monitor='val_sparse_categorical_accuracy', \n",
        "                                                 verbose=1,\n",
        "                                                 save_freq='epoch',\n",
        "                                                 save_best_only=True, \n",
        "                                                 save_weights_only=False, \n",
        "                                                 mode='max')"
      ],
      "execution_count": null,
      "outputs": []
    },
    {
      "cell_type": "code",
      "metadata": {
        "colab": {
          "base_uri": "https://localhost:8080/"
        },
        "id": "BPXR1HKlhv_a",
        "outputId": "4909f3b0-a29a-426c-a957-88e0ccf9f37a"
      },
      "source": [
        "# Fit model to training data - track through validation data\n",
        "print(\"Fit model on training data\")\n",
        "history = attr_model.fit(\n",
        "    X_train,\n",
        "    y_attr_train,\n",
        "    batch_size=64,\n",
        "    epochs=30,\n",
        "    validation_data=(X_valid, y_attr_valid),\n",
        "    callbacks=call_back,\n",
        "    shuffle=True)"
      ],
      "execution_count": null,
      "outputs": [
        {
          "output_type": "stream",
          "text": [
            "Fit model on training data\n",
            "Epoch 1/30\n",
            "63/63 [==============================] - 40s 118ms/step - loss: 0.7069 - sparse_categorical_accuracy: 0.5160 - val_loss: 0.6826 - val_sparse_categorical_accuracy: 0.5150\n",
            "\n",
            "Epoch 00001: val_sparse_categorical_accuracy improved from -inf to 0.51500, saving model to checkpoint2/best_model_attr.h5\n",
            "Epoch 2/30\n",
            "63/63 [==============================] - 6s 89ms/step - loss: 0.6507 - sparse_categorical_accuracy: 0.6292 - val_loss: 0.6433 - val_sparse_categorical_accuracy: 0.6310\n",
            "\n",
            "Epoch 00002: val_sparse_categorical_accuracy improved from 0.51500 to 0.63100, saving model to checkpoint2/best_model_attr.h5\n",
            "Epoch 3/30\n",
            "63/63 [==============================] - 6s 89ms/step - loss: 0.6047 - sparse_categorical_accuracy: 0.6795 - val_loss: 0.6125 - val_sparse_categorical_accuracy: 0.6790\n",
            "\n",
            "Epoch 00003: val_sparse_categorical_accuracy improved from 0.63100 to 0.67900, saving model to checkpoint2/best_model_attr.h5\n",
            "Epoch 4/30\n",
            "63/63 [==============================] - 6s 90ms/step - loss: 0.5791 - sparse_categorical_accuracy: 0.6940 - val_loss: 0.5989 - val_sparse_categorical_accuracy: 0.7060\n",
            "\n",
            "Epoch 00004: val_sparse_categorical_accuracy improved from 0.67900 to 0.70600, saving model to checkpoint2/best_model_attr.h5\n",
            "Epoch 5/30\n",
            "63/63 [==============================] - 6s 90ms/step - loss: 0.5497 - sparse_categorical_accuracy: 0.7185 - val_loss: 0.5949 - val_sparse_categorical_accuracy: 0.6830\n",
            "\n",
            "Epoch 00005: val_sparse_categorical_accuracy did not improve from 0.70600\n",
            "Epoch 6/30\n",
            "63/63 [==============================] - 6s 90ms/step - loss: 0.5249 - sparse_categorical_accuracy: 0.7467 - val_loss: 0.5410 - val_sparse_categorical_accuracy: 0.7390\n",
            "\n",
            "Epoch 00006: val_sparse_categorical_accuracy improved from 0.70600 to 0.73900, saving model to checkpoint2/best_model_attr.h5\n",
            "Epoch 7/30\n",
            "63/63 [==============================] - 6s 89ms/step - loss: 0.5103 - sparse_categorical_accuracy: 0.7523 - val_loss: 0.5230 - val_sparse_categorical_accuracy: 0.7410\n",
            "\n",
            "Epoch 00007: val_sparse_categorical_accuracy improved from 0.73900 to 0.74100, saving model to checkpoint2/best_model_attr.h5\n",
            "Epoch 8/30\n",
            "63/63 [==============================] - 6s 90ms/step - loss: 0.4948 - sparse_categorical_accuracy: 0.7592 - val_loss: 0.5424 - val_sparse_categorical_accuracy: 0.7360\n",
            "\n",
            "Epoch 00008: val_sparse_categorical_accuracy did not improve from 0.74100\n",
            "Epoch 9/30\n",
            "63/63 [==============================] - 6s 89ms/step - loss: 0.4853 - sparse_categorical_accuracy: 0.7667 - val_loss: 0.4979 - val_sparse_categorical_accuracy: 0.7560\n",
            "\n",
            "Epoch 00009: val_sparse_categorical_accuracy improved from 0.74100 to 0.75600, saving model to checkpoint2/best_model_attr.h5\n",
            "Epoch 10/30\n",
            "63/63 [==============================] - 6s 89ms/step - loss: 0.4708 - sparse_categorical_accuracy: 0.7750 - val_loss: 0.5114 - val_sparse_categorical_accuracy: 0.7480\n",
            "\n",
            "Epoch 00010: val_sparse_categorical_accuracy did not improve from 0.75600\n",
            "Epoch 11/30\n",
            "63/63 [==============================] - 6s 88ms/step - loss: 0.4586 - sparse_categorical_accuracy: 0.7828 - val_loss: 0.5162 - val_sparse_categorical_accuracy: 0.7480\n",
            "\n",
            "Epoch 00011: val_sparse_categorical_accuracy did not improve from 0.75600\n",
            "Epoch 12/30\n",
            "63/63 [==============================] - 6s 89ms/step - loss: 0.4586 - sparse_categorical_accuracy: 0.7822 - val_loss: 0.5087 - val_sparse_categorical_accuracy: 0.7540\n",
            "\n",
            "Epoch 00012: val_sparse_categorical_accuracy did not improve from 0.75600\n",
            "Epoch 13/30\n",
            "63/63 [==============================] - 6s 89ms/step - loss: 0.4489 - sparse_categorical_accuracy: 0.7860 - val_loss: 0.4922 - val_sparse_categorical_accuracy: 0.7650\n",
            "\n",
            "Epoch 00013: val_sparse_categorical_accuracy improved from 0.75600 to 0.76500, saving model to checkpoint2/best_model_attr.h5\n",
            "Epoch 14/30\n",
            "63/63 [==============================] - 6s 89ms/step - loss: 0.4332 - sparse_categorical_accuracy: 0.7965 - val_loss: 0.5437 - val_sparse_categorical_accuracy: 0.7330\n",
            "\n",
            "Epoch 00014: val_sparse_categorical_accuracy did not improve from 0.76500\n",
            "Epoch 15/30\n",
            "63/63 [==============================] - 6s 89ms/step - loss: 0.4140 - sparse_categorical_accuracy: 0.8062 - val_loss: 0.5043 - val_sparse_categorical_accuracy: 0.7690\n",
            "\n",
            "Epoch 00015: val_sparse_categorical_accuracy improved from 0.76500 to 0.76900, saving model to checkpoint2/best_model_attr.h5\n",
            "Epoch 16/30\n",
            "63/63 [==============================] - 6s 88ms/step - loss: 0.4007 - sparse_categorical_accuracy: 0.8152 - val_loss: 0.5353 - val_sparse_categorical_accuracy: 0.7340\n",
            "\n",
            "Epoch 00016: val_sparse_categorical_accuracy did not improve from 0.76900\n",
            "Epoch 17/30\n",
            "63/63 [==============================] - 6s 88ms/step - loss: 0.3868 - sparse_categorical_accuracy: 0.8230 - val_loss: 0.4858 - val_sparse_categorical_accuracy: 0.7690\n",
            "\n",
            "Epoch 00017: val_sparse_categorical_accuracy did not improve from 0.76900\n",
            "Epoch 18/30\n",
            "63/63 [==============================] - 6s 89ms/step - loss: 0.3773 - sparse_categorical_accuracy: 0.8230 - val_loss: 0.5558 - val_sparse_categorical_accuracy: 0.7400\n",
            "\n",
            "Epoch 00018: val_sparse_categorical_accuracy did not improve from 0.76900\n",
            "Epoch 19/30\n",
            "63/63 [==============================] - 6s 88ms/step - loss: 0.3708 - sparse_categorical_accuracy: 0.8388 - val_loss: 0.5103 - val_sparse_categorical_accuracy: 0.7600\n",
            "\n",
            "Epoch 00019: val_sparse_categorical_accuracy did not improve from 0.76900\n",
            "Epoch 20/30\n",
            "63/63 [==============================] - 6s 89ms/step - loss: 0.3581 - sparse_categorical_accuracy: 0.8460 - val_loss: 0.5199 - val_sparse_categorical_accuracy: 0.7520\n",
            "\n",
            "Epoch 00020: val_sparse_categorical_accuracy did not improve from 0.76900\n",
            "Epoch 21/30\n",
            "63/63 [==============================] - 6s 89ms/step - loss: 0.3349 - sparse_categorical_accuracy: 0.8550 - val_loss: 0.6166 - val_sparse_categorical_accuracy: 0.7000\n",
            "\n",
            "Epoch 00021: val_sparse_categorical_accuracy did not improve from 0.76900\n",
            "Epoch 22/30\n",
            "63/63 [==============================] - 6s 89ms/step - loss: 0.3275 - sparse_categorical_accuracy: 0.8562 - val_loss: 0.5499 - val_sparse_categorical_accuracy: 0.7460\n",
            "\n",
            "Epoch 00022: val_sparse_categorical_accuracy did not improve from 0.76900\n",
            "Epoch 23/30\n",
            "63/63 [==============================] - 6s 89ms/step - loss: 0.3132 - sparse_categorical_accuracy: 0.8615 - val_loss: 0.6387 - val_sparse_categorical_accuracy: 0.7240\n",
            "\n",
            "Epoch 00023: val_sparse_categorical_accuracy did not improve from 0.76900\n",
            "Epoch 24/30\n",
            "63/63 [==============================] - 6s 89ms/step - loss: 0.2989 - sparse_categorical_accuracy: 0.8698 - val_loss: 0.5640 - val_sparse_categorical_accuracy: 0.7320\n",
            "\n",
            "Epoch 00024: val_sparse_categorical_accuracy did not improve from 0.76900\n",
            "Epoch 25/30\n",
            "63/63 [==============================] - 6s 89ms/step - loss: 0.2707 - sparse_categorical_accuracy: 0.8863 - val_loss: 0.5913 - val_sparse_categorical_accuracy: 0.7630\n",
            "\n",
            "Epoch 00025: val_sparse_categorical_accuracy did not improve from 0.76900\n",
            "Epoch 26/30\n",
            "63/63 [==============================] - 6s 89ms/step - loss: 0.2808 - sparse_categorical_accuracy: 0.8765 - val_loss: 0.5812 - val_sparse_categorical_accuracy: 0.7470\n",
            "\n",
            "Epoch 00026: val_sparse_categorical_accuracy did not improve from 0.76900\n",
            "Epoch 27/30\n",
            "63/63 [==============================] - 6s 89ms/step - loss: 0.2607 - sparse_categorical_accuracy: 0.8900 - val_loss: 0.5624 - val_sparse_categorical_accuracy: 0.7540\n",
            "\n",
            "Epoch 00027: val_sparse_categorical_accuracy did not improve from 0.76900\n",
            "Epoch 28/30\n",
            "63/63 [==============================] - 6s 88ms/step - loss: 0.2535 - sparse_categorical_accuracy: 0.8865 - val_loss: 0.5735 - val_sparse_categorical_accuracy: 0.7410\n",
            "\n",
            "Epoch 00028: val_sparse_categorical_accuracy did not improve from 0.76900\n",
            "Epoch 29/30\n",
            "63/63 [==============================] - 5s 87ms/step - loss: 0.2158 - sparse_categorical_accuracy: 0.9125 - val_loss: 0.5944 - val_sparse_categorical_accuracy: 0.7470\n",
            "\n",
            "Epoch 00029: val_sparse_categorical_accuracy did not improve from 0.76900\n",
            "Epoch 30/30\n",
            "63/63 [==============================] - 5s 87ms/step - loss: 0.2162 - sparse_categorical_accuracy: 0.9100 - val_loss: 0.6391 - val_sparse_categorical_accuracy: 0.7510\n",
            "\n",
            "Epoch 00030: val_sparse_categorical_accuracy did not improve from 0.76900\n"
          ],
          "name": "stdout"
        }
      ]
    },
    {
      "cell_type": "code",
      "metadata": {
        "colab": {
          "base_uri": "https://localhost:8080/"
        },
        "id": "0TTa2WvlhwJK",
        "outputId": "835e75fe-8c71-4bd3-a221-5f60a9e46afd"
      },
      "source": [
        "# Final Evaluation on test data\n",
        "attr_model.load_weights(checkpoint_path)\n",
        "\n",
        "print(\"Evaluate on test data\")\n",
        "results = attr_model.evaluate(X_test, y_attr_test, batch_size=32)\n",
        "print(\"test loss, test acc:\", results)"
      ],
      "execution_count": null,
      "outputs": [
        {
          "output_type": "stream",
          "text": [
            "Evaluate on test data\n",
            "32/32 [==============================] - 1s 28ms/step - loss: 0.5107 - sparse_categorical_accuracy: 0.7530\n",
            "test loss, test acc: [0.5106688737869263, 0.753000020980835]\n"
          ],
          "name": "stdout"
        }
      ]
    },
    {
      "cell_type": "code",
      "metadata": {
        "colab": {
          "base_uri": "https://localhost:8080/",
          "height": 297
        },
        "id": "CFt6B0tBhwSi",
        "outputId": "c6ea329e-40d9-4c84-8b0d-c9faa6e21eb4"
      },
      "source": [
        "pred = attr_model.predict(X_test) \n",
        "y_pred = np.argmax(pred, axis = 1)\n",
        "cm=confusion_matrix(y_attr_test, y_pred)\n",
        "disp = ConfusionMatrixDisplay(confusion_matrix=cm, display_labels=[\"Not Attractive\", \"Attractive\"])\n",
        "disp.plot()"
      ],
      "execution_count": null,
      "outputs": [
        {
          "output_type": "execute_result",
          "data": {
            "text/plain": [
              "<sklearn.metrics._plot.confusion_matrix.ConfusionMatrixDisplay at 0x7f321a7c1e90>"
            ]
          },
          "metadata": {
            "tags": []
          },
          "execution_count": 23
        },
        {
          "output_type": "display_data",
          "data": {
            "image/png": "[encoded data removed]",
            "text/plain": [
              "<Figure size 432x288 with 2 Axes>"
            ]
          },
          "metadata": {
            "tags": [],
            "needs_background": "light"
          }
        }
      ]
    },
    {
      "cell_type": "markdown",
      "metadata": {
        "id": "10Pq7hsn-G2m"
      },
      "source": [
        "#### Classification for attribute \"Heavy_Makeup\""
      ]
    },
    {
      "cell_type": "code",
      "metadata": {
        "colab": {
          "base_uri": "https://localhost:8080/"
        },
        "id": "hxYGXmg48jnE",
        "outputId": "d91f3aa4-2890-453c-ef3d-e688f5b8a2cd"
      },
      "source": [
        "# hm_model to classify binaty attribute \"Heavy_Makeup\"\n",
        "\n",
        "layer_hm1 = keras.layers.Conv2D(32, 3, activation=\"relu\")\n",
        "layer_hm2 = keras.layers.MaxPooling2D(2,2)\n",
        "layer_hm3 = keras.layers.Conv2D(64, 3, activation=\"relu\")\n",
        "layer_hmd3 = keras.layers.Dropout(0.2)\n",
        "layer_hm4 = keras.layers.MaxPooling2D(2,2)\n",
        "layer_hm5 = keras.layers.Conv2D(128, 3, activation=\"relu\")\n",
        "layer_hmd5 = keras.layers.Dropout(0.2)\n",
        "layer_hm6 = keras.layers.MaxPooling2D(2,2)\n",
        "layer_hm7 = keras.layers.Conv2D(256, 3, activation=\"relu\")\n",
        "layer_hmd7 = keras.layers.Dropout(0.2)\n",
        "layer_hm8 = keras.layers.MaxPooling2D(2,2)\n",
        "layer_hm9 = keras.layers.Conv2D(512, 3, activation=\"relu\")\n",
        "layer_hmd9 = keras.layers.Dropout(0.2)\n",
        "layer_hm10 = keras.layers.MaxPooling2D(2,2)\n",
        "layer_hm11 = keras.layers.Flatten()\n",
        "layer_hm12 = keras.layers.Dense(1000, activation=\"relu\")\n",
        "layer_hmd12 = keras.layers.Dropout(0.3)\n",
        "layer_hm13 = keras.layers.Dense(256, activation=\"relu\")\n",
        "layer_hmd13 = keras.layers.Dropout(0.3)\n",
        "layer_hm14 = keras.layers.Dense(2, activation=\"softmax\")\n",
        "\n",
        "inner_model = keras.Sequential([keras.layers.Input(shape=(178, 178, 3)), layer_hm1, layer_hm2, layer_hm3, layer_hmd3, layer_hm4, \n",
        "                                layer_hm5, layer_hmd5, layer_hm6, layer_hm7,layer_hmd7, layer_hm8, layer_hm9,\n",
        "                                layer_hmd9, layer_hm10, layer_hm11, layer_hm12])\n",
        "                            \n",
        "hm_model = keras.Sequential([keras.layers.Input(shape=(178, 178, 3)), inner_model, layer_hmd12, layer_hm13, \n",
        "                                layer_hmd13, layer_hm14])\n",
        "\n",
        "hm_model.summary()"
      ],
      "execution_count": 12,
      "outputs": [
        {
          "output_type": "stream",
          "text": [
            "WARNING:tensorflow:Please add `keras.layers.InputLayer` instead of `keras.Input` to Sequential model. `keras.Input` is intended to be used by Functional model.\n",
            "WARNING:tensorflow:Please add `keras.layers.InputLayer` instead of `keras.Input` to Sequential model. `keras.Input` is intended to be used by Functional model.\n",
            "Model: \"sequential_1\"\n",
            "_________________________________________________________________\n",
            "Layer (type)                 Output Shape              Param #   \n",
            "=================================================================\n",
            "sequential (Sequential)      (None, 1000)              6177576   \n",
            "_________________________________________________________________\n",
            "dropout_4 (Dropout)          (None, 1000)              0         \n",
            "_________________________________________________________________\n",
            "dense_1 (Dense)              (None, 256)               256256    \n",
            "_________________________________________________________________\n",
            "dropout_5 (Dropout)          (None, 256)               0         \n",
            "_________________________________________________________________\n",
            "dense_2 (Dense)              (None, 2)                 514       \n",
            "=================================================================\n",
            "Total params: 6,434,346\n",
            "Trainable params: 6,434,346\n",
            "Non-trainable params: 0\n",
            "_________________________________________________________________\n"
          ],
          "name": "stdout"
        }
      ]
    },
    {
      "cell_type": "code",
      "metadata": {
        "id": "QKkMWQYD9BoV"
      },
      "source": [
        "# Create y_hm train-validation-tests sets for classification task \"Heavy_Makeup\"\n",
        "\n",
        "y_hm_train=y_train[\"Heavy_Makeup\"]\n",
        "y_hm_valid=y_valid[\"Heavy_Makeup\"]\n",
        "y_hm_test=y_test[\"Heavy_Makeup\"]"
      ],
      "execution_count": 13,
      "outputs": []
    },
    {
      "cell_type": "code",
      "metadata": {
        "id": "6j8qi52g9Bs6"
      },
      "source": [
        "# We specify the training configuration (optimizer, loss, metrics):\n",
        "hm_model.compile(\n",
        "    optimizer=keras.optimizers.Adam(learning_rate=0.0001),  \n",
        "    loss=keras.losses.SparseCategoricalCrossentropy(),\n",
        "    metrics=[keras.metrics.SparseCategoricalAccuracy()])"
      ],
      "execution_count": 14,
      "outputs": []
    },
    {
      "cell_type": "code",
      "metadata": {
        "id": "9FPO7vD-9BwX"
      },
      "source": [
        "# Call_back to store best model\n",
        "file_name = 'best_model_hm.h5'\n",
        "checkpoint_path= os.path.join('checkpoint2',file_name)\n",
        "\n",
        "call_back = tf.keras.callbacks.ModelCheckpoint(filepath=checkpoint_path, \n",
        "                                                 monitor='val_sparse_categorical_accuracy', \n",
        "                                                 verbose=1,\n",
        "                                                 save_freq='epoch',\n",
        "                                                 save_best_only=True, \n",
        "                                                 save_weights_only=False, \n",
        "                                                 mode='max')"
      ],
      "execution_count": 15,
      "outputs": []
    },
    {
      "cell_type": "code",
      "metadata": {
        "colab": {
          "base_uri": "https://localhost:8080/"
        },
        "id": "XFWbky5T9B1w",
        "outputId": "e372f26f-6c70-4d3a-c83d-e3d0e5e8011c"
      },
      "source": [
        "# Fit model to training data - track through validation data\n",
        "print(\"Fit model on training data\")\n",
        "history = hm_model.fit(\n",
        "    X_train,\n",
        "    y_hm_train,\n",
        "    batch_size=64,\n",
        "    epochs=30,\n",
        "    validation_data=(X_valid, y_hm_valid),\n",
        "    callbacks=call_back,\n",
        "    shuffle=True)"
      ],
      "execution_count": 16,
      "outputs": [
        {
          "output_type": "stream",
          "text": [
            "Fit model on training data\n",
            "Epoch 1/30\n",
            "63/63 [==============================] - 40s 122ms/step - loss: 0.6439 - sparse_categorical_accuracy: 0.6227 - val_loss: 0.6350 - val_sparse_categorical_accuracy: 0.6930\n",
            "\n",
            "Epoch 00001: val_sparse_categorical_accuracy improved from -inf to 0.69300, saving model to checkpoint2/best_model_hm.h5\n",
            "Epoch 2/30\n",
            "63/63 [==============================] - 6s 93ms/step - loss: 0.5624 - sparse_categorical_accuracy: 0.7030 - val_loss: 0.5603 - val_sparse_categorical_accuracy: 0.7380\n",
            "\n",
            "Epoch 00002: val_sparse_categorical_accuracy improved from 0.69300 to 0.73800, saving model to checkpoint2/best_model_hm.h5\n",
            "Epoch 3/30\n",
            "63/63 [==============================] - 6s 94ms/step - loss: 0.5134 - sparse_categorical_accuracy: 0.7442 - val_loss: 0.5161 - val_sparse_categorical_accuracy: 0.7810\n",
            "\n",
            "Epoch 00003: val_sparse_categorical_accuracy improved from 0.73800 to 0.78100, saving model to checkpoint2/best_model_hm.h5\n",
            "Epoch 4/30\n",
            "63/63 [==============================] - 6s 95ms/step - loss: 0.4283 - sparse_categorical_accuracy: 0.8138 - val_loss: 0.4014 - val_sparse_categorical_accuracy: 0.8610\n",
            "\n",
            "Epoch 00004: val_sparse_categorical_accuracy improved from 0.78100 to 0.86100, saving model to checkpoint2/best_model_hm.h5\n",
            "Epoch 5/30\n",
            "63/63 [==============================] - 6s 95ms/step - loss: 0.3262 - sparse_categorical_accuracy: 0.8605 - val_loss: 0.3662 - val_sparse_categorical_accuracy: 0.8750\n",
            "\n",
            "Epoch 00005: val_sparse_categorical_accuracy improved from 0.86100 to 0.87500, saving model to checkpoint2/best_model_hm.h5\n",
            "Epoch 6/30\n",
            "63/63 [==============================] - 6s 95ms/step - loss: 0.2801 - sparse_categorical_accuracy: 0.8845 - val_loss: 0.3739 - val_sparse_categorical_accuracy: 0.8650\n",
            "\n",
            "Epoch 00006: val_sparse_categorical_accuracy did not improve from 0.87500\n",
            "Epoch 7/30\n",
            "63/63 [==============================] - 6s 96ms/step - loss: 0.2626 - sparse_categorical_accuracy: 0.8900 - val_loss: 0.2857 - val_sparse_categorical_accuracy: 0.8920\n",
            "\n",
            "Epoch 00007: val_sparse_categorical_accuracy improved from 0.87500 to 0.89200, saving model to checkpoint2/best_model_hm.h5\n",
            "Epoch 8/30\n",
            "63/63 [==============================] - 6s 95ms/step - loss: 0.2505 - sparse_categorical_accuracy: 0.9000 - val_loss: 0.3005 - val_sparse_categorical_accuracy: 0.8940\n",
            "\n",
            "Epoch 00008: val_sparse_categorical_accuracy improved from 0.89200 to 0.89400, saving model to checkpoint2/best_model_hm.h5\n",
            "Epoch 9/30\n",
            "63/63 [==============================] - 6s 95ms/step - loss: 0.2330 - sparse_categorical_accuracy: 0.9045 - val_loss: 0.2830 - val_sparse_categorical_accuracy: 0.9000\n",
            "\n",
            "Epoch 00009: val_sparse_categorical_accuracy improved from 0.89400 to 0.90000, saving model to checkpoint2/best_model_hm.h5\n",
            "Epoch 10/30\n",
            "63/63 [==============================] - 6s 95ms/step - loss: 0.2232 - sparse_categorical_accuracy: 0.9082 - val_loss: 0.2930 - val_sparse_categorical_accuracy: 0.8900\n",
            "\n",
            "Epoch 00010: val_sparse_categorical_accuracy did not improve from 0.90000\n",
            "Epoch 11/30\n",
            "63/63 [==============================] - 6s 95ms/step - loss: 0.2126 - sparse_categorical_accuracy: 0.9120 - val_loss: 0.2666 - val_sparse_categorical_accuracy: 0.9010\n",
            "\n",
            "Epoch 00011: val_sparse_categorical_accuracy improved from 0.90000 to 0.90100, saving model to checkpoint2/best_model_hm.h5\n",
            "Epoch 12/30\n",
            "63/63 [==============================] - 6s 94ms/step - loss: 0.1864 - sparse_categorical_accuracy: 0.9270 - val_loss: 0.2656 - val_sparse_categorical_accuracy: 0.8940\n",
            "\n",
            "Epoch 00012: val_sparse_categorical_accuracy did not improve from 0.90100\n",
            "Epoch 13/30\n",
            "63/63 [==============================] - 6s 94ms/step - loss: 0.1823 - sparse_categorical_accuracy: 0.9260 - val_loss: 0.2670 - val_sparse_categorical_accuracy: 0.8860\n",
            "\n",
            "Epoch 00013: val_sparse_categorical_accuracy did not improve from 0.90100\n",
            "Epoch 14/30\n",
            "63/63 [==============================] - 6s 95ms/step - loss: 0.1574 - sparse_categorical_accuracy: 0.9402 - val_loss: 0.2538 - val_sparse_categorical_accuracy: 0.9010\n",
            "\n",
            "Epoch 00014: val_sparse_categorical_accuracy did not improve from 0.90100\n",
            "Epoch 15/30\n",
            "63/63 [==============================] - 6s 94ms/step - loss: 0.1550 - sparse_categorical_accuracy: 0.9402 - val_loss: 0.2551 - val_sparse_categorical_accuracy: 0.9010\n",
            "\n",
            "Epoch 00015: val_sparse_categorical_accuracy did not improve from 0.90100\n",
            "Epoch 16/30\n",
            "63/63 [==============================] - 6s 95ms/step - loss: 0.1397 - sparse_categorical_accuracy: 0.9452 - val_loss: 0.2472 - val_sparse_categorical_accuracy: 0.9030\n",
            "\n",
            "Epoch 00016: val_sparse_categorical_accuracy improved from 0.90100 to 0.90300, saving model to checkpoint2/best_model_hm.h5\n",
            "Epoch 17/30\n",
            "63/63 [==============================] - 6s 93ms/step - loss: 0.1239 - sparse_categorical_accuracy: 0.9525 - val_loss: 0.2496 - val_sparse_categorical_accuracy: 0.8860\n",
            "\n",
            "Epoch 00017: val_sparse_categorical_accuracy did not improve from 0.90300\n",
            "Epoch 18/30\n",
            "63/63 [==============================] - 6s 95ms/step - loss: 0.1189 - sparse_categorical_accuracy: 0.9557 - val_loss: 0.2455 - val_sparse_categorical_accuracy: 0.8970\n",
            "\n",
            "Epoch 00018: val_sparse_categorical_accuracy did not improve from 0.90300\n",
            "Epoch 19/30\n",
            "63/63 [==============================] - 6s 95ms/step - loss: 0.0981 - sparse_categorical_accuracy: 0.9657 - val_loss: 0.2602 - val_sparse_categorical_accuracy: 0.8820\n",
            "\n",
            "Epoch 00019: val_sparse_categorical_accuracy did not improve from 0.90300\n",
            "Epoch 20/30\n",
            "63/63 [==============================] - 6s 95ms/step - loss: 0.1000 - sparse_categorical_accuracy: 0.9645 - val_loss: 0.2513 - val_sparse_categorical_accuracy: 0.8850\n",
            "\n",
            "Epoch 00020: val_sparse_categorical_accuracy did not improve from 0.90300\n",
            "Epoch 21/30\n",
            "63/63 [==============================] - 6s 96ms/step - loss: 0.0742 - sparse_categorical_accuracy: 0.9755 - val_loss: 0.2604 - val_sparse_categorical_accuracy: 0.8890\n",
            "\n",
            "Epoch 00021: val_sparse_categorical_accuracy did not improve from 0.90300\n",
            "Epoch 22/30\n",
            "63/63 [==============================] - 6s 95ms/step - loss: 0.0715 - sparse_categorical_accuracy: 0.9740 - val_loss: 0.2685 - val_sparse_categorical_accuracy: 0.8870\n",
            "\n",
            "Epoch 00022: val_sparse_categorical_accuracy did not improve from 0.90300\n",
            "Epoch 23/30\n",
            "63/63 [==============================] - 6s 95ms/step - loss: 0.0545 - sparse_categorical_accuracy: 0.9827 - val_loss: 0.2703 - val_sparse_categorical_accuracy: 0.8810\n",
            "\n",
            "Epoch 00023: val_sparse_categorical_accuracy did not improve from 0.90300\n",
            "Epoch 24/30\n",
            "63/63 [==============================] - 6s 95ms/step - loss: 0.0485 - sparse_categorical_accuracy: 0.9845 - val_loss: 0.2675 - val_sparse_categorical_accuracy: 0.8880\n",
            "\n",
            "Epoch 00024: val_sparse_categorical_accuracy did not improve from 0.90300\n",
            "Epoch 25/30\n",
            "63/63 [==============================] - 6s 95ms/step - loss: 0.0446 - sparse_categorical_accuracy: 0.9840 - val_loss: 0.2928 - val_sparse_categorical_accuracy: 0.8860\n",
            "\n",
            "Epoch 00025: val_sparse_categorical_accuracy did not improve from 0.90300\n",
            "Epoch 26/30\n",
            "63/63 [==============================] - 6s 95ms/step - loss: 0.0632 - sparse_categorical_accuracy: 0.9735 - val_loss: 0.2714 - val_sparse_categorical_accuracy: 0.8760\n",
            "\n",
            "Epoch 00026: val_sparse_categorical_accuracy did not improve from 0.90300\n",
            "Epoch 27/30\n",
            "63/63 [==============================] - 6s 95ms/step - loss: 0.0268 - sparse_categorical_accuracy: 0.9912 - val_loss: 0.3040 - val_sparse_categorical_accuracy: 0.8860\n",
            "\n",
            "Epoch 00027: val_sparse_categorical_accuracy did not improve from 0.90300\n",
            "Epoch 28/30\n",
            "63/63 [==============================] - 6s 94ms/step - loss: 0.0323 - sparse_categorical_accuracy: 0.9890 - val_loss: 0.2971 - val_sparse_categorical_accuracy: 0.8870\n",
            "\n",
            "Epoch 00028: val_sparse_categorical_accuracy did not improve from 0.90300\n",
            "Epoch 29/30\n",
            "63/63 [==============================] - 6s 95ms/step - loss: 0.0279 - sparse_categorical_accuracy: 0.9910 - val_loss: 0.2959 - val_sparse_categorical_accuracy: 0.8850\n",
            "\n",
            "Epoch 00029: val_sparse_categorical_accuracy did not improve from 0.90300\n",
            "Epoch 30/30\n",
            "63/63 [==============================] - 6s 95ms/step - loss: 0.0298 - sparse_categorical_accuracy: 0.9895 - val_loss: 0.3429 - val_sparse_categorical_accuracy: 0.8680\n",
            "\n",
            "Epoch 00030: val_sparse_categorical_accuracy did not improve from 0.90300\n"
          ],
          "name": "stdout"
        }
      ]
    },
    {
      "cell_type": "code",
      "metadata": {
        "id": "Ig7rgQ0Fp2eI"
      },
      "source": [
        "hm_model.load_weights(checkpoint_path)\n",
        "\n",
        "inner_model.trainable = False"
      ],
      "execution_count": 17,
      "outputs": []
    },
    {
      "cell_type": "code",
      "metadata": {
        "colab": {
          "base_uri": "https://localhost:8080/"
        },
        "id": "Z009CXuO9B7q",
        "outputId": "819a833a-6ca0-4f53-f20a-6b53f3a8d276"
      },
      "source": [
        "# Final Evaluation on test data\n",
        "\n",
        "print(\"Evaluate on test data\")\n",
        "results = hm_model.evaluate(X_test, y_hm_test, batch_size=32)\n",
        "print(\"test loss, test acc:\", results)"
      ],
      "execution_count": 18,
      "outputs": [
        {
          "output_type": "stream",
          "text": [
            "Evaluate on test data\n",
            "32/32 [==============================] - 1s 24ms/step - loss: 0.2750 - sparse_categorical_accuracy: 0.8850\n",
            "test loss, test acc: [0.2749992907047272, 0.8849999904632568]\n"
          ],
          "name": "stdout"
        }
      ]
    },
    {
      "cell_type": "code",
      "metadata": {
        "colab": {
          "base_uri": "https://localhost:8080/",
          "height": 297
        },
        "id": "oId4DS389B-8",
        "outputId": "353ccf9b-99b7-4ec8-d6c3-32c90056c1f9"
      },
      "source": [
        "pred = hm_model.predict(X_test) \n",
        "y_pred = np.argmax(pred, axis = 1)\n",
        "cm=confusion_matrix(y_hm_test, y_pred)\n",
        "disp = ConfusionMatrixDisplay(confusion_matrix=cm, display_labels=[\"No Heavy Makeup\", \"Heavy Makeup\"])\n",
        "disp.plot()"
      ],
      "execution_count": 19,
      "outputs": [
        {
          "output_type": "execute_result",
          "data": {
            "text/plain": [
              "<sklearn.metrics._plot.confusion_matrix.ConfusionMatrixDisplay at 0x7fe0d2070cd0>"
            ]
          },
          "metadata": {
            "tags": []
          },
          "execution_count": 19
        },
        {
          "output_type": "display_data",
          "data": {
            "image/png": "[encoded data removed]",
            "text/plain": [
              "<Figure size 432x288 with 2 Axes>"
            ]
          },
          "metadata": {
            "tags": [],
            "needs_background": "light"
          }
        }
      ]
    },
    {
      "cell_type": "code",
      "metadata": {
        "id": "1ybPOcqD9CFz"
      },
      "source": [
        "# \"Freeze\" model layers to by used for transfer learning\n",
        "#layer_hm1.trainable = False\n",
        "#layer_hm2.trainable = False\n",
        "#layer_hm3.trainable = False\n",
        "#layer_hmd3.trainable = False\n",
        "#layer_hm4.trainable = False\n",
        "#layer_hm5.trainable = False\n",
        "#layer_hmd5.trainable = False\n",
        "#layer_hm6.trainable = False\n",
        "#layer_hm7.trainable = False\n",
        "#layer_hmd7.trainable = False\n",
        "#layer_hm8.trainable = False\n",
        "#layer_hm9.trainable = False\n",
        "#layer_hmd9.trainable = False\n",
        "#layer_hm10.trainable = False\n",
        "#layer_hm11.trainable = False\n",
        "#layer_hm12.trainable = False\n",
        "#layer_hmd12.trainable = False\n",
        "\n",
        "#model.trainable = False  # Freeze the outer model\n",
        "#assert inner_model.trainable == False  # All layers in `model` are now frozen\n",
        "#assert inner_model.layers[0].trainable == False  # `trainable` is propagated recursively\n"
      ],
      "execution_count": null,
      "outputs": []
    },
    {
      "cell_type": "markdown",
      "metadata": {
        "id": "bY8ORx2lIJOB"
      },
      "source": [
        "### Transfer Learning "
      ]
    },
    {
      "cell_type": "code",
      "metadata": {
        "id": "4od-gQs29CQn"
      },
      "source": [
        "# Create y_ps train-validation-tests sets for classification task for \"High Cheekbones\" Attribute\n",
        "# transfer learning utilizing model trained for attribute \"Heavy_Makeup\"\n",
        "\n",
        "y_hc_train=y_train[\"High_Cheekbones\"]\n",
        "y_hc_valid=y_valid[\"High_Cheekbones\"]\n",
        "y_hc_test=y_test[\"High_Cheekbones\"]"
      ],
      "execution_count": 20,
      "outputs": []
    },
    {
      "cell_type": "code",
      "metadata": {
        "id": "K1n7ZMR18jqg",
        "colab": {
          "base_uri": "https://localhost:8080/"
        },
        "outputId": "a48457f0-3e96-410e-bcf6-b891d729f12f"
      },
      "source": [
        "# Build a model from the pre-trained layers of \"hm_model\" (inner model) and adding 2 Dense & 1 Prediction Layer\n",
        "\n",
        "inputs = keras.Input(shape=(178, 178, 3))\n",
        "x = inner_model(inputs, training=False)\n",
        "x = keras.layers.Dense(1000, activation=\"relu\")(x)\n",
        "x = keras.layers.Dense(512, activation=\"relu\")(x)\n",
        "x = keras.layers.Dense(64, activation=\"relu\")(x)\n",
        "predict = keras.layers.Dense(2, activation=\"softmax\")(x)\n",
        "tl_hc_model = keras.Model(inputs=inputs, outputs=predict)\n",
        "\n",
        "tl_hc_model.summary()"
      ],
      "execution_count": 21,
      "outputs": [
        {
          "output_type": "stream",
          "text": [
            "Model: \"model\"\n",
            "_________________________________________________________________\n",
            "Layer (type)                 Output Shape              Param #   \n",
            "=================================================================\n",
            "input_3 (InputLayer)         [(None, 178, 178, 3)]     0         \n",
            "_________________________________________________________________\n",
            "sequential (Sequential)      (None, 1000)              6177576   \n",
            "_________________________________________________________________\n",
            "dense_3 (Dense)              (None, 1000)              1001000   \n",
            "_________________________________________________________________\n",
            "dense_4 (Dense)              (None, 512)               512512    \n",
            "_________________________________________________________________\n",
            "dense_5 (Dense)              (None, 64)                32832     \n",
            "_________________________________________________________________\n",
            "dense_6 (Dense)              (None, 2)                 130       \n",
            "=================================================================\n",
            "Total params: 7,724,050\n",
            "Trainable params: 1,546,474\n",
            "Non-trainable params: 6,177,576\n",
            "_________________________________________________________________\n"
          ],
          "name": "stdout"
        }
      ]
    },
    {
      "cell_type": "code",
      "metadata": {
        "id": "vrcQhnv_-pLb",
        "colab": {
          "base_uri": "https://localhost:8080/"
        },
        "outputId": "bc49494c-1296-4143-8759-0d562d163171"
      },
      "source": [
        "inner_model.summary()"
      ],
      "execution_count": 22,
      "outputs": [
        {
          "output_type": "stream",
          "text": [
            "Model: \"sequential\"\n",
            "_________________________________________________________________\n",
            "Layer (type)                 Output Shape              Param #   \n",
            "=================================================================\n",
            "conv2d (Conv2D)              (None, 176, 176, 32)      896       \n",
            "_________________________________________________________________\n",
            "max_pooling2d (MaxPooling2D) (None, 88, 88, 32)        0         \n",
            "_________________________________________________________________\n",
            "conv2d_1 (Conv2D)            (None, 86, 86, 64)        18496     \n",
            "_________________________________________________________________\n",
            "dropout (Dropout)            (None, 86, 86, 64)        0         \n",
            "_________________________________________________________________\n",
            "max_pooling2d_1 (MaxPooling2 (None, 43, 43, 64)        0         \n",
            "_________________________________________________________________\n",
            "conv2d_2 (Conv2D)            (None, 41, 41, 128)       73856     \n",
            "_________________________________________________________________\n",
            "dropout_1 (Dropout)          (None, 41, 41, 128)       0         \n",
            "_________________________________________________________________\n",
            "max_pooling2d_2 (MaxPooling2 (None, 20, 20, 128)       0         \n",
            "_________________________________________________________________\n",
            "conv2d_3 (Conv2D)            (None, 18, 18, 256)       295168    \n",
            "_________________________________________________________________\n",
            "dropout_2 (Dropout)          (None, 18, 18, 256)       0         \n",
            "_________________________________________________________________\n",
            "max_pooling2d_3 (MaxPooling2 (None, 9, 9, 256)         0         \n",
            "_________________________________________________________________\n",
            "conv2d_4 (Conv2D)            (None, 7, 7, 512)         1180160   \n",
            "_________________________________________________________________\n",
            "dropout_3 (Dropout)          (None, 7, 7, 512)         0         \n",
            "_________________________________________________________________\n",
            "max_pooling2d_4 (MaxPooling2 (None, 3, 3, 512)         0         \n",
            "_________________________________________________________________\n",
            "flatten (Flatten)            (None, 4608)              0         \n",
            "_________________________________________________________________\n",
            "dense (Dense)                (None, 1000)              4609000   \n",
            "=================================================================\n",
            "Total params: 6,177,576\n",
            "Trainable params: 0\n",
            "Non-trainable params: 6,177,576\n",
            "_________________________________________________________________\n"
          ],
          "name": "stdout"
        }
      ]
    },
    {
      "cell_type": "code",
      "metadata": {
        "id": "AGwtWGU48jz4"
      },
      "source": [
        "# We specify the training configuration (optimizer, loss, metrics):\n",
        "tl_hc_model.compile(\n",
        "    optimizer=keras.optimizers.Adam(learning_rate=0.001),  \n",
        "    loss=keras.losses.SparseCategoricalCrossentropy(),\n",
        "    metrics=[keras.metrics.SparseCategoricalAccuracy()])"
      ],
      "execution_count": 23,
      "outputs": []
    },
    {
      "cell_type": "code",
      "metadata": {
        "id": "_dFHWc5g8j5u"
      },
      "source": [
        "# Call_back to store best model\n",
        "file_name = 'best_model_tl_hc.h5'\n",
        "checkpoint_path= os.path.join('checkpoint2',file_name)\n",
        "\n",
        "call_back = tf.keras.callbacks.ModelCheckpoint(filepath=checkpoint_path, \n",
        "                                                 monitor='val_sparse_categorical_accuracy', \n",
        "                                                 verbose=1,\n",
        "                                                 save_freq='epoch',\n",
        "                                                 save_best_only=True, \n",
        "                                                 save_weights_only=False, \n",
        "                                                 mode='max')"
      ],
      "execution_count": 24,
      "outputs": []
    },
    {
      "cell_type": "code",
      "metadata": {
        "id": "L7E20QcHIGhh",
        "colab": {
          "base_uri": "https://localhost:8080/"
        },
        "outputId": "7ba46704-97a7-4788-8506-244018f30854"
      },
      "source": [
        "# Fit model to training data - track through validation data\n",
        "print(\"Fit model on training data\")\n",
        "history = tl_hc_model.fit(\n",
        "    X_train,\n",
        "    y_hc_train,\n",
        "    batch_size=64,\n",
        "    epochs=50,\n",
        "    validation_data=(X_valid, y_hc_valid),\n",
        "    callbacks=call_back,\n",
        "    shuffle=True)"
      ],
      "execution_count": 25,
      "outputs": [
        {
          "output_type": "stream",
          "text": [
            "Fit model on training data\n",
            "Epoch 1/50\n",
            "63/63 [==============================] - 4s 49ms/step - loss: 0.6326 - sparse_categorical_accuracy: 0.6538 - val_loss: 0.6274 - val_sparse_categorical_accuracy: 0.6610\n",
            "\n",
            "Epoch 00001: val_sparse_categorical_accuracy improved from -inf to 0.66100, saving model to checkpoint2/best_model_tl_hc.h5\n",
            "Epoch 2/50\n",
            "63/63 [==============================] - 2s 38ms/step - loss: 0.6103 - sparse_categorical_accuracy: 0.6765 - val_loss: 0.6149 - val_sparse_categorical_accuracy: 0.6760\n",
            "\n",
            "Epoch 00002: val_sparse_categorical_accuracy improved from 0.66100 to 0.67600, saving model to checkpoint2/best_model_tl_hc.h5\n",
            "Epoch 3/50\n",
            "63/63 [==============================] - 2s 38ms/step - loss: 0.6038 - sparse_categorical_accuracy: 0.6827 - val_loss: 0.5866 - val_sparse_categorical_accuracy: 0.6920\n",
            "\n",
            "Epoch 00003: val_sparse_categorical_accuracy improved from 0.67600 to 0.69200, saving model to checkpoint2/best_model_tl_hc.h5\n",
            "Epoch 4/50\n",
            "63/63 [==============================] - 2s 39ms/step - loss: 0.5741 - sparse_categorical_accuracy: 0.7045 - val_loss: 0.5757 - val_sparse_categorical_accuracy: 0.6950\n",
            "\n",
            "Epoch 00004: val_sparse_categorical_accuracy improved from 0.69200 to 0.69500, saving model to checkpoint2/best_model_tl_hc.h5\n",
            "Epoch 5/50\n",
            "63/63 [==============================] - 2s 38ms/step - loss: 0.5437 - sparse_categorical_accuracy: 0.7265 - val_loss: 0.6906 - val_sparse_categorical_accuracy: 0.6440\n",
            "\n",
            "Epoch 00005: val_sparse_categorical_accuracy did not improve from 0.69500\n",
            "Epoch 6/50\n",
            "63/63 [==============================] - 2s 38ms/step - loss: 0.5308 - sparse_categorical_accuracy: 0.7437 - val_loss: 0.5425 - val_sparse_categorical_accuracy: 0.7320\n",
            "\n",
            "Epoch 00006: val_sparse_categorical_accuracy improved from 0.69500 to 0.73200, saving model to checkpoint2/best_model_tl_hc.h5\n",
            "Epoch 7/50\n",
            "63/63 [==============================] - 2s 38ms/step - loss: 0.5134 - sparse_categorical_accuracy: 0.7492 - val_loss: 0.5273 - val_sparse_categorical_accuracy: 0.7490\n",
            "\n",
            "Epoch 00007: val_sparse_categorical_accuracy improved from 0.73200 to 0.74900, saving model to checkpoint2/best_model_tl_hc.h5\n",
            "Epoch 8/50\n",
            "63/63 [==============================] - 2s 38ms/step - loss: 0.4897 - sparse_categorical_accuracy: 0.7713 - val_loss: 0.5026 - val_sparse_categorical_accuracy: 0.7650\n",
            "\n",
            "Epoch 00008: val_sparse_categorical_accuracy improved from 0.74900 to 0.76500, saving model to checkpoint2/best_model_tl_hc.h5\n",
            "Epoch 9/50\n",
            "63/63 [==============================] - 2s 39ms/step - loss: 0.4851 - sparse_categorical_accuracy: 0.7673 - val_loss: 0.5468 - val_sparse_categorical_accuracy: 0.7300\n",
            "\n",
            "Epoch 00009: val_sparse_categorical_accuracy did not improve from 0.76500\n",
            "Epoch 10/50\n",
            "63/63 [==============================] - 2s 39ms/step - loss: 0.4755 - sparse_categorical_accuracy: 0.7770 - val_loss: 0.5764 - val_sparse_categorical_accuracy: 0.7090\n",
            "\n",
            "Epoch 00010: val_sparse_categorical_accuracy did not improve from 0.76500\n",
            "Epoch 11/50\n",
            "63/63 [==============================] - 2s 40ms/step - loss: 0.4596 - sparse_categorical_accuracy: 0.7828 - val_loss: 0.5299 - val_sparse_categorical_accuracy: 0.7590\n",
            "\n",
            "Epoch 00011: val_sparse_categorical_accuracy did not improve from 0.76500\n",
            "Epoch 12/50\n",
            "63/63 [==============================] - 2s 38ms/step - loss: 0.4753 - sparse_categorical_accuracy: 0.7745 - val_loss: 0.4918 - val_sparse_categorical_accuracy: 0.7790\n",
            "\n",
            "Epoch 00012: val_sparse_categorical_accuracy improved from 0.76500 to 0.77900, saving model to checkpoint2/best_model_tl_hc.h5\n",
            "Epoch 13/50\n",
            "63/63 [==============================] - 2s 39ms/step - loss: 0.4755 - sparse_categorical_accuracy: 0.7715 - val_loss: 0.4844 - val_sparse_categorical_accuracy: 0.7810\n",
            "\n",
            "Epoch 00013: val_sparse_categorical_accuracy improved from 0.77900 to 0.78100, saving model to checkpoint2/best_model_tl_hc.h5\n",
            "Epoch 14/50\n",
            "63/63 [==============================] - 2s 39ms/step - loss: 0.4785 - sparse_categorical_accuracy: 0.7765 - val_loss: 0.5062 - val_sparse_categorical_accuracy: 0.7570\n",
            "\n",
            "Epoch 00014: val_sparse_categorical_accuracy did not improve from 0.78100\n",
            "Epoch 15/50\n",
            "63/63 [==============================] - 2s 38ms/step - loss: 0.4483 - sparse_categorical_accuracy: 0.7912 - val_loss: 0.4922 - val_sparse_categorical_accuracy: 0.7800\n",
            "\n",
            "Epoch 00015: val_sparse_categorical_accuracy did not improve from 0.78100\n",
            "Epoch 16/50\n",
            "63/63 [==============================] - 3s 41ms/step - loss: 0.4352 - sparse_categorical_accuracy: 0.7985 - val_loss: 0.5005 - val_sparse_categorical_accuracy: 0.7750\n",
            "\n",
            "Epoch 00016: val_sparse_categorical_accuracy did not improve from 0.78100\n",
            "Epoch 17/50\n",
            "63/63 [==============================] - 2s 38ms/step - loss: 0.4548 - sparse_categorical_accuracy: 0.7855 - val_loss: 0.6443 - val_sparse_categorical_accuracy: 0.6840\n",
            "\n",
            "Epoch 00017: val_sparse_categorical_accuracy did not improve from 0.78100\n",
            "Epoch 18/50\n",
            "63/63 [==============================] - 2s 39ms/step - loss: 0.4617 - sparse_categorical_accuracy: 0.7847 - val_loss: 0.5471 - val_sparse_categorical_accuracy: 0.7230\n",
            "\n",
            "Epoch 00018: val_sparse_categorical_accuracy did not improve from 0.78100\n",
            "Epoch 19/50\n",
            "63/63 [==============================] - 2s 38ms/step - loss: 0.4532 - sparse_categorical_accuracy: 0.7810 - val_loss: 0.5005 - val_sparse_categorical_accuracy: 0.7640\n",
            "\n",
            "Epoch 00019: val_sparse_categorical_accuracy did not improve from 0.78100\n",
            "Epoch 20/50\n",
            "63/63 [==============================] - 2s 38ms/step - loss: 0.4556 - sparse_categorical_accuracy: 0.7853 - val_loss: 0.5318 - val_sparse_categorical_accuracy: 0.7440\n",
            "\n",
            "Epoch 00020: val_sparse_categorical_accuracy did not improve from 0.78100\n",
            "Epoch 21/50\n",
            "63/63 [==============================] - 2s 39ms/step - loss: 0.4578 - sparse_categorical_accuracy: 0.7872 - val_loss: 0.5026 - val_sparse_categorical_accuracy: 0.7730\n",
            "\n",
            "Epoch 00021: val_sparse_categorical_accuracy did not improve from 0.78100\n",
            "Epoch 22/50\n",
            "63/63 [==============================] - 2s 38ms/step - loss: 0.4250 - sparse_categorical_accuracy: 0.8083 - val_loss: 0.4838 - val_sparse_categorical_accuracy: 0.7860\n",
            "\n",
            "Epoch 00022: val_sparse_categorical_accuracy improved from 0.78100 to 0.78600, saving model to checkpoint2/best_model_tl_hc.h5\n",
            "Epoch 23/50\n",
            "63/63 [==============================] - 2s 39ms/step - loss: 0.4319 - sparse_categorical_accuracy: 0.7980 - val_loss: 0.5148 - val_sparse_categorical_accuracy: 0.7590\n",
            "\n",
            "Epoch 00023: val_sparse_categorical_accuracy did not improve from 0.78600\n",
            "Epoch 24/50\n",
            "63/63 [==============================] - 2s 38ms/step - loss: 0.4121 - sparse_categorical_accuracy: 0.8177 - val_loss: 0.5250 - val_sparse_categorical_accuracy: 0.7700\n",
            "\n",
            "Epoch 00024: val_sparse_categorical_accuracy did not improve from 0.78600\n",
            "Epoch 25/50\n",
            "63/63 [==============================] - 3s 40ms/step - loss: 0.4139 - sparse_categorical_accuracy: 0.8167 - val_loss: 0.5549 - val_sparse_categorical_accuracy: 0.7470\n",
            "\n",
            "Epoch 00025: val_sparse_categorical_accuracy did not improve from 0.78600\n",
            "Epoch 26/50\n",
            "63/63 [==============================] - 3s 41ms/step - loss: 0.4132 - sparse_categorical_accuracy: 0.8108 - val_loss: 0.4722 - val_sparse_categorical_accuracy: 0.7850\n",
            "\n",
            "Epoch 00026: val_sparse_categorical_accuracy did not improve from 0.78600\n",
            "Epoch 27/50\n",
            "63/63 [==============================] - 2s 39ms/step - loss: 0.4045 - sparse_categorical_accuracy: 0.8202 - val_loss: 0.5263 - val_sparse_categorical_accuracy: 0.7410\n",
            "\n",
            "Epoch 00027: val_sparse_categorical_accuracy did not improve from 0.78600\n",
            "Epoch 28/50\n",
            "63/63 [==============================] - 2s 38ms/step - loss: 0.4080 - sparse_categorical_accuracy: 0.8160 - val_loss: 0.4902 - val_sparse_categorical_accuracy: 0.7850\n",
            "\n",
            "Epoch 00028: val_sparse_categorical_accuracy did not improve from 0.78600\n",
            "Epoch 29/50\n",
            "63/63 [==============================] - 2s 39ms/step - loss: 0.3941 - sparse_categorical_accuracy: 0.8270 - val_loss: 0.4917 - val_sparse_categorical_accuracy: 0.7830\n",
            "\n",
            "Epoch 00029: val_sparse_categorical_accuracy did not improve from 0.78600\n",
            "Epoch 30/50\n",
            "63/63 [==============================] - 2s 40ms/step - loss: 0.3966 - sparse_categorical_accuracy: 0.8183 - val_loss: 0.5024 - val_sparse_categorical_accuracy: 0.7850\n",
            "\n",
            "Epoch 00030: val_sparse_categorical_accuracy did not improve from 0.78600\n",
            "Epoch 31/50\n",
            "63/63 [==============================] - 2s 39ms/step - loss: 0.3926 - sparse_categorical_accuracy: 0.8255 - val_loss: 0.5877 - val_sparse_categorical_accuracy: 0.7260\n",
            "\n",
            "Epoch 00031: val_sparse_categorical_accuracy did not improve from 0.78600\n",
            "Epoch 32/50\n",
            "63/63 [==============================] - 2s 38ms/step - loss: 0.4029 - sparse_categorical_accuracy: 0.8138 - val_loss: 0.6320 - val_sparse_categorical_accuracy: 0.7290\n",
            "\n",
            "Epoch 00032: val_sparse_categorical_accuracy did not improve from 0.78600\n",
            "Epoch 33/50\n",
            "63/63 [==============================] - 2s 39ms/step - loss: 0.3911 - sparse_categorical_accuracy: 0.8235 - val_loss: 0.4863 - val_sparse_categorical_accuracy: 0.7810\n",
            "\n",
            "Epoch 00033: val_sparse_categorical_accuracy did not improve from 0.78600\n",
            "Epoch 34/50\n",
            "63/63 [==============================] - 2s 38ms/step - loss: 0.4028 - sparse_categorical_accuracy: 0.8220 - val_loss: 0.5187 - val_sparse_categorical_accuracy: 0.7820\n",
            "\n",
            "Epoch 00034: val_sparse_categorical_accuracy did not improve from 0.78600\n",
            "Epoch 35/50\n",
            "63/63 [==============================] - 2s 39ms/step - loss: 0.3815 - sparse_categorical_accuracy: 0.8330 - val_loss: 0.5187 - val_sparse_categorical_accuracy: 0.7830\n",
            "\n",
            "Epoch 00035: val_sparse_categorical_accuracy did not improve from 0.78600\n",
            "Epoch 36/50\n",
            "63/63 [==============================] - 2s 39ms/step - loss: 0.3582 - sparse_categorical_accuracy: 0.8405 - val_loss: 0.6318 - val_sparse_categorical_accuracy: 0.7270\n",
            "\n",
            "Epoch 00036: val_sparse_categorical_accuracy did not improve from 0.78600\n",
            "Epoch 37/50\n",
            "63/63 [==============================] - 2s 38ms/step - loss: 0.3824 - sparse_categorical_accuracy: 0.8255 - val_loss: 0.5409 - val_sparse_categorical_accuracy: 0.7720\n",
            "\n",
            "Epoch 00037: val_sparse_categorical_accuracy did not improve from 0.78600\n",
            "Epoch 38/50\n",
            "63/63 [==============================] - 2s 40ms/step - loss: 0.3823 - sparse_categorical_accuracy: 0.8298 - val_loss: 0.5387 - val_sparse_categorical_accuracy: 0.7480\n",
            "\n",
            "Epoch 00038: val_sparse_categorical_accuracy did not improve from 0.78600\n",
            "Epoch 39/50\n",
            "63/63 [==============================] - 2s 39ms/step - loss: 0.3810 - sparse_categorical_accuracy: 0.8317 - val_loss: 0.5166 - val_sparse_categorical_accuracy: 0.7810\n",
            "\n",
            "Epoch 00039: val_sparse_categorical_accuracy did not improve from 0.78600\n",
            "Epoch 40/50\n",
            "63/63 [==============================] - 2s 38ms/step - loss: 0.3602 - sparse_categorical_accuracy: 0.8415 - val_loss: 0.5053 - val_sparse_categorical_accuracy: 0.7830\n",
            "\n",
            "Epoch 00040: val_sparse_categorical_accuracy did not improve from 0.78600\n",
            "Epoch 41/50\n",
            "63/63 [==============================] - 3s 42ms/step - loss: 0.3600 - sparse_categorical_accuracy: 0.8468 - val_loss: 0.5628 - val_sparse_categorical_accuracy: 0.7690\n",
            "\n",
            "Epoch 00041: val_sparse_categorical_accuracy did not improve from 0.78600\n",
            "Epoch 42/50\n",
            "63/63 [==============================] - 2s 38ms/step - loss: 0.3462 - sparse_categorical_accuracy: 0.8462 - val_loss: 0.5322 - val_sparse_categorical_accuracy: 0.7720\n",
            "\n",
            "Epoch 00042: val_sparse_categorical_accuracy did not improve from 0.78600\n",
            "Epoch 43/50\n",
            "63/63 [==============================] - 2s 38ms/step - loss: 0.3400 - sparse_categorical_accuracy: 0.8575 - val_loss: 0.6061 - val_sparse_categorical_accuracy: 0.7470\n",
            "\n",
            "Epoch 00043: val_sparse_categorical_accuracy did not improve from 0.78600\n",
            "Epoch 44/50\n",
            "63/63 [==============================] - 2s 38ms/step - loss: 0.3424 - sparse_categorical_accuracy: 0.8505 - val_loss: 0.5608 - val_sparse_categorical_accuracy: 0.7660\n",
            "\n",
            "Epoch 00044: val_sparse_categorical_accuracy did not improve from 0.78600\n",
            "Epoch 45/50\n",
            "63/63 [==============================] - 2s 39ms/step - loss: 0.3345 - sparse_categorical_accuracy: 0.8555 - val_loss: 0.5403 - val_sparse_categorical_accuracy: 0.7790\n",
            "\n",
            "Epoch 00045: val_sparse_categorical_accuracy did not improve from 0.78600\n",
            "Epoch 46/50\n",
            "63/63 [==============================] - 2s 39ms/step - loss: 0.3600 - sparse_categorical_accuracy: 0.8420 - val_loss: 0.5513 - val_sparse_categorical_accuracy: 0.7360\n",
            "\n",
            "Epoch 00046: val_sparse_categorical_accuracy did not improve from 0.78600\n",
            "Epoch 47/50\n",
            "63/63 [==============================] - 2s 38ms/step - loss: 0.3313 - sparse_categorical_accuracy: 0.8562 - val_loss: 0.6244 - val_sparse_categorical_accuracy: 0.7490\n",
            "\n",
            "Epoch 00047: val_sparse_categorical_accuracy did not improve from 0.78600\n",
            "Epoch 48/50\n",
            "63/63 [==============================] - 2s 38ms/step - loss: 0.3484 - sparse_categorical_accuracy: 0.8490 - val_loss: 0.5591 - val_sparse_categorical_accuracy: 0.7810\n",
            "\n",
            "Epoch 00048: val_sparse_categorical_accuracy did not improve from 0.78600\n",
            "Epoch 49/50\n",
            "63/63 [==============================] - 2s 39ms/step - loss: 0.3146 - sparse_categorical_accuracy: 0.8702 - val_loss: 0.5504 - val_sparse_categorical_accuracy: 0.7830\n",
            "\n",
            "Epoch 00049: val_sparse_categorical_accuracy did not improve from 0.78600\n",
            "Epoch 50/50\n",
            "63/63 [==============================] - 2s 38ms/step - loss: 0.3310 - sparse_categorical_accuracy: 0.8608 - val_loss: 0.6308 - val_sparse_categorical_accuracy: 0.7440\n",
            "\n",
            "Epoch 00050: val_sparse_categorical_accuracy did not improve from 0.78600\n"
          ],
          "name": "stdout"
        }
      ]
    },
    {
      "cell_type": "code",
      "metadata": {
        "id": "rqkymvdDIGkk",
        "colab": {
          "base_uri": "https://localhost:8080/"
        },
        "outputId": "366ad797-351b-45bd-ed26-a86176b88a27"
      },
      "source": [
        "# Final Evaluation on test data\n",
        "tl_hc_model.load_weights(checkpoint_path)\n",
        "\n",
        "print(\"Evaluate on test data\")\n",
        "results = tl_hc_model.evaluate(X_test, y_hc_test, batch_size=32)\n",
        "print(\"test loss, test acc:\", results)"
      ],
      "execution_count": 26,
      "outputs": [
        {
          "output_type": "stream",
          "text": [
            "Evaluate on test data\n",
            "32/32 [==============================] - 1s 19ms/step - loss: 0.4923 - sparse_categorical_accuracy: 0.7650\n",
            "test loss, test acc: [0.4922548830509186, 0.7649999856948853]\n"
          ],
          "name": "stdout"
        }
      ]
    },
    {
      "cell_type": "code",
      "metadata": {
        "id": "rqRB_ZUlIGny",
        "colab": {
          "base_uri": "https://localhost:8080/",
          "height": 297
        },
        "outputId": "e072b871-8e3c-4519-df22-ac776ea65e04"
      },
      "source": [
        "pred = tl_hc_model.predict(X_test) \n",
        "y_pred = np.argmax(pred, axis = 1)\n",
        "cm=confusion_matrix(y_hc_test, y_pred)\n",
        "disp = ConfusionMatrixDisplay(confusion_matrix=cm, display_labels=[\"No High Cheekbones\", \"High Cheekbones\"])\n",
        "disp.plot()"
      ],
      "execution_count": 27,
      "outputs": [
        {
          "output_type": "execute_result",
          "data": {
            "text/plain": [
              "<sklearn.metrics._plot.confusion_matrix.ConfusionMatrixDisplay at 0x7fe0d1c6ee90>"
            ]
          },
          "metadata": {
            "tags": []
          },
          "execution_count": 27
        },
        {
          "output_type": "display_data",
          "data": {
            "image/png": "[encoded data removed]",
            "text/plain": [
              "<Figure size 432x288 with 2 Axes>"
            ]
          },
          "metadata": {
            "tags": [],
            "needs_background": "light"
          }
        }
      ]
    },
    {
      "cell_type": "markdown",
      "metadata": {
        "id": "1ZQPh-3LZycY"
      },
      "source": [
        "### Multi-task model (multiple outputs)"
      ]
    },
    {
      "cell_type": "code",
      "metadata": {
        "id": "Drzj1b9Bdcod"
      },
      "source": [
        "# Multi-output model to predict 3 attributes \"hair\"-related: \"Blond Hair\", \"Wavy Hair\", \"Bald\"\n",
        "\n",
        "# Create multiple y train-valid-test sets \n",
        "y_bh_train=y_train[\"Blond_Hair\"]\n",
        "y_bh_valid=y_valid[\"Blond_Hair\"]\n",
        "y_bh_test=y_test[\"Blond_Hair\"]\n",
        "\n",
        "y_wh_train=y_train[\"Wavy_Hair\"]\n",
        "y_wh_valid=y_valid[\"Wavy_Hair\"]\n",
        "y_wh_test=y_test[\"Wavy_Hair\"]\n",
        "\n",
        "y_b_train=y_train[\"Bald\"]\n",
        "y_b_valid=y_valid[\"Bald\"]\n",
        "y_b_test=y_test[\"Bald\"]"
      ],
      "execution_count": 11,
      "outputs": []
    },
    {
      "cell_type": "code",
      "metadata": {
        "id": "MY4GqqAPIGsP"
      },
      "source": [
        "# Develop the multi-task model (1 input, several common layers, 3 x 2 separate Dense layers & 3 outputs)\n",
        "\n",
        "inputs = keras.Input(shape=(178, 178, 3))\n",
        "\n",
        "Conv1 = keras.layers.Conv2D(32, 3, activation=\"relu\")\n",
        "x = Conv1(inputs)\n",
        "x = layers.MaxPooling2D(2,2)(x)\n",
        "x = layers.Conv2D(64, 3, activation=\"relu\")(x)\n",
        "x = layers.MaxPooling2D(2,2)(x)\n",
        "x = layers.Conv2D(128, 3, activation=\"relu\")(x)\n",
        "x = layers.MaxPooling2D(2,2)(x)\n",
        "x = layers.Conv2D(256, 3, activation=\"relu\")(x)\n",
        "x = layers.MaxPooling2D(2,2)(x)\n",
        "x = layers.Flatten()(x)\n",
        "x = layers.Dense(1000, activation=\"relu\")(x)\n",
        "\n",
        "dense_attr11 = layers.Dense(512, activation=\"relu\")(x)\n",
        "dense_attr21 = layers.Dense(512, activation=\"relu\")(x)\n",
        "dense_attr31 = layers.Dense(512, activation=\"relu\")(x)\n",
        "\n",
        "dense_attr12 = layers.Dense(128, activation=\"relu\")(dense_attr11)\n",
        "dense_attr22 = layers.Dense(128, activation=\"relu\")(dense_attr21)\n",
        "dense_attr32 = layers.Dense(128, activation=\"relu\")(dense_attr31)\n",
        "\n",
        "predict_attr1 = keras.layers.Dense(2, activation=\"softmax\", name=\"blond\")(dense_attr12)\n",
        "predict_attr2 = keras.layers.Dense(2, activation=\"softmax\", name=\"wavy\")(dense_attr22)\n",
        "predict_attr3 = keras.layers.Dense(2, activation=\"softmax\", name=\"bold\")(dense_attr32)\n"
      ],
      "execution_count": 12,
      "outputs": []
    },
    {
      "cell_type": "code",
      "metadata": {
        "id": "1uPV5GsgZxu0",
        "colab": {
          "base_uri": "https://localhost:8080/"
        },
        "outputId": "33d4e4be-f91f-4cb9-e8aa-29f330da712e"
      },
      "source": [
        "multitask_model = keras.Model(inputs=inputs, outputs=[predict_attr1,predict_attr2,predict_attr3], name=\"multitask_model\")\n",
        "\n",
        "multitask_model.summary()"
      ],
      "execution_count": 13,
      "outputs": [
        {
          "output_type": "stream",
          "text": [
            "Model: \"multitask_model\"\n",
            "__________________________________________________________________________________________________\n",
            "Layer (type)                    Output Shape         Param #     Connected to                     \n",
            "==================================================================================================\n",
            "input_1 (InputLayer)            [(None, 178, 178, 3) 0                                            \n",
            "__________________________________________________________________________________________________\n",
            "conv2d (Conv2D)                 (None, 176, 176, 32) 896         input_1[0][0]                    \n",
            "__________________________________________________________________________________________________\n",
            "max_pooling2d (MaxPooling2D)    (None, 88, 88, 32)   0           conv2d[0][0]                     \n",
            "__________________________________________________________________________________________________\n",
            "conv2d_1 (Conv2D)               (None, 86, 86, 64)   18496       max_pooling2d[0][0]              \n",
            "__________________________________________________________________________________________________\n",
            "max_pooling2d_1 (MaxPooling2D)  (None, 43, 43, 64)   0           conv2d_1[0][0]                   \n",
            "__________________________________________________________________________________________________\n",
            "conv2d_2 (Conv2D)               (None, 41, 41, 128)  73856       max_pooling2d_1[0][0]            \n",
            "__________________________________________________________________________________________________\n",
            "max_pooling2d_2 (MaxPooling2D)  (None, 20, 20, 128)  0           conv2d_2[0][0]                   \n",
            "__________________________________________________________________________________________________\n",
            "conv2d_3 (Conv2D)               (None, 18, 18, 256)  295168      max_pooling2d_2[0][0]            \n",
            "__________________________________________________________________________________________________\n",
            "max_pooling2d_3 (MaxPooling2D)  (None, 9, 9, 256)    0           conv2d_3[0][0]                   \n",
            "__________________________________________________________________________________________________\n",
            "flatten (Flatten)               (None, 20736)        0           max_pooling2d_3[0][0]            \n",
            "__________________________________________________________________________________________________\n",
            "dense (Dense)                   (None, 1000)         20737000    flatten[0][0]                    \n",
            "__________________________________________________________________________________________________\n",
            "dense_1 (Dense)                 (None, 512)          512512      dense[0][0]                      \n",
            "__________________________________________________________________________________________________\n",
            "dense_2 (Dense)                 (None, 512)          512512      dense[0][0]                      \n",
            "__________________________________________________________________________________________________\n",
            "dense_3 (Dense)                 (None, 512)          512512      dense[0][0]                      \n",
            "__________________________________________________________________________________________________\n",
            "dense_4 (Dense)                 (None, 128)          65664       dense_1[0][0]                    \n",
            "__________________________________________________________________________________________________\n",
            "dense_5 (Dense)                 (None, 128)          65664       dense_2[0][0]                    \n",
            "__________________________________________________________________________________________________\n",
            "dense_6 (Dense)                 (None, 128)          65664       dense_3[0][0]                    \n",
            "__________________________________________________________________________________________________\n",
            "blond (Dense)                   (None, 2)            258         dense_4[0][0]                    \n",
            "__________________________________________________________________________________________________\n",
            "wavy (Dense)                    (None, 2)            258         dense_5[0][0]                    \n",
            "__________________________________________________________________________________________________\n",
            "bold (Dense)                    (None, 2)            258         dense_6[0][0]                    \n",
            "==================================================================================================\n",
            "Total params: 22,860,718\n",
            "Trainable params: 22,860,718\n",
            "Non-trainable params: 0\n",
            "__________________________________________________________________________________________________\n"
          ],
          "name": "stdout"
        }
      ]
    },
    {
      "cell_type": "code",
      "metadata": {
        "id": "xbMWy_vkZxyX",
        "colab": {
          "base_uri": "https://localhost:8080/",
          "height": 1000
        },
        "outputId": "b2cd466c-7b15-4cb3-edfc-0a68ed381be6"
      },
      "source": [
        "#Visualize the model structure\n",
        "\n",
        "keras.utils.plot_model(multitask_model, \"facial_attributes_multitask_model_with_shape_info.png\", show_shapes=True)"
      ],
      "execution_count": 14,
      "outputs": [
        {
          "output_type": "execute_result",
          "data": {
            "image/png": "[encoded data removed]",
            "text/plain": [
              "<IPython.core.display.Image object>"
            ]
          },
          "metadata": {
            "tags": []
          },
          "execution_count": 14
        }
      ]
    },
    {
      "cell_type": "code",
      "metadata": {
        "id": "EwmBdO05Zqaa"
      },
      "source": [
        "# Compile the model\n",
        "\n",
        "multitask_model.compile(\n",
        "    optimizer=keras.optimizers.RMSprop(0.001),\n",
        "    loss={\"blond\": keras.losses.SparseCategoricalCrossentropy(),\n",
        "        \"wavy\": keras.losses.SparseCategoricalCrossentropy(),\n",
        "        \"bold\": keras.losses.SparseCategoricalCrossentropy()},\n",
        "    loss_weights={\"blond\": 0.33, \"wavy\": 0.34, \"bold\": 0.33},\n",
        "    metrics={\"blond\":[keras.metrics.SparseCategoricalAccuracy()],\"wavy\":[keras.metrics.SparseCategoricalAccuracy()], \"bold\":[keras.metrics.SparseCategoricalAccuracy()]}) \n"
      ],
      "execution_count": 15,
      "outputs": []
    },
    {
      "cell_type": "code",
      "metadata": {
        "id": "j92YNxJVZqeo"
      },
      "source": [
        "# Call_back to store best model (minimun loss)\n",
        "file_name = 'best_multitask_model.h5'\n",
        "checkpoint_path= os.path.join('checkpoint2',file_name)\n",
        "\n",
        "call_back = tf.keras.callbacks.ModelCheckpoint(filepath=checkpoint_path, \n",
        "                                                 monitor='val_loss', \n",
        "                                                 verbose=1,\n",
        "                                                 save_freq='epoch',\n",
        "                                                 save_best_only=True, \n",
        "                                                 save_weights_only=False, \n",
        "                                                 mode='min')"
      ],
      "execution_count": 17,
      "outputs": []
    },
    {
      "cell_type": "code",
      "metadata": {
        "id": "yPiIR23zZqiI",
        "colab": {
          "base_uri": "https://localhost:8080/"
        },
        "outputId": "d5c0bb62-60b6-4349-9137-1ae4c207dacc"
      },
      "source": [
        "# Fit model to training data - track through validation data\n",
        "print(\"Fit model on training data\")\n",
        "history = multitask_model.fit(\n",
        "    X_train,\n",
        "    {\"blond\": y_bh_train, \"wavy\": y_wh_train, \"bold\": y_b_train},\n",
        "    batch_size=64,\n",
        "    epochs=20,\n",
        "    validation_data=(X_valid, {\"blond\": y_bh_valid, \"wavy\": y_wh_valid, \"bold\": y_b_valid}),\n",
        "    callbacks=call_back,\n",
        "    shuffle=True)"
      ],
      "execution_count": 18,
      "outputs": [
        {
          "output_type": "stream",
          "text": [
            "Fit model on training data\n",
            "Epoch 1/20\n",
            "63/63 [==============================] - 41s 119ms/step - loss: 0.5916 - blond_loss: 0.6003 - wavy_loss: 0.9918 - bold_loss: 0.1705 - blond_sparse_categorical_accuracy: 0.8457 - wavy_sparse_categorical_accuracy: 0.6812 - bold_sparse_categorical_accuracy: 0.9643 - val_loss: 0.4097 - val_blond_loss: 0.3635 - val_wavy_loss: 0.6915 - val_bold_loss: 0.1657 - val_blond_sparse_categorical_accuracy: 0.8390 - val_wavy_sparse_categorical_accuracy: 0.6970 - val_bold_sparse_categorical_accuracy: 0.9680\n",
            "\n",
            "Epoch 00001: val_loss improved from inf to 0.40973, saving model to checkpoint2/best_multitask_model.h5\n",
            "Epoch 2/20\n",
            "63/63 [==============================] - 6s 89ms/step - loss: 0.3564 - blond_loss: 0.3174 - wavy_loss: 0.6307 - bold_loss: 0.1127 - blond_sparse_categorical_accuracy: 0.8643 - wavy_sparse_categorical_accuracy: 0.6820 - bold_sparse_categorical_accuracy: 0.9787 - val_loss: 0.4188 - val_blond_loss: 0.4439 - val_wavy_loss: 0.6125 - val_bold_loss: 0.1942 - val_blond_sparse_categorical_accuracy: 0.7170 - val_wavy_sparse_categorical_accuracy: 0.6970 - val_bold_sparse_categorical_accuracy: 0.9680\n",
            "\n",
            "Epoch 00002: val_loss did not improve from 0.40973\n",
            "Epoch 3/20\n",
            "63/63 [==============================] - 6s 90ms/step - loss: 0.3088 - blond_loss: 0.2522 - wavy_loss: 0.5804 - bold_loss: 0.0854 - blond_sparse_categorical_accuracy: 0.8870 - wavy_sparse_categorical_accuracy: 0.6955 - bold_sparse_categorical_accuracy: 0.9787 - val_loss: 0.3001 - val_blond_loss: 0.2379 - val_wavy_loss: 0.5518 - val_bold_loss: 0.1029 - val_blond_sparse_categorical_accuracy: 0.9090 - val_wavy_sparse_categorical_accuracy: 0.7110 - val_bold_sparse_categorical_accuracy: 0.9680\n",
            "\n",
            "Epoch 00003: val_loss improved from 0.40973 to 0.30007, saving model to checkpoint2/best_multitask_model.h5\n",
            "Epoch 4/20\n",
            "63/63 [==============================] - 6s 88ms/step - loss: 0.2801 - blond_loss: 0.2163 - wavy_loss: 0.5436 - bold_loss: 0.0723 - blond_sparse_categorical_accuracy: 0.9090 - wavy_sparse_categorical_accuracy: 0.7200 - bold_sparse_categorical_accuracy: 0.9787 - val_loss: 0.2896 - val_blond_loss: 0.2169 - val_wavy_loss: 0.5343 - val_bold_loss: 0.1100 - val_blond_sparse_categorical_accuracy: 0.9270 - val_wavy_sparse_categorical_accuracy: 0.7260 - val_bold_sparse_categorical_accuracy: 0.9670\n",
            "\n",
            "Epoch 00004: val_loss improved from 0.30007 to 0.28957, saving model to checkpoint2/best_multitask_model.h5\n",
            "Epoch 5/20\n",
            "63/63 [==============================] - 6s 89ms/step - loss: 0.2549 - blond_loss: 0.1790 - wavy_loss: 0.5199 - bold_loss: 0.0579 - blond_sparse_categorical_accuracy: 0.9293 - wavy_sparse_categorical_accuracy: 0.7383 - bold_sparse_categorical_accuracy: 0.9803 - val_loss: 0.3037 - val_blond_loss: 0.2621 - val_wavy_loss: 0.5345 - val_bold_loss: 0.1076 - val_blond_sparse_categorical_accuracy: 0.9070 - val_wavy_sparse_categorical_accuracy: 0.7360 - val_bold_sparse_categorical_accuracy: 0.9590\n",
            "\n",
            "Epoch 00005: val_loss did not improve from 0.28957\n",
            "Epoch 6/20\n",
            "63/63 [==============================] - 6s 90ms/step - loss: 0.2336 - blond_loss: 0.1561 - wavy_loss: 0.4821 - bold_loss: 0.0550 - blond_sparse_categorical_accuracy: 0.9388 - wavy_sparse_categorical_accuracy: 0.7650 - bold_sparse_categorical_accuracy: 0.9835 - val_loss: 0.3174 - val_blond_loss: 0.2554 - val_wavy_loss: 0.5917 - val_bold_loss: 0.0967 - val_blond_sparse_categorical_accuracy: 0.8810 - val_wavy_sparse_categorical_accuracy: 0.7320 - val_bold_sparse_categorical_accuracy: 0.9690\n",
            "\n",
            "Epoch 00006: val_loss did not improve from 0.28957\n",
            "Epoch 7/20\n",
            "63/63 [==============================] - 6s 88ms/step - loss: 0.2144 - blond_loss: 0.1352 - wavy_loss: 0.4620 - bold_loss: 0.0384 - blond_sparse_categorical_accuracy: 0.9488 - wavy_sparse_categorical_accuracy: 0.7775 - bold_sparse_categorical_accuracy: 0.9855 - val_loss: 0.3628 - val_blond_loss: 0.2436 - val_wavy_loss: 0.6730 - val_bold_loss: 0.1623 - val_blond_sparse_categorical_accuracy: 0.9320 - val_wavy_sparse_categorical_accuracy: 0.7450 - val_bold_sparse_categorical_accuracy: 0.9550\n",
            "\n",
            "Epoch 00007: val_loss did not improve from 0.28957\n",
            "Epoch 8/20\n",
            "63/63 [==============================] - 6s 89ms/step - loss: 0.1887 - blond_loss: 0.1112 - wavy_loss: 0.4205 - bold_loss: 0.0275 - blond_sparse_categorical_accuracy: 0.9550 - wavy_sparse_categorical_accuracy: 0.8035 - bold_sparse_categorical_accuracy: 0.9890 - val_loss: 0.4007 - val_blond_loss: 0.3628 - val_wavy_loss: 0.5868 - val_bold_loss: 0.2469 - val_blond_sparse_categorical_accuracy: 0.9200 - val_wavy_sparse_categorical_accuracy: 0.7410 - val_bold_sparse_categorical_accuracy: 0.9710\n",
            "\n",
            "Epoch 00008: val_loss did not improve from 0.28957\n",
            "Epoch 9/20\n",
            "63/63 [==============================] - 6s 88ms/step - loss: 0.1693 - blond_loss: 0.0866 - wavy_loss: 0.3942 - bold_loss: 0.0204 - blond_sparse_categorical_accuracy: 0.9635 - wavy_sparse_categorical_accuracy: 0.8148 - bold_sparse_categorical_accuracy: 0.9933 - val_loss: 0.3990 - val_blond_loss: 0.4151 - val_wavy_loss: 0.5261 - val_bold_loss: 0.2519 - val_blond_sparse_categorical_accuracy: 0.9160 - val_wavy_sparse_categorical_accuracy: 0.7320 - val_bold_sparse_categorical_accuracy: 0.9690\n",
            "\n",
            "Epoch 00009: val_loss did not improve from 0.28957\n",
            "Epoch 10/20\n",
            "63/63 [==============================] - 6s 88ms/step - loss: 0.1564 - blond_loss: 0.0741 - wavy_loss: 0.3568 - bold_loss: 0.0321 - blond_sparse_categorical_accuracy: 0.9715 - wavy_sparse_categorical_accuracy: 0.8435 - bold_sparse_categorical_accuracy: 0.9930 - val_loss: 0.3607 - val_blond_loss: 0.3748 - val_wavy_loss: 0.5638 - val_bold_loss: 0.1372 - val_blond_sparse_categorical_accuracy: 0.9320 - val_wavy_sparse_categorical_accuracy: 0.7350 - val_bold_sparse_categorical_accuracy: 0.9720\n",
            "\n",
            "Epoch 00010: val_loss did not improve from 0.28957\n",
            "Epoch 11/20\n",
            "63/63 [==============================] - 6s 88ms/step - loss: 0.1252 - blond_loss: 0.0590 - wavy_loss: 0.3016 - bold_loss: 0.0094 - blond_sparse_categorical_accuracy: 0.9787 - wavy_sparse_categorical_accuracy: 0.8683 - bold_sparse_categorical_accuracy: 0.9983 - val_loss: 0.4279 - val_blond_loss: 0.4163 - val_wavy_loss: 0.5994 - val_bold_loss: 0.2627 - val_blond_sparse_categorical_accuracy: 0.9210 - val_wavy_sparse_categorical_accuracy: 0.7270 - val_bold_sparse_categorical_accuracy: 0.9700\n",
            "\n",
            "Epoch 00011: val_loss did not improve from 0.28957\n",
            "Epoch 12/20\n",
            "63/63 [==============================] - 6s 89ms/step - loss: 0.1050 - blond_loss: 0.0358 - wavy_loss: 0.2571 - bold_loss: 0.0176 - blond_sparse_categorical_accuracy: 0.9865 - wavy_sparse_categorical_accuracy: 0.8882 - bold_sparse_categorical_accuracy: 0.9952 - val_loss: 0.5266 - val_blond_loss: 0.4996 - val_wavy_loss: 0.7670 - val_bold_loss: 0.3060 - val_blond_sparse_categorical_accuracy: 0.9300 - val_wavy_sparse_categorical_accuracy: 0.7120 - val_bold_sparse_categorical_accuracy: 0.9710\n",
            "\n",
            "Epoch 00012: val_loss did not improve from 0.28957\n",
            "Epoch 13/20\n",
            "63/63 [==============================] - 6s 89ms/step - loss: 0.0990 - blond_loss: 0.0563 - wavy_loss: 0.2278 - bold_loss: 0.0090 - blond_sparse_categorical_accuracy: 0.9850 - wavy_sparse_categorical_accuracy: 0.9105 - bold_sparse_categorical_accuracy: 0.9975 - val_loss: 0.7212 - val_blond_loss: 0.6790 - val_wavy_loss: 1.1295 - val_bold_loss: 0.3428 - val_blond_sparse_categorical_accuracy: 0.9270 - val_wavy_sparse_categorical_accuracy: 0.6950 - val_bold_sparse_categorical_accuracy: 0.9710\n",
            "\n",
            "Epoch 00013: val_loss did not improve from 0.28957\n",
            "Epoch 14/20\n",
            "63/63 [==============================] - 6s 89ms/step - loss: 0.0731 - blond_loss: 0.0267 - wavy_loss: 0.1820 - bold_loss: 0.0075 - blond_sparse_categorical_accuracy: 0.9925 - wavy_sparse_categorical_accuracy: 0.9300 - bold_sparse_categorical_accuracy: 0.9977 - val_loss: 0.6090 - val_blond_loss: 0.5842 - val_wavy_loss: 0.8169 - val_bold_loss: 0.4198 - val_blond_sparse_categorical_accuracy: 0.9240 - val_wavy_sparse_categorical_accuracy: 0.7350 - val_bold_sparse_categorical_accuracy: 0.9670\n",
            "\n",
            "Epoch 00014: val_loss did not improve from 0.28957\n",
            "Epoch 15/20\n",
            "63/63 [==============================] - 6s 88ms/step - loss: 0.0725 - blond_loss: 0.0321 - wavy_loss: 0.1615 - bold_loss: 0.0213 - blond_sparse_categorical_accuracy: 0.9898 - wavy_sparse_categorical_accuracy: 0.9503 - bold_sparse_categorical_accuracy: 0.9980 - val_loss: 0.7927 - val_blond_loss: 0.7039 - val_wavy_loss: 1.2638 - val_bold_loss: 0.3962 - val_blond_sparse_categorical_accuracy: 0.9230 - val_wavy_sparse_categorical_accuracy: 0.7360 - val_bold_sparse_categorical_accuracy: 0.9770\n",
            "\n",
            "Epoch 00015: val_loss did not improve from 0.28957\n",
            "Epoch 16/20\n",
            "63/63 [==============================] - 6s 89ms/step - loss: 0.0448 - blond_loss: 0.0224 - wavy_loss: 0.1020 - bold_loss: 0.0083 - blond_sparse_categorical_accuracy: 0.9920 - wavy_sparse_categorical_accuracy: 0.9678 - bold_sparse_categorical_accuracy: 0.9983 - val_loss: 1.0451 - val_blond_loss: 0.8386 - val_wavy_loss: 1.5540 - val_bold_loss: 0.7272 - val_blond_sparse_categorical_accuracy: 0.9140 - val_wavy_sparse_categorical_accuracy: 0.7350 - val_bold_sparse_categorical_accuracy: 0.9680\n",
            "\n",
            "Epoch 00016: val_loss did not improve from 0.28957\n",
            "Epoch 17/20\n",
            "63/63 [==============================] - 6s 88ms/step - loss: 0.0385 - blond_loss: 0.0147 - wavy_loss: 0.0939 - bold_loss: 0.0054 - blond_sparse_categorical_accuracy: 0.9955 - wavy_sparse_categorical_accuracy: 0.9668 - bold_sparse_categorical_accuracy: 0.9985 - val_loss: 1.0352 - val_blond_loss: 0.9555 - val_wavy_loss: 1.6315 - val_bold_loss: 0.5006 - val_blond_sparse_categorical_accuracy: 0.9200 - val_wavy_sparse_categorical_accuracy: 0.6880 - val_bold_sparse_categorical_accuracy: 0.9710\n",
            "\n",
            "Epoch 00017: val_loss did not improve from 0.28957\n",
            "Epoch 18/20\n",
            "63/63 [==============================] - 6s 88ms/step - loss: 0.0456 - blond_loss: 0.0198 - wavy_loss: 0.1106 - bold_loss: 0.0044 - blond_sparse_categorical_accuracy: 0.9952 - wavy_sparse_categorical_accuracy: 0.9700 - bold_sparse_categorical_accuracy: 0.9980 - val_loss: 1.0429 - val_blond_loss: 1.0241 - val_wavy_loss: 1.4410 - val_bold_loss: 0.6517 - val_blond_sparse_categorical_accuracy: 0.9220 - val_wavy_sparse_categorical_accuracy: 0.7420 - val_bold_sparse_categorical_accuracy: 0.9710\n",
            "\n",
            "Epoch 00018: val_loss did not improve from 0.28957\n",
            "Epoch 19/20\n",
            "63/63 [==============================] - 6s 89ms/step - loss: 0.0536 - blond_loss: 0.0315 - wavy_loss: 0.1249 - bold_loss: 0.0023 - blond_sparse_categorical_accuracy: 0.9923 - wavy_sparse_categorical_accuracy: 0.9710 - bold_sparse_categorical_accuracy: 0.9995 - val_loss: 1.0947 - val_blond_loss: 1.0702 - val_wavy_loss: 1.4259 - val_bold_loss: 0.7780 - val_blond_sparse_categorical_accuracy: 0.9160 - val_wavy_sparse_categorical_accuracy: 0.7280 - val_bold_sparse_categorical_accuracy: 0.9710\n",
            "\n",
            "Epoch 00019: val_loss did not improve from 0.28957\n",
            "Epoch 20/20\n",
            "63/63 [==============================] - 6s 88ms/step - loss: 0.0436 - blond_loss: 0.0432 - wavy_loss: 0.0821 - bold_loss: 0.0042 - blond_sparse_categorical_accuracy: 0.9958 - wavy_sparse_categorical_accuracy: 0.9755 - bold_sparse_categorical_accuracy: 0.9985 - val_loss: 1.3342 - val_blond_loss: 1.2983 - val_wavy_loss: 1.8688 - val_bold_loss: 0.8193 - val_blond_sparse_categorical_accuracy: 0.9240 - val_wavy_sparse_categorical_accuracy: 0.7510 - val_bold_sparse_categorical_accuracy: 0.9690\n",
            "\n",
            "Epoch 00020: val_loss did not improve from 0.28957\n"
          ],
          "name": "stdout"
        }
      ]
    },
    {
      "cell_type": "code",
      "metadata": {
        "id": "sfn9w7RdZqsJ",
        "colab": {
          "base_uri": "https://localhost:8080/"
        },
        "outputId": "015d22c3-14ae-45e1-eb0c-1a046ad390c1"
      },
      "source": [
        "# Final Evaluation on test data\n",
        "multitask_model.load_weights(checkpoint_path)\n",
        "\n",
        "print(\"Evaluate on test data\")\n",
        "results = multitask_model.evaluate(X_test,{\"blond\":y_bh_test, \"wavy\":y_wh_test, \"bold\": y_b_test}, batch_size=32)"
      ],
      "execution_count": 20,
      "outputs": [
        {
          "output_type": "stream",
          "text": [
            "Evaluate on test data\n",
            "32/32 [==============================] - 1s 19ms/step - loss: 0.2758 - blond_loss: 0.1655 - wavy_loss: 0.5254 - bold_loss: 0.1290 - blond_sparse_categorical_accuracy: 0.9400 - wavy_sparse_categorical_accuracy: 0.7450 - bold_sparse_categorical_accuracy: 0.9680\n"
          ],
          "name": "stdout"
        }
      ]
    },
    {
      "cell_type": "code",
      "metadata": {
        "id": "NMZfGBEbIG_t"
      },
      "source": [
        ""
      ],
      "execution_count": 28,
      "outputs": []
    },
    {
      "cell_type": "code",
      "metadata": {
        "id": "zl8SmLXSryJQ"
      },
      "source": [
        ""
      ],
      "execution_count": 29,
      "outputs": []
    },
    {
      "cell_type": "code",
      "metadata": {
        "id": "jIh5CBhfptZn"
      },
      "source": [
        ""
      ],
      "execution_count": null,
      "outputs": []
    },
    {
      "cell_type": "code",
      "metadata": {
        "id": "rIPfQRG6ptnT"
      },
      "source": [
        ""
      ],
      "execution_count": null,
      "outputs": []
    }
  ]
}