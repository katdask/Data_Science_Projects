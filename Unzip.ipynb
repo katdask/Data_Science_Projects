{
  "nbformat": 4,
  "nbformat_minor": 0,
  "metadata": {
    "colab": {
      "name": "Unzip.ipynb",
      "provenance": [],
      "authorship_tag": "ABX9TyN3XvE+Ovslx5udqVXNMrFU",
      "include_colab_link": true
    },
    "kernelspec": {
      "name": "python3",
      "display_name": "Python 3"
    },
    "language_info": {
      "name": "python"
    },
    "accelerator": "GPU"
  },
  "cells": [
    {
      "cell_type": "markdown",
      "metadata": {
        "id": "view-in-github",
        "colab_type": "text"
      },
      "source": [
        "<a href=\"https://colab.research.google.com/github/katdask/Data_Science_Projects/blob/main/Unzip.ipynb\" target=\"_parent\"><img src=\"https://colab.research.google.com/assets/colab-badge.svg\" alt=\"Open In Colab\"/></a>"
      ]
    },
    {
      "cell_type": "code",
      "metadata": {
        "colab": {
          "base_uri": "https://localhost:8080/"
        },
        "id": "r49VDxhl3ZnL",
        "outputId": "4f963135-288b-4a49-861e-f8decfe6f104"
      },
      "source": [
        "from google.colab import drive\n",
        "drive.mount('/content/drive')"
      ],
      "execution_count": 1,
      "outputs": [
        {
          "output_type": "stream",
          "text": [
            "Drive already mounted at /content/drive; to attempt to forcibly remount, call drive.mount(\"/content/drive\", force_remount=True).\n"
          ],
          "name": "stdout"
        }
      ]
    },
    {
      "cell_type": "code",
      "metadata": {
        "id": "imlJVdku3gdk"
      },
      "source": [
        "#!unzip -u \"/content/drive/My Drive/facial_attributes/archive (1).zip\" -d \"/content/drive/My Drive/facial_attributes/data\""
      ],
      "execution_count": 2,
      "outputs": []
    },
    {
      "cell_type": "code",
      "metadata": {
        "colab": {
          "base_uri": "https://localhost:8080/"
        },
        "id": "irkaWVI-OLgz",
        "outputId": "c8c20b28-b482-4365-db1d-0fa5ef8b2a56"
      },
      "source": [
        "%cd /content/drive/My Drive/facial_attributes/"
      ],
      "execution_count": 2,
      "outputs": [
        {
          "output_type": "stream",
          "text": [
            "/content/drive/My Drive/facial_attributes\n"
          ],
          "name": "stdout"
        }
      ]
    },
    {
      "cell_type": "code",
      "metadata": {
        "id": "QyP2Zf9xOc2B"
      },
      "source": [
        "import tensorflow as tf\n",
        "from tensorflow import keras\n",
        "from tensorflow.keras import layers\n",
        "from tensorflow.keras import models\n",
        "from tensorflow.keras import optimizers\n",
        "import pandas as pd\n",
        "import matplotlib.pyplot as plt\n",
        "import matplotlib.image as mpimg\n",
        "import numpy as np\n",
        "from sklearn.model_selection import train_test_split\n",
        "from sklearn.preprocessing import MinMaxScaler\n",
        "import os\n",
        "from sklearn.metrics import confusion_matrix, ConfusionMatrixDisplay"
      ],
      "execution_count": 3,
      "outputs": []
    },
    {
      "cell_type": "markdown",
      "metadata": {
        "id": "sI0SDmcqUJwY"
      },
      "source": [
        "### Load and prepare data"
      ]
    },
    {
      "cell_type": "code",
      "metadata": {
        "colab": {
          "base_uri": "https://localhost:8080/",
          "height": 222
        },
        "id": "Y2r6QTnXOLwB",
        "outputId": "99054864-a79d-4b51-c96a-f073b28ff7fc"
      },
      "source": [
        "celebs=pd.read_csv(\"list_attr_celeba.csv\")\n",
        "celebs.head()"
      ],
      "execution_count": 4,
      "outputs": [
        {
          "output_type": "execute_result",
          "data": {
            "text/html": [
              "<div>\n",
              "<style scoped>\n",
              "    .dataframe tbody tr th:only-of-type {\n",
              "        vertical-align: middle;\n",
              "    }\n",
              "\n",
              "    .dataframe tbody tr th {\n",
              "        vertical-align: top;\n",
              "    }\n",
              "\n",
              "    .dataframe thead th {\n",
              "        text-align: right;\n",
              "    }\n",
              "</style>\n",
              "<table border=\"1\" class=\"dataframe\">\n",
              "  <thead>\n",
              "    <tr style=\"text-align: right;\">\n",
              "      <th></th>\n",
              "      <th>image_id</th>\n",
              "      <th>5_o_Clock_Shadow</th>\n",
              "      <th>Arched_Eyebrows</th>\n",
              "      <th>Attractive</th>\n",
              "      <th>Bags_Under_Eyes</th>\n",
              "      <th>Bald</th>\n",
              "      <th>Bangs</th>\n",
              "      <th>Big_Lips</th>\n",
              "      <th>Big_Nose</th>\n",
              "      <th>Black_Hair</th>\n",
              "      <th>Blond_Hair</th>\n",
              "      <th>Blurry</th>\n",
              "      <th>Brown_Hair</th>\n",
              "      <th>Bushy_Eyebrows</th>\n",
              "      <th>Chubby</th>\n",
              "      <th>Double_Chin</th>\n",
              "      <th>Eyeglasses</th>\n",
              "      <th>Goatee</th>\n",
              "      <th>Gray_Hair</th>\n",
              "      <th>Heavy_Makeup</th>\n",
              "      <th>High_Cheekbones</th>\n",
              "      <th>Male</th>\n",
              "      <th>Mouth_Slightly_Open</th>\n",
              "      <th>Mustache</th>\n",
              "      <th>Narrow_Eyes</th>\n",
              "      <th>No_Beard</th>\n",
              "      <th>Oval_Face</th>\n",
              "      <th>Pale_Skin</th>\n",
              "      <th>Pointy_Nose</th>\n",
              "      <th>Receding_Hairline</th>\n",
              "      <th>Rosy_Cheeks</th>\n",
              "      <th>Sideburns</th>\n",
              "      <th>Smiling</th>\n",
              "      <th>Straight_Hair</th>\n",
              "      <th>Wavy_Hair</th>\n",
              "      <th>Wearing_Earrings</th>\n",
              "      <th>Wearing_Hat</th>\n",
              "      <th>Wearing_Lipstick</th>\n",
              "      <th>Wearing_Necklace</th>\n",
              "      <th>Wearing_Necktie</th>\n",
              "      <th>Young</th>\n",
              "    </tr>\n",
              "  </thead>\n",
              "  <tbody>\n",
              "    <tr>\n",
              "      <th>0</th>\n",
              "      <td>000001.jpg</td>\n",
              "      <td>-1</td>\n",
              "      <td>1</td>\n",
              "      <td>1</td>\n",
              "      <td>-1</td>\n",
              "      <td>-1</td>\n",
              "      <td>-1</td>\n",
              "      <td>-1</td>\n",
              "      <td>-1</td>\n",
              "      <td>-1</td>\n",
              "      <td>-1</td>\n",
              "      <td>-1</td>\n",
              "      <td>1</td>\n",
              "      <td>-1</td>\n",
              "      <td>-1</td>\n",
              "      <td>-1</td>\n",
              "      <td>-1</td>\n",
              "      <td>-1</td>\n",
              "      <td>-1</td>\n",
              "      <td>1</td>\n",
              "      <td>1</td>\n",
              "      <td>-1</td>\n",
              "      <td>1</td>\n",
              "      <td>-1</td>\n",
              "      <td>-1</td>\n",
              "      <td>1</td>\n",
              "      <td>-1</td>\n",
              "      <td>-1</td>\n",
              "      <td>1</td>\n",
              "      <td>-1</td>\n",
              "      <td>-1</td>\n",
              "      <td>-1</td>\n",
              "      <td>1</td>\n",
              "      <td>1</td>\n",
              "      <td>-1</td>\n",
              "      <td>1</td>\n",
              "      <td>-1</td>\n",
              "      <td>1</td>\n",
              "      <td>-1</td>\n",
              "      <td>-1</td>\n",
              "      <td>1</td>\n",
              "    </tr>\n",
              "    <tr>\n",
              "      <th>1</th>\n",
              "      <td>000002.jpg</td>\n",
              "      <td>-1</td>\n",
              "      <td>-1</td>\n",
              "      <td>-1</td>\n",
              "      <td>1</td>\n",
              "      <td>-1</td>\n",
              "      <td>-1</td>\n",
              "      <td>-1</td>\n",
              "      <td>1</td>\n",
              "      <td>-1</td>\n",
              "      <td>-1</td>\n",
              "      <td>-1</td>\n",
              "      <td>1</td>\n",
              "      <td>-1</td>\n",
              "      <td>-1</td>\n",
              "      <td>-1</td>\n",
              "      <td>-1</td>\n",
              "      <td>-1</td>\n",
              "      <td>-1</td>\n",
              "      <td>-1</td>\n",
              "      <td>1</td>\n",
              "      <td>-1</td>\n",
              "      <td>1</td>\n",
              "      <td>-1</td>\n",
              "      <td>-1</td>\n",
              "      <td>1</td>\n",
              "      <td>-1</td>\n",
              "      <td>-1</td>\n",
              "      <td>-1</td>\n",
              "      <td>-1</td>\n",
              "      <td>-1</td>\n",
              "      <td>-1</td>\n",
              "      <td>1</td>\n",
              "      <td>-1</td>\n",
              "      <td>-1</td>\n",
              "      <td>-1</td>\n",
              "      <td>-1</td>\n",
              "      <td>-1</td>\n",
              "      <td>-1</td>\n",
              "      <td>-1</td>\n",
              "      <td>1</td>\n",
              "    </tr>\n",
              "    <tr>\n",
              "      <th>2</th>\n",
              "      <td>000003.jpg</td>\n",
              "      <td>-1</td>\n",
              "      <td>-1</td>\n",
              "      <td>-1</td>\n",
              "      <td>-1</td>\n",
              "      <td>-1</td>\n",
              "      <td>-1</td>\n",
              "      <td>1</td>\n",
              "      <td>-1</td>\n",
              "      <td>-1</td>\n",
              "      <td>-1</td>\n",
              "      <td>1</td>\n",
              "      <td>-1</td>\n",
              "      <td>-1</td>\n",
              "      <td>-1</td>\n",
              "      <td>-1</td>\n",
              "      <td>-1</td>\n",
              "      <td>-1</td>\n",
              "      <td>-1</td>\n",
              "      <td>-1</td>\n",
              "      <td>-1</td>\n",
              "      <td>1</td>\n",
              "      <td>-1</td>\n",
              "      <td>-1</td>\n",
              "      <td>1</td>\n",
              "      <td>1</td>\n",
              "      <td>-1</td>\n",
              "      <td>-1</td>\n",
              "      <td>1</td>\n",
              "      <td>-1</td>\n",
              "      <td>-1</td>\n",
              "      <td>-1</td>\n",
              "      <td>-1</td>\n",
              "      <td>-1</td>\n",
              "      <td>1</td>\n",
              "      <td>-1</td>\n",
              "      <td>-1</td>\n",
              "      <td>-1</td>\n",
              "      <td>-1</td>\n",
              "      <td>-1</td>\n",
              "      <td>1</td>\n",
              "    </tr>\n",
              "    <tr>\n",
              "      <th>3</th>\n",
              "      <td>000004.jpg</td>\n",
              "      <td>-1</td>\n",
              "      <td>-1</td>\n",
              "      <td>1</td>\n",
              "      <td>-1</td>\n",
              "      <td>-1</td>\n",
              "      <td>-1</td>\n",
              "      <td>-1</td>\n",
              "      <td>-1</td>\n",
              "      <td>-1</td>\n",
              "      <td>-1</td>\n",
              "      <td>-1</td>\n",
              "      <td>-1</td>\n",
              "      <td>-1</td>\n",
              "      <td>-1</td>\n",
              "      <td>-1</td>\n",
              "      <td>-1</td>\n",
              "      <td>-1</td>\n",
              "      <td>-1</td>\n",
              "      <td>-1</td>\n",
              "      <td>-1</td>\n",
              "      <td>-1</td>\n",
              "      <td>-1</td>\n",
              "      <td>-1</td>\n",
              "      <td>-1</td>\n",
              "      <td>1</td>\n",
              "      <td>-1</td>\n",
              "      <td>-1</td>\n",
              "      <td>1</td>\n",
              "      <td>-1</td>\n",
              "      <td>-1</td>\n",
              "      <td>-1</td>\n",
              "      <td>-1</td>\n",
              "      <td>1</td>\n",
              "      <td>-1</td>\n",
              "      <td>1</td>\n",
              "      <td>-1</td>\n",
              "      <td>1</td>\n",
              "      <td>1</td>\n",
              "      <td>-1</td>\n",
              "      <td>1</td>\n",
              "    </tr>\n",
              "    <tr>\n",
              "      <th>4</th>\n",
              "      <td>000005.jpg</td>\n",
              "      <td>-1</td>\n",
              "      <td>1</td>\n",
              "      <td>1</td>\n",
              "      <td>-1</td>\n",
              "      <td>-1</td>\n",
              "      <td>-1</td>\n",
              "      <td>1</td>\n",
              "      <td>-1</td>\n",
              "      <td>-1</td>\n",
              "      <td>-1</td>\n",
              "      <td>-1</td>\n",
              "      <td>-1</td>\n",
              "      <td>-1</td>\n",
              "      <td>-1</td>\n",
              "      <td>-1</td>\n",
              "      <td>-1</td>\n",
              "      <td>-1</td>\n",
              "      <td>-1</td>\n",
              "      <td>1</td>\n",
              "      <td>-1</td>\n",
              "      <td>-1</td>\n",
              "      <td>-1</td>\n",
              "      <td>-1</td>\n",
              "      <td>1</td>\n",
              "      <td>1</td>\n",
              "      <td>-1</td>\n",
              "      <td>-1</td>\n",
              "      <td>1</td>\n",
              "      <td>-1</td>\n",
              "      <td>-1</td>\n",
              "      <td>-1</td>\n",
              "      <td>-1</td>\n",
              "      <td>-1</td>\n",
              "      <td>-1</td>\n",
              "      <td>-1</td>\n",
              "      <td>-1</td>\n",
              "      <td>1</td>\n",
              "      <td>-1</td>\n",
              "      <td>-1</td>\n",
              "      <td>1</td>\n",
              "    </tr>\n",
              "  </tbody>\n",
              "</table>\n",
              "</div>"
            ],
            "text/plain": [
              "     image_id  5_o_Clock_Shadow  ...  Wearing_Necktie  Young\n",
              "0  000001.jpg                -1  ...               -1      1\n",
              "1  000002.jpg                -1  ...               -1      1\n",
              "2  000003.jpg                -1  ...               -1      1\n",
              "3  000004.jpg                -1  ...               -1      1\n",
              "4  000005.jpg                -1  ...               -1      1\n",
              "\n",
              "[5 rows x 41 columns]"
            ]
          },
          "metadata": {
            "tags": []
          },
          "execution_count": 4
        }
      ]
    },
    {
      "cell_type": "code",
      "metadata": {
        "colab": {
          "base_uri": "https://localhost:8080/",
          "height": 222
        },
        "id": "V_2WRtWTOL8e",
        "outputId": "a0cd8b91-b650-4930-d366-8a72c3f7a521"
      },
      "source": [
        "celebs[\"image_id\"]='data/img_align_celeba/img_align_celeba/' + celebs[\"image_id\"].astype(str)\n",
        "celebs.head()"
      ],
      "execution_count": 5,
      "outputs": [
        {
          "output_type": "execute_result",
          "data": {
            "text/html": [
              "<div>\n",
              "<style scoped>\n",
              "    .dataframe tbody tr th:only-of-type {\n",
              "        vertical-align: middle;\n",
              "    }\n",
              "\n",
              "    .dataframe tbody tr th {\n",
              "        vertical-align: top;\n",
              "    }\n",
              "\n",
              "    .dataframe thead th {\n",
              "        text-align: right;\n",
              "    }\n",
              "</style>\n",
              "<table border=\"1\" class=\"dataframe\">\n",
              "  <thead>\n",
              "    <tr style=\"text-align: right;\">\n",
              "      <th></th>\n",
              "      <th>image_id</th>\n",
              "      <th>5_o_Clock_Shadow</th>\n",
              "      <th>Arched_Eyebrows</th>\n",
              "      <th>Attractive</th>\n",
              "      <th>Bags_Under_Eyes</th>\n",
              "      <th>Bald</th>\n",
              "      <th>Bangs</th>\n",
              "      <th>Big_Lips</th>\n",
              "      <th>Big_Nose</th>\n",
              "      <th>Black_Hair</th>\n",
              "      <th>Blond_Hair</th>\n",
              "      <th>Blurry</th>\n",
              "      <th>Brown_Hair</th>\n",
              "      <th>Bushy_Eyebrows</th>\n",
              "      <th>Chubby</th>\n",
              "      <th>Double_Chin</th>\n",
              "      <th>Eyeglasses</th>\n",
              "      <th>Goatee</th>\n",
              "      <th>Gray_Hair</th>\n",
              "      <th>Heavy_Makeup</th>\n",
              "      <th>High_Cheekbones</th>\n",
              "      <th>Male</th>\n",
              "      <th>Mouth_Slightly_Open</th>\n",
              "      <th>Mustache</th>\n",
              "      <th>Narrow_Eyes</th>\n",
              "      <th>No_Beard</th>\n",
              "      <th>Oval_Face</th>\n",
              "      <th>Pale_Skin</th>\n",
              "      <th>Pointy_Nose</th>\n",
              "      <th>Receding_Hairline</th>\n",
              "      <th>Rosy_Cheeks</th>\n",
              "      <th>Sideburns</th>\n",
              "      <th>Smiling</th>\n",
              "      <th>Straight_Hair</th>\n",
              "      <th>Wavy_Hair</th>\n",
              "      <th>Wearing_Earrings</th>\n",
              "      <th>Wearing_Hat</th>\n",
              "      <th>Wearing_Lipstick</th>\n",
              "      <th>Wearing_Necklace</th>\n",
              "      <th>Wearing_Necktie</th>\n",
              "      <th>Young</th>\n",
              "    </tr>\n",
              "  </thead>\n",
              "  <tbody>\n",
              "    <tr>\n",
              "      <th>0</th>\n",
              "      <td>data/img_align_celeba/img_align_celeba/000001.jpg</td>\n",
              "      <td>-1</td>\n",
              "      <td>1</td>\n",
              "      <td>1</td>\n",
              "      <td>-1</td>\n",
              "      <td>-1</td>\n",
              "      <td>-1</td>\n",
              "      <td>-1</td>\n",
              "      <td>-1</td>\n",
              "      <td>-1</td>\n",
              "      <td>-1</td>\n",
              "      <td>-1</td>\n",
              "      <td>1</td>\n",
              "      <td>-1</td>\n",
              "      <td>-1</td>\n",
              "      <td>-1</td>\n",
              "      <td>-1</td>\n",
              "      <td>-1</td>\n",
              "      <td>-1</td>\n",
              "      <td>1</td>\n",
              "      <td>1</td>\n",
              "      <td>-1</td>\n",
              "      <td>1</td>\n",
              "      <td>-1</td>\n",
              "      <td>-1</td>\n",
              "      <td>1</td>\n",
              "      <td>-1</td>\n",
              "      <td>-1</td>\n",
              "      <td>1</td>\n",
              "      <td>-1</td>\n",
              "      <td>-1</td>\n",
              "      <td>-1</td>\n",
              "      <td>1</td>\n",
              "      <td>1</td>\n",
              "      <td>-1</td>\n",
              "      <td>1</td>\n",
              "      <td>-1</td>\n",
              "      <td>1</td>\n",
              "      <td>-1</td>\n",
              "      <td>-1</td>\n",
              "      <td>1</td>\n",
              "    </tr>\n",
              "    <tr>\n",
              "      <th>1</th>\n",
              "      <td>data/img_align_celeba/img_align_celeba/000002.jpg</td>\n",
              "      <td>-1</td>\n",
              "      <td>-1</td>\n",
              "      <td>-1</td>\n",
              "      <td>1</td>\n",
              "      <td>-1</td>\n",
              "      <td>-1</td>\n",
              "      <td>-1</td>\n",
              "      <td>1</td>\n",
              "      <td>-1</td>\n",
              "      <td>-1</td>\n",
              "      <td>-1</td>\n",
              "      <td>1</td>\n",
              "      <td>-1</td>\n",
              "      <td>-1</td>\n",
              "      <td>-1</td>\n",
              "      <td>-1</td>\n",
              "      <td>-1</td>\n",
              "      <td>-1</td>\n",
              "      <td>-1</td>\n",
              "      <td>1</td>\n",
              "      <td>-1</td>\n",
              "      <td>1</td>\n",
              "      <td>-1</td>\n",
              "      <td>-1</td>\n",
              "      <td>1</td>\n",
              "      <td>-1</td>\n",
              "      <td>-1</td>\n",
              "      <td>-1</td>\n",
              "      <td>-1</td>\n",
              "      <td>-1</td>\n",
              "      <td>-1</td>\n",
              "      <td>1</td>\n",
              "      <td>-1</td>\n",
              "      <td>-1</td>\n",
              "      <td>-1</td>\n",
              "      <td>-1</td>\n",
              "      <td>-1</td>\n",
              "      <td>-1</td>\n",
              "      <td>-1</td>\n",
              "      <td>1</td>\n",
              "    </tr>\n",
              "    <tr>\n",
              "      <th>2</th>\n",
              "      <td>data/img_align_celeba/img_align_celeba/000003.jpg</td>\n",
              "      <td>-1</td>\n",
              "      <td>-1</td>\n",
              "      <td>-1</td>\n",
              "      <td>-1</td>\n",
              "      <td>-1</td>\n",
              "      <td>-1</td>\n",
              "      <td>1</td>\n",
              "      <td>-1</td>\n",
              "      <td>-1</td>\n",
              "      <td>-1</td>\n",
              "      <td>1</td>\n",
              "      <td>-1</td>\n",
              "      <td>-1</td>\n",
              "      <td>-1</td>\n",
              "      <td>-1</td>\n",
              "      <td>-1</td>\n",
              "      <td>-1</td>\n",
              "      <td>-1</td>\n",
              "      <td>-1</td>\n",
              "      <td>-1</td>\n",
              "      <td>1</td>\n",
              "      <td>-1</td>\n",
              "      <td>-1</td>\n",
              "      <td>1</td>\n",
              "      <td>1</td>\n",
              "      <td>-1</td>\n",
              "      <td>-1</td>\n",
              "      <td>1</td>\n",
              "      <td>-1</td>\n",
              "      <td>-1</td>\n",
              "      <td>-1</td>\n",
              "      <td>-1</td>\n",
              "      <td>-1</td>\n",
              "      <td>1</td>\n",
              "      <td>-1</td>\n",
              "      <td>-1</td>\n",
              "      <td>-1</td>\n",
              "      <td>-1</td>\n",
              "      <td>-1</td>\n",
              "      <td>1</td>\n",
              "    </tr>\n",
              "    <tr>\n",
              "      <th>3</th>\n",
              "      <td>data/img_align_celeba/img_align_celeba/000004.jpg</td>\n",
              "      <td>-1</td>\n",
              "      <td>-1</td>\n",
              "      <td>1</td>\n",
              "      <td>-1</td>\n",
              "      <td>-1</td>\n",
              "      <td>-1</td>\n",
              "      <td>-1</td>\n",
              "      <td>-1</td>\n",
              "      <td>-1</td>\n",
              "      <td>-1</td>\n",
              "      <td>-1</td>\n",
              "      <td>-1</td>\n",
              "      <td>-1</td>\n",
              "      <td>-1</td>\n",
              "      <td>-1</td>\n",
              "      <td>-1</td>\n",
              "      <td>-1</td>\n",
              "      <td>-1</td>\n",
              "      <td>-1</td>\n",
              "      <td>-1</td>\n",
              "      <td>-1</td>\n",
              "      <td>-1</td>\n",
              "      <td>-1</td>\n",
              "      <td>-1</td>\n",
              "      <td>1</td>\n",
              "      <td>-1</td>\n",
              "      <td>-1</td>\n",
              "      <td>1</td>\n",
              "      <td>-1</td>\n",
              "      <td>-1</td>\n",
              "      <td>-1</td>\n",
              "      <td>-1</td>\n",
              "      <td>1</td>\n",
              "      <td>-1</td>\n",
              "      <td>1</td>\n",
              "      <td>-1</td>\n",
              "      <td>1</td>\n",
              "      <td>1</td>\n",
              "      <td>-1</td>\n",
              "      <td>1</td>\n",
              "    </tr>\n",
              "    <tr>\n",
              "      <th>4</th>\n",
              "      <td>data/img_align_celeba/img_align_celeba/000005.jpg</td>\n",
              "      <td>-1</td>\n",
              "      <td>1</td>\n",
              "      <td>1</td>\n",
              "      <td>-1</td>\n",
              "      <td>-1</td>\n",
              "      <td>-1</td>\n",
              "      <td>1</td>\n",
              "      <td>-1</td>\n",
              "      <td>-1</td>\n",
              "      <td>-1</td>\n",
              "      <td>-1</td>\n",
              "      <td>-1</td>\n",
              "      <td>-1</td>\n",
              "      <td>-1</td>\n",
              "      <td>-1</td>\n",
              "      <td>-1</td>\n",
              "      <td>-1</td>\n",
              "      <td>-1</td>\n",
              "      <td>1</td>\n",
              "      <td>-1</td>\n",
              "      <td>-1</td>\n",
              "      <td>-1</td>\n",
              "      <td>-1</td>\n",
              "      <td>1</td>\n",
              "      <td>1</td>\n",
              "      <td>-1</td>\n",
              "      <td>-1</td>\n",
              "      <td>1</td>\n",
              "      <td>-1</td>\n",
              "      <td>-1</td>\n",
              "      <td>-1</td>\n",
              "      <td>-1</td>\n",
              "      <td>-1</td>\n",
              "      <td>-1</td>\n",
              "      <td>-1</td>\n",
              "      <td>-1</td>\n",
              "      <td>1</td>\n",
              "      <td>-1</td>\n",
              "      <td>-1</td>\n",
              "      <td>1</td>\n",
              "    </tr>\n",
              "  </tbody>\n",
              "</table>\n",
              "</div>"
            ],
            "text/plain": [
              "                                            image_id  ...  Young\n",
              "0  data/img_align_celeba/img_align_celeba/000001.jpg  ...      1\n",
              "1  data/img_align_celeba/img_align_celeba/000002.jpg  ...      1\n",
              "2  data/img_align_celeba/img_align_celeba/000003.jpg  ...      1\n",
              "3  data/img_align_celeba/img_align_celeba/000004.jpg  ...      1\n",
              "4  data/img_align_celeba/img_align_celeba/000005.jpg  ...      1\n",
              "\n",
              "[5 rows x 41 columns]"
            ]
          },
          "metadata": {
            "tags": []
          },
          "execution_count": 5
        }
      ]
    },
    {
      "cell_type": "code",
      "metadata": {
        "colab": {
          "base_uri": "https://localhost:8080/",
          "height": 222
        },
        "id": "eo_8uc8xOMJZ",
        "outputId": "8d0d36b7-587e-4bc8-c51a-c70e763d9fdf"
      },
      "source": [
        "celebs.replace(-1, 0, inplace=True)\n",
        "celebs.head()"
      ],
      "execution_count": 6,
      "outputs": [
        {
          "output_type": "execute_result",
          "data": {
            "text/html": [
              "<div>\n",
              "<style scoped>\n",
              "    .dataframe tbody tr th:only-of-type {\n",
              "        vertical-align: middle;\n",
              "    }\n",
              "\n",
              "    .dataframe tbody tr th {\n",
              "        vertical-align: top;\n",
              "    }\n",
              "\n",
              "    .dataframe thead th {\n",
              "        text-align: right;\n",
              "    }\n",
              "</style>\n",
              "<table border=\"1\" class=\"dataframe\">\n",
              "  <thead>\n",
              "    <tr style=\"text-align: right;\">\n",
              "      <th></th>\n",
              "      <th>image_id</th>\n",
              "      <th>5_o_Clock_Shadow</th>\n",
              "      <th>Arched_Eyebrows</th>\n",
              "      <th>Attractive</th>\n",
              "      <th>Bags_Under_Eyes</th>\n",
              "      <th>Bald</th>\n",
              "      <th>Bangs</th>\n",
              "      <th>Big_Lips</th>\n",
              "      <th>Big_Nose</th>\n",
              "      <th>Black_Hair</th>\n",
              "      <th>Blond_Hair</th>\n",
              "      <th>Blurry</th>\n",
              "      <th>Brown_Hair</th>\n",
              "      <th>Bushy_Eyebrows</th>\n",
              "      <th>Chubby</th>\n",
              "      <th>Double_Chin</th>\n",
              "      <th>Eyeglasses</th>\n",
              "      <th>Goatee</th>\n",
              "      <th>Gray_Hair</th>\n",
              "      <th>Heavy_Makeup</th>\n",
              "      <th>High_Cheekbones</th>\n",
              "      <th>Male</th>\n",
              "      <th>Mouth_Slightly_Open</th>\n",
              "      <th>Mustache</th>\n",
              "      <th>Narrow_Eyes</th>\n",
              "      <th>No_Beard</th>\n",
              "      <th>Oval_Face</th>\n",
              "      <th>Pale_Skin</th>\n",
              "      <th>Pointy_Nose</th>\n",
              "      <th>Receding_Hairline</th>\n",
              "      <th>Rosy_Cheeks</th>\n",
              "      <th>Sideburns</th>\n",
              "      <th>Smiling</th>\n",
              "      <th>Straight_Hair</th>\n",
              "      <th>Wavy_Hair</th>\n",
              "      <th>Wearing_Earrings</th>\n",
              "      <th>Wearing_Hat</th>\n",
              "      <th>Wearing_Lipstick</th>\n",
              "      <th>Wearing_Necklace</th>\n",
              "      <th>Wearing_Necktie</th>\n",
              "      <th>Young</th>\n",
              "    </tr>\n",
              "  </thead>\n",
              "  <tbody>\n",
              "    <tr>\n",
              "      <th>0</th>\n",
              "      <td>data/img_align_celeba/img_align_celeba/000001.jpg</td>\n",
              "      <td>0</td>\n",
              "      <td>1</td>\n",
              "      <td>1</td>\n",
              "      <td>0</td>\n",
              "      <td>0</td>\n",
              "      <td>0</td>\n",
              "      <td>0</td>\n",
              "      <td>0</td>\n",
              "      <td>0</td>\n",
              "      <td>0</td>\n",
              "      <td>0</td>\n",
              "      <td>1</td>\n",
              "      <td>0</td>\n",
              "      <td>0</td>\n",
              "      <td>0</td>\n",
              "      <td>0</td>\n",
              "      <td>0</td>\n",
              "      <td>0</td>\n",
              "      <td>1</td>\n",
              "      <td>1</td>\n",
              "      <td>0</td>\n",
              "      <td>1</td>\n",
              "      <td>0</td>\n",
              "      <td>0</td>\n",
              "      <td>1</td>\n",
              "      <td>0</td>\n",
              "      <td>0</td>\n",
              "      <td>1</td>\n",
              "      <td>0</td>\n",
              "      <td>0</td>\n",
              "      <td>0</td>\n",
              "      <td>1</td>\n",
              "      <td>1</td>\n",
              "      <td>0</td>\n",
              "      <td>1</td>\n",
              "      <td>0</td>\n",
              "      <td>1</td>\n",
              "      <td>0</td>\n",
              "      <td>0</td>\n",
              "      <td>1</td>\n",
              "    </tr>\n",
              "    <tr>\n",
              "      <th>1</th>\n",
              "      <td>data/img_align_celeba/img_align_celeba/000002.jpg</td>\n",
              "      <td>0</td>\n",
              "      <td>0</td>\n",
              "      <td>0</td>\n",
              "      <td>1</td>\n",
              "      <td>0</td>\n",
              "      <td>0</td>\n",
              "      <td>0</td>\n",
              "      <td>1</td>\n",
              "      <td>0</td>\n",
              "      <td>0</td>\n",
              "      <td>0</td>\n",
              "      <td>1</td>\n",
              "      <td>0</td>\n",
              "      <td>0</td>\n",
              "      <td>0</td>\n",
              "      <td>0</td>\n",
              "      <td>0</td>\n",
              "      <td>0</td>\n",
              "      <td>0</td>\n",
              "      <td>1</td>\n",
              "      <td>0</td>\n",
              "      <td>1</td>\n",
              "      <td>0</td>\n",
              "      <td>0</td>\n",
              "      <td>1</td>\n",
              "      <td>0</td>\n",
              "      <td>0</td>\n",
              "      <td>0</td>\n",
              "      <td>0</td>\n",
              "      <td>0</td>\n",
              "      <td>0</td>\n",
              "      <td>1</td>\n",
              "      <td>0</td>\n",
              "      <td>0</td>\n",
              "      <td>0</td>\n",
              "      <td>0</td>\n",
              "      <td>0</td>\n",
              "      <td>0</td>\n",
              "      <td>0</td>\n",
              "      <td>1</td>\n",
              "    </tr>\n",
              "    <tr>\n",
              "      <th>2</th>\n",
              "      <td>data/img_align_celeba/img_align_celeba/000003.jpg</td>\n",
              "      <td>0</td>\n",
              "      <td>0</td>\n",
              "      <td>0</td>\n",
              "      <td>0</td>\n",
              "      <td>0</td>\n",
              "      <td>0</td>\n",
              "      <td>1</td>\n",
              "      <td>0</td>\n",
              "      <td>0</td>\n",
              "      <td>0</td>\n",
              "      <td>1</td>\n",
              "      <td>0</td>\n",
              "      <td>0</td>\n",
              "      <td>0</td>\n",
              "      <td>0</td>\n",
              "      <td>0</td>\n",
              "      <td>0</td>\n",
              "      <td>0</td>\n",
              "      <td>0</td>\n",
              "      <td>0</td>\n",
              "      <td>1</td>\n",
              "      <td>0</td>\n",
              "      <td>0</td>\n",
              "      <td>1</td>\n",
              "      <td>1</td>\n",
              "      <td>0</td>\n",
              "      <td>0</td>\n",
              "      <td>1</td>\n",
              "      <td>0</td>\n",
              "      <td>0</td>\n",
              "      <td>0</td>\n",
              "      <td>0</td>\n",
              "      <td>0</td>\n",
              "      <td>1</td>\n",
              "      <td>0</td>\n",
              "      <td>0</td>\n",
              "      <td>0</td>\n",
              "      <td>0</td>\n",
              "      <td>0</td>\n",
              "      <td>1</td>\n",
              "    </tr>\n",
              "    <tr>\n",
              "      <th>3</th>\n",
              "      <td>data/img_align_celeba/img_align_celeba/000004.jpg</td>\n",
              "      <td>0</td>\n",
              "      <td>0</td>\n",
              "      <td>1</td>\n",
              "      <td>0</td>\n",
              "      <td>0</td>\n",
              "      <td>0</td>\n",
              "      <td>0</td>\n",
              "      <td>0</td>\n",
              "      <td>0</td>\n",
              "      <td>0</td>\n",
              "      <td>0</td>\n",
              "      <td>0</td>\n",
              "      <td>0</td>\n",
              "      <td>0</td>\n",
              "      <td>0</td>\n",
              "      <td>0</td>\n",
              "      <td>0</td>\n",
              "      <td>0</td>\n",
              "      <td>0</td>\n",
              "      <td>0</td>\n",
              "      <td>0</td>\n",
              "      <td>0</td>\n",
              "      <td>0</td>\n",
              "      <td>0</td>\n",
              "      <td>1</td>\n",
              "      <td>0</td>\n",
              "      <td>0</td>\n",
              "      <td>1</td>\n",
              "      <td>0</td>\n",
              "      <td>0</td>\n",
              "      <td>0</td>\n",
              "      <td>0</td>\n",
              "      <td>1</td>\n",
              "      <td>0</td>\n",
              "      <td>1</td>\n",
              "      <td>0</td>\n",
              "      <td>1</td>\n",
              "      <td>1</td>\n",
              "      <td>0</td>\n",
              "      <td>1</td>\n",
              "    </tr>\n",
              "    <tr>\n",
              "      <th>4</th>\n",
              "      <td>data/img_align_celeba/img_align_celeba/000005.jpg</td>\n",
              "      <td>0</td>\n",
              "      <td>1</td>\n",
              "      <td>1</td>\n",
              "      <td>0</td>\n",
              "      <td>0</td>\n",
              "      <td>0</td>\n",
              "      <td>1</td>\n",
              "      <td>0</td>\n",
              "      <td>0</td>\n",
              "      <td>0</td>\n",
              "      <td>0</td>\n",
              "      <td>0</td>\n",
              "      <td>0</td>\n",
              "      <td>0</td>\n",
              "      <td>0</td>\n",
              "      <td>0</td>\n",
              "      <td>0</td>\n",
              "      <td>0</td>\n",
              "      <td>1</td>\n",
              "      <td>0</td>\n",
              "      <td>0</td>\n",
              "      <td>0</td>\n",
              "      <td>0</td>\n",
              "      <td>1</td>\n",
              "      <td>1</td>\n",
              "      <td>0</td>\n",
              "      <td>0</td>\n",
              "      <td>1</td>\n",
              "      <td>0</td>\n",
              "      <td>0</td>\n",
              "      <td>0</td>\n",
              "      <td>0</td>\n",
              "      <td>0</td>\n",
              "      <td>0</td>\n",
              "      <td>0</td>\n",
              "      <td>0</td>\n",
              "      <td>1</td>\n",
              "      <td>0</td>\n",
              "      <td>0</td>\n",
              "      <td>1</td>\n",
              "    </tr>\n",
              "  </tbody>\n",
              "</table>\n",
              "</div>"
            ],
            "text/plain": [
              "                                            image_id  ...  Young\n",
              "0  data/img_align_celeba/img_align_celeba/000001.jpg  ...      1\n",
              "1  data/img_align_celeba/img_align_celeba/000002.jpg  ...      1\n",
              "2  data/img_align_celeba/img_align_celeba/000003.jpg  ...      1\n",
              "3  data/img_align_celeba/img_align_celeba/000004.jpg  ...      1\n",
              "4  data/img_align_celeba/img_align_celeba/000005.jpg  ...      1\n",
              "\n",
              "[5 rows x 41 columns]"
            ]
          },
          "metadata": {
            "tags": []
          },
          "execution_count": 6
        }
      ]
    },
    {
      "cell_type": "code",
      "metadata": {
        "colab": {
          "base_uri": "https://localhost:8080/"
        },
        "id": "33wPqBCWOMVD",
        "outputId": "af616c3d-4961-4523-ac04-06196465928b"
      },
      "source": [
        "img=mpimg.imread(celebs[\"image_id\"][0])\n",
        "img.shape"
      ],
      "execution_count": 7,
      "outputs": [
        {
          "output_type": "execute_result",
          "data": {
            "text/plain": [
              "(218, 178, 3)"
            ]
          },
          "metadata": {
            "tags": []
          },
          "execution_count": 7
        }
      ]
    },
    {
      "cell_type": "code",
      "metadata": {
        "colab": {
          "base_uri": "https://localhost:8080/"
        },
        "id": "22R2UCSrOMhU",
        "outputId": "9e8903d2-57ed-4c5a-b6e2-eb69df5a1f45"
      },
      "source": [
        "img_crop=img[20:198,:,:]\n",
        "img_crop.shape"
      ],
      "execution_count": 8,
      "outputs": [
        {
          "output_type": "execute_result",
          "data": {
            "text/plain": [
              "(178, 178, 3)"
            ]
          },
          "metadata": {
            "tags": []
          },
          "execution_count": 8
        }
      ]
    },
    {
      "cell_type": "code",
      "metadata": {
        "colab": {
          "base_uri": "https://localhost:8080/",
          "height": 287
        },
        "id": "4p24FW-PPI-f",
        "outputId": "132384c4-cd04-48ce-8b8b-c1abfe756593"
      },
      "source": [
        "plt.imshow(img)"
      ],
      "execution_count": 9,
      "outputs": [
        {
          "output_type": "execute_result",
          "data": {
            "text/plain": [
              "<matplotlib.image.AxesImage at 0x7f2750192b50>"
            ]
          },
          "metadata": {
            "tags": []
          },
          "execution_count": 9
        },
        {
          "output_type": "display_data",
          "data": {
            "image/png": "[encoded data removed]",
            "text/plain": [
              "<Figure size 432x288 with 1 Axes>"
            ]
          },
          "metadata": {
            "tags": [],
            "needs_background": "light"
          }
        }
      ]
    },
    {
      "cell_type": "code",
      "metadata": {
        "colab": {
          "base_uri": "https://localhost:8080/",
          "height": 287
        },
        "id": "JLoqAHNvPJHj",
        "outputId": "a0d3ba88-01ca-4b41-a622-79ee8fd9738b"
      },
      "source": [
        "plt.imshow(img_crop)"
      ],
      "execution_count": 10,
      "outputs": [
        {
          "output_type": "execute_result",
          "data": {
            "text/plain": [
              "<matplotlib.image.AxesImage at 0x7f274fda6790>"
            ]
          },
          "metadata": {
            "tags": []
          },
          "execution_count": 10
        },
        {
          "output_type": "display_data",
          "data": {
            "image/png": "[encoded data removed]",
            "text/plain": [
              "<Figure size 432x288 with 1 Axes>"
            ]
          },
          "metadata": {
            "tags": [],
            "needs_background": "light"
          }
        }
      ]
    },
    {
      "cell_type": "code",
      "metadata": {
        "id": "TgN4dIM3PJO5"
      },
      "source": [
        "my_list=[]\n",
        "for i in range(5000):\n",
        "    img=mpimg.imread(celebs[\"image_id\"][i])\n",
        "    img=img[20:198,:,:]\n",
        "    my_list.append(img/255)"
      ],
      "execution_count": 7,
      "outputs": []
    },
    {
      "cell_type": "code",
      "metadata": {
        "id": "YGL-78zZPJfy",
        "colab": {
          "base_uri": "https://localhost:8080/"
        },
        "outputId": "b6b397c4-ed0b-4147-f448-e68f0dac233d"
      },
      "source": [
        "y=celebs.loc[:4999,['Male', 'Young', 'Attractive', 'Smiling', 'Heavy_Makeup',\n",
        "                    'High_Cheekbones', 'Narrow_Eyes', 'Pale_Skin', 'Oval_Face', \n",
        "                    'Straight_Hair', 'Wavy_Hair', 'Bald', 'Black_Hair', 'Blond_Hair', 'Brown_Hair']]\n",
        "y.groupby('Oval_Face').size()"
      ],
      "execution_count": 24,
      "outputs": [
        {
          "output_type": "execute_result",
          "data": {
            "text/plain": [
              "Oval_Face\n",
              "0    3648\n",
              "1    1352\n",
              "dtype: int64"
            ]
          },
          "metadata": {
            "tags": []
          },
          "execution_count": 24
        }
      ]
    },
    {
      "cell_type": "code",
      "metadata": {
        "id": "XVGHLSbaPJsn"
      },
      "source": [
        "X_train, X_valid, y_train, y_valid = train_test_split(np.array(my_list), y, test_size=0.20, random_state=82)\n",
        "\n",
        "my_list=[]"
      ],
      "execution_count": 9,
      "outputs": []
    },
    {
      "cell_type": "code",
      "metadata": {
        "colab": {
          "base_uri": "https://localhost:8080/"
        },
        "id": "kOpW1wjNFs3H",
        "outputId": "def7df56-73d5-4db2-b989-ff61747fe054"
      },
      "source": [
        "X_train.shape"
      ],
      "execution_count": 10,
      "outputs": [
        {
          "output_type": "execute_result",
          "data": {
            "text/plain": [
              "(4000, 178, 178, 3)"
            ]
          },
          "metadata": {
            "tags": []
          },
          "execution_count": 10
        }
      ]
    },
    {
      "cell_type": "code",
      "metadata": {
        "id": "0WxuMUJcFs5m"
      },
      "source": [
        "# create test set\n",
        "new_list=[]\n",
        "for i in range(1000):\n",
        "    img=mpimg.imread(celebs[\"image_id\"][5000+i])\n",
        "    img=img[20:198,:,:]\n",
        "    new_list.append(img/255)\n",
        "\n",
        "X_test = np.array(new_list)\n",
        "\n",
        "new_list=[]\n",
        "\n",
        "y_test = celebs.loc[5000:5999,['Male', 'Young', 'Attractive', 'Smiling', 'Heavy_Makeup',\n",
        "                               'High_Cheekbones', 'Narrow_Eyes', 'Pale_Skin', 'Oval_Face', \n",
        "                               'Straight_Hair', 'Wavy_Hair', 'Bald', 'Black_Hair', 'Blond_Hair', 'Brown_Hair']]"
      ],
      "execution_count": 11,
      "outputs": []
    },
    {
      "cell_type": "code",
      "metadata": {
        "colab": {
          "base_uri": "https://localhost:8080/"
        },
        "id": "yCuEAqGQFs8U",
        "outputId": "9f0e486a-495a-4bb7-af56-ee641aba15ec"
      },
      "source": [
        "X_test.shape"
      ],
      "execution_count": 13,
      "outputs": [
        {
          "output_type": "execute_result",
          "data": {
            "text/plain": [
              "(1000, 178, 178, 3)"
            ]
          },
          "metadata": {
            "tags": []
          },
          "execution_count": 13
        }
      ]
    },
    {
      "cell_type": "code",
      "metadata": {
        "colab": {
          "base_uri": "https://localhost:8080/"
        },
        "id": "EEMwTW7gFs_X",
        "outputId": "7d7af484-62c8-4ff8-ba75-821e1b250358"
      },
      "source": [
        "y_test.shape"
      ],
      "execution_count": 14,
      "outputs": [
        {
          "output_type": "execute_result",
          "data": {
            "text/plain": [
              "(1000, 9)"
            ]
          },
          "metadata": {
            "tags": []
          },
          "execution_count": 14
        }
      ]
    },
    {
      "cell_type": "markdown",
      "metadata": {
        "id": "RG55uUywUTxp"
      },
      "source": [
        "### Build Models for Binary Classification of several Facial Attributes"
      ]
    },
    {
      "cell_type": "code",
      "metadata": {
        "id": "JM7JV-TXXxy1"
      },
      "source": [
        "# Create checkpoint2 directory (if not exist) to store best models\n",
        "\n",
        "import os\n",
        "try:\n",
        "    os.mkdir('checkpoint2')\n",
        "except:\n",
        "    pass"
      ],
      "execution_count": 15,
      "outputs": []
    },
    {
      "cell_type": "markdown",
      "metadata": {
        "id": "JD1uCi6wYAdg"
      },
      "source": [
        "#### Binary Classification for Attribute Male"
      ]
    },
    {
      "cell_type": "code",
      "metadata": {
        "colab": {
          "base_uri": "https://localhost:8080/"
        },
        "id": "qeGwcsExFtCs",
        "outputId": "07f34681-c1e9-4d32-fc77-044024da7520"
      },
      "source": [
        "# male_model to classify binaty attrubute \"male\"\n",
        "\n",
        "layer_male1 = keras.layers.Conv2D(32, 3, activation=\"relu\")\n",
        "layer_male2 = keras.layers.MaxPooling2D(2,2)\n",
        "layer_male3 = keras.layers.Conv2D(64, 3, activation=\"relu\")\n",
        "layer_male4 = keras.layers.MaxPooling2D(2,2)\n",
        "layer_male5 = keras.layers.Conv2D(128, 3, activation=\"relu\")\n",
        "layer_male6 = keras.layers.MaxPooling2D(2,2)\n",
        "layer_male7 = keras.layers.Conv2D(256, 3, activation=\"relu\")\n",
        "layer_male8 = keras.layers.MaxPooling2D(2,2)\n",
        "layer_male9 = keras.layers.Conv2D(512, 3, activation=\"relu\")\n",
        "layer_male10 = keras.layers.MaxPooling2D(2,2)\n",
        "layer_male11 = keras.layers.Flatten()\n",
        "layer_male12 = keras.layers.Dense(1000, activation=\"relu\")\n",
        "layer_male13 = keras.layers.Dense(256, activation=\"relu\")\n",
        "layer_male14 = keras.layers.Dense(2, activation=\"softmax\")\n",
        "\n",
        "male_model = keras.Sequential([keras.layers.Input(shape=(178, 178, 3)), layer_male1, layer_male2, layer_male3, layer_male4, layer_male5, \n",
        "                              layer_male6, layer_male7, layer_male8, layer_male9, layer_male10, layer_male11, layer_male12, \n",
        "                              layer_male13, layer_male14])\n",
        "\n",
        "male_model.summary()"
      ],
      "execution_count": 48,
      "outputs": [
        {
          "output_type": "stream",
          "text": [
            "WARNING:tensorflow:Please add `keras.layers.InputLayer` instead of `keras.Input` to Sequential model. `keras.Input` is intended to be used by Functional model.\n",
            "Model: \"sequential_3\"\n",
            "_________________________________________________________________\n",
            "Layer (type)                 Output Shape              Param #   \n",
            "=================================================================\n",
            "conv2d_15 (Conv2D)           (None, 176, 176, 32)      896       \n",
            "_________________________________________________________________\n",
            "max_pooling2d_15 (MaxPooling (None, 88, 88, 32)        0         \n",
            "_________________________________________________________________\n",
            "conv2d_16 (Conv2D)           (None, 86, 86, 64)        18496     \n",
            "_________________________________________________________________\n",
            "max_pooling2d_16 (MaxPooling (None, 43, 43, 64)        0         \n",
            "_________________________________________________________________\n",
            "conv2d_17 (Conv2D)           (None, 41, 41, 128)       73856     \n",
            "_________________________________________________________________\n",
            "max_pooling2d_17 (MaxPooling (None, 20, 20, 128)       0         \n",
            "_________________________________________________________________\n",
            "conv2d_18 (Conv2D)           (None, 18, 18, 256)       295168    \n",
            "_________________________________________________________________\n",
            "max_pooling2d_18 (MaxPooling (None, 9, 9, 256)         0         \n",
            "_________________________________________________________________\n",
            "conv2d_19 (Conv2D)           (None, 7, 7, 512)         1180160   \n",
            "_________________________________________________________________\n",
            "max_pooling2d_19 (MaxPooling (None, 3, 3, 512)         0         \n",
            "_________________________________________________________________\n",
            "flatten_3 (Flatten)          (None, 4608)              0         \n",
            "_________________________________________________________________\n",
            "dense_9 (Dense)              (None, 1000)              4609000   \n",
            "_________________________________________________________________\n",
            "dense_10 (Dense)             (None, 256)               256256    \n",
            "_________________________________________________________________\n",
            "dense_11 (Dense)             (None, 2)                 514       \n",
            "=================================================================\n",
            "Total params: 6,434,346\n",
            "Trainable params: 6,434,346\n",
            "Non-trainable params: 0\n",
            "_________________________________________________________________\n"
          ],
          "name": "stdout"
        }
      ]
    },
    {
      "cell_type": "code",
      "metadata": {
        "id": "Y5P2oH68O1mF"
      },
      "source": [
        "# Create y_male train-validation-tests sets for classification task \"Male\"\n",
        "\n",
        "y_male_train=y_train[\"Male\"]\n",
        "y_male_valid=y_valid[\"Male\"]\n",
        "y_male_test=y_test[\"Male\"]"
      ],
      "execution_count": 49,
      "outputs": []
    },
    {
      "cell_type": "code",
      "metadata": {
        "id": "ScMhqseCO1o4"
      },
      "source": [
        "# We specify the training configuration (optimizer, loss, metrics):\n",
        "male_model.compile(\n",
        "    optimizer=keras.optimizers.RMSprop(learning_rate=0.001),  \n",
        "    loss=keras.losses.SparseCategoricalCrossentropy(),\n",
        "    metrics=[keras.metrics.SparseCategoricalAccuracy()])"
      ],
      "execution_count": 51,
      "outputs": []
    },
    {
      "cell_type": "code",
      "metadata": {
        "id": "LgFVtNjyO1sW"
      },
      "source": [
        "# Call_back to store best model\n",
        "file_name = 'best_model_male.h5'\n",
        "checkpoint_path= os.path.join('checkpoint2',file_name)\n",
        "\n",
        "call_back = tf.keras.callbacks.ModelCheckpoint(filepath=checkpoint_path, \n",
        "                                                 monitor='val_sparse_categorical_accuracy', \n",
        "                                                 verbose=1,\n",
        "                                                 save_freq='epoch',\n",
        "                                                 save_best_only=True, \n",
        "                                                 save_weights_only=False, \n",
        "                                                 mode='max')"
      ],
      "execution_count": 52,
      "outputs": []
    },
    {
      "cell_type": "code",
      "metadata": {
        "colab": {
          "base_uri": "https://localhost:8080/"
        },
        "id": "03zgtpCyO12E",
        "outputId": "c6c30cf3-abf7-4e22-a2dd-7001046efbc6"
      },
      "source": [
        "# Fit model to training data - track through validation data\n",
        "print(\"Fit model on training data\")\n",
        "history = male_model.fit(\n",
        "    X_train,\n",
        "    y_male_train,\n",
        "    batch_size=128,\n",
        "    epochs=30,\n",
        "    validation_data=(X_valid, y_male_valid),\n",
        "    callbacks=call_back,\n",
        "    shuffle=True)"
      ],
      "execution_count": 53,
      "outputs": [
        {
          "output_type": "stream",
          "text": [
            "Fit model on training data\n",
            "Epoch 1/30\n",
            "32/32 [==============================] - 6s 168ms/step - loss: 0.8889 - sparse_categorical_accuracy: 0.5650 - val_loss: 0.6811 - val_sparse_categorical_accuracy: 0.5870\n",
            "\n",
            "Epoch 00001: val_sparse_categorical_accuracy improved from -inf to 0.58700, saving model to checkpoint2/best_model_male.h5\n",
            "Epoch 2/30\n",
            "32/32 [==============================] - 5s 142ms/step - loss: 0.6993 - sparse_categorical_accuracy: 0.5830 - val_loss: 0.6909 - val_sparse_categorical_accuracy: 0.5400\n",
            "\n",
            "Epoch 00002: val_sparse_categorical_accuracy did not improve from 0.58700\n",
            "Epoch 3/30\n",
            "32/32 [==============================] - 4s 140ms/step - loss: 0.6591 - sparse_categorical_accuracy: 0.6110 - val_loss: 0.6148 - val_sparse_categorical_accuracy: 0.6250\n",
            "\n",
            "Epoch 00003: val_sparse_categorical_accuracy improved from 0.58700 to 0.62500, saving model to checkpoint2/best_model_male.h5\n",
            "Epoch 4/30\n",
            "32/32 [==============================] - 5s 143ms/step - loss: 0.5882 - sparse_categorical_accuracy: 0.6810 - val_loss: 0.5935 - val_sparse_categorical_accuracy: 0.7160\n",
            "\n",
            "Epoch 00004: val_sparse_categorical_accuracy improved from 0.62500 to 0.71600, saving model to checkpoint2/best_model_male.h5\n",
            "Epoch 5/30\n",
            "32/32 [==============================] - 5s 143ms/step - loss: 0.5207 - sparse_categorical_accuracy: 0.7535 - val_loss: 0.3751 - val_sparse_categorical_accuracy: 0.8430\n",
            "\n",
            "Epoch 00005: val_sparse_categorical_accuracy improved from 0.71600 to 0.84300, saving model to checkpoint2/best_model_male.h5\n",
            "Epoch 6/30\n",
            "32/32 [==============================] - 5s 141ms/step - loss: 0.3586 - sparse_categorical_accuracy: 0.8422 - val_loss: 0.3412 - val_sparse_categorical_accuracy: 0.8790\n",
            "\n",
            "Epoch 00006: val_sparse_categorical_accuracy improved from 0.84300 to 0.87900, saving model to checkpoint2/best_model_male.h5\n",
            "Epoch 7/30\n",
            "32/32 [==============================] - 4s 141ms/step - loss: 0.2938 - sparse_categorical_accuracy: 0.8758 - val_loss: 0.3111 - val_sparse_categorical_accuracy: 0.8980\n",
            "\n",
            "Epoch 00007: val_sparse_categorical_accuracy improved from 0.87900 to 0.89800, saving model to checkpoint2/best_model_male.h5\n",
            "Epoch 8/30\n",
            "32/32 [==============================] - 5s 141ms/step - loss: 0.2397 - sparse_categorical_accuracy: 0.9032 - val_loss: 2.8012 - val_sparse_categorical_accuracy: 0.5790\n",
            "\n",
            "Epoch 00008: val_sparse_categorical_accuracy did not improve from 0.89800\n",
            "Epoch 9/30\n",
            "32/32 [==============================] - 5s 142ms/step - loss: 0.2545 - sparse_categorical_accuracy: 0.9137 - val_loss: 0.2335 - val_sparse_categorical_accuracy: 0.9080\n",
            "\n",
            "Epoch 00009: val_sparse_categorical_accuracy improved from 0.89800 to 0.90800, saving model to checkpoint2/best_model_male.h5\n",
            "Epoch 10/30\n",
            "32/32 [==============================] - 4s 140ms/step - loss: 0.1626 - sparse_categorical_accuracy: 0.9373 - val_loss: 0.1995 - val_sparse_categorical_accuracy: 0.9250\n",
            "\n",
            "Epoch 00010: val_sparse_categorical_accuracy improved from 0.90800 to 0.92500, saving model to checkpoint2/best_model_male.h5\n",
            "Epoch 11/30\n",
            "32/32 [==============================] - 5s 141ms/step - loss: 0.1665 - sparse_categorical_accuracy: 0.9345 - val_loss: 0.3679 - val_sparse_categorical_accuracy: 0.8750\n",
            "\n",
            "Epoch 00011: val_sparse_categorical_accuracy did not improve from 0.92500\n",
            "Epoch 12/30\n",
            "32/32 [==============================] - 4s 141ms/step - loss: 0.1328 - sparse_categorical_accuracy: 0.9492 - val_loss: 0.1975 - val_sparse_categorical_accuracy: 0.9320\n",
            "\n",
            "Epoch 00012: val_sparse_categorical_accuracy improved from 0.92500 to 0.93200, saving model to checkpoint2/best_model_male.h5\n",
            "Epoch 13/30\n",
            "32/32 [==============================] - 4s 141ms/step - loss: 0.1085 - sparse_categorical_accuracy: 0.9592 - val_loss: 0.2847 - val_sparse_categorical_accuracy: 0.8940\n",
            "\n",
            "Epoch 00013: val_sparse_categorical_accuracy did not improve from 0.93200\n",
            "Epoch 14/30\n",
            "32/32 [==============================] - 4s 141ms/step - loss: 0.0930 - sparse_categorical_accuracy: 0.9630 - val_loss: 0.1934 - val_sparse_categorical_accuracy: 0.9420\n",
            "\n",
            "Epoch 00014: val_sparse_categorical_accuracy improved from 0.93200 to 0.94200, saving model to checkpoint2/best_model_male.h5\n",
            "Epoch 15/30\n",
            "32/32 [==============================] - 4s 140ms/step - loss: 0.0789 - sparse_categorical_accuracy: 0.9693 - val_loss: 0.2831 - val_sparse_categorical_accuracy: 0.9250\n",
            "\n",
            "Epoch 00015: val_sparse_categorical_accuracy did not improve from 0.94200\n",
            "Epoch 16/30\n",
            "32/32 [==============================] - 5s 142ms/step - loss: 0.0655 - sparse_categorical_accuracy: 0.9740 - val_loss: 0.4487 - val_sparse_categorical_accuracy: 0.9070\n",
            "\n",
            "Epoch 00016: val_sparse_categorical_accuracy did not improve from 0.94200\n",
            "Epoch 17/30\n",
            "32/32 [==============================] - 5s 143ms/step - loss: 0.0686 - sparse_categorical_accuracy: 0.9712 - val_loss: 0.3087 - val_sparse_categorical_accuracy: 0.8700\n",
            "\n",
            "Epoch 00017: val_sparse_categorical_accuracy did not improve from 0.94200\n",
            "Epoch 18/30\n",
            "32/32 [==============================] - 5s 142ms/step - loss: 0.0495 - sparse_categorical_accuracy: 0.9805 - val_loss: 0.2061 - val_sparse_categorical_accuracy: 0.9420\n",
            "\n",
            "Epoch 00018: val_sparse_categorical_accuracy did not improve from 0.94200\n",
            "Epoch 19/30\n",
            "32/32 [==============================] - 5s 141ms/step - loss: 0.0476 - sparse_categorical_accuracy: 0.9818 - val_loss: 0.2945 - val_sparse_categorical_accuracy: 0.9330\n",
            "\n",
            "Epoch 00019: val_sparse_categorical_accuracy did not improve from 0.94200\n",
            "Epoch 20/30\n",
            "32/32 [==============================] - 5s 142ms/step - loss: 0.0371 - sparse_categorical_accuracy: 0.9862 - val_loss: 0.2890 - val_sparse_categorical_accuracy: 0.9180\n",
            "\n",
            "Epoch 00020: val_sparse_categorical_accuracy did not improve from 0.94200\n",
            "Epoch 21/30\n",
            "32/32 [==============================] - 5s 143ms/step - loss: 0.0331 - sparse_categorical_accuracy: 0.9875 - val_loss: 0.4168 - val_sparse_categorical_accuracy: 0.9310\n",
            "\n",
            "Epoch 00021: val_sparse_categorical_accuracy did not improve from 0.94200\n",
            "Epoch 22/30\n",
            "32/32 [==============================] - 5s 141ms/step - loss: 0.0475 - sparse_categorical_accuracy: 0.9835 - val_loss: 0.3070 - val_sparse_categorical_accuracy: 0.9450\n",
            "\n",
            "Epoch 00022: val_sparse_categorical_accuracy improved from 0.94200 to 0.94500, saving model to checkpoint2/best_model_male.h5\n",
            "Epoch 23/30\n",
            "32/32 [==============================] - 5s 141ms/step - loss: 0.0395 - sparse_categorical_accuracy: 0.9880 - val_loss: 0.2894 - val_sparse_categorical_accuracy: 0.9330\n",
            "\n",
            "Epoch 00023: val_sparse_categorical_accuracy did not improve from 0.94500\n",
            "Epoch 24/30\n",
            "32/32 [==============================] - 5s 142ms/step - loss: 0.0189 - sparse_categorical_accuracy: 0.9935 - val_loss: 0.4553 - val_sparse_categorical_accuracy: 0.9520\n",
            "\n",
            "Epoch 00024: val_sparse_categorical_accuracy improved from 0.94500 to 0.95200, saving model to checkpoint2/best_model_male.h5\n",
            "Epoch 25/30\n",
            "32/32 [==============================] - 5s 141ms/step - loss: 0.0683 - sparse_categorical_accuracy: 0.9803 - val_loss: 0.3429 - val_sparse_categorical_accuracy: 0.9340\n",
            "\n",
            "Epoch 00025: val_sparse_categorical_accuracy did not improve from 0.95200\n",
            "Epoch 26/30\n",
            "32/32 [==============================] - 5s 141ms/step - loss: 0.0364 - sparse_categorical_accuracy: 0.9908 - val_loss: 0.4882 - val_sparse_categorical_accuracy: 0.9260\n",
            "\n",
            "Epoch 00026: val_sparse_categorical_accuracy did not improve from 0.95200\n",
            "Epoch 27/30\n",
            "32/32 [==============================] - 5s 142ms/step - loss: 0.0199 - sparse_categorical_accuracy: 0.9915 - val_loss: 0.4907 - val_sparse_categorical_accuracy: 0.9290\n",
            "\n",
            "Epoch 00027: val_sparse_categorical_accuracy did not improve from 0.95200\n",
            "Epoch 28/30\n",
            "32/32 [==============================] - 5s 142ms/step - loss: 0.0254 - sparse_categorical_accuracy: 0.9920 - val_loss: 0.3259 - val_sparse_categorical_accuracy: 0.9450\n",
            "\n",
            "Epoch 00028: val_sparse_categorical_accuracy did not improve from 0.95200\n",
            "Epoch 29/30\n",
            "32/32 [==============================] - 5s 141ms/step - loss: 0.1129 - sparse_categorical_accuracy: 0.9850 - val_loss: 0.3502 - val_sparse_categorical_accuracy: 0.9490\n",
            "\n",
            "Epoch 00029: val_sparse_categorical_accuracy did not improve from 0.95200\n",
            "Epoch 30/30\n",
            "32/32 [==============================] - 4s 139ms/step - loss: 0.0171 - sparse_categorical_accuracy: 0.9933 - val_loss: 0.3000 - val_sparse_categorical_accuracy: 0.9440\n",
            "\n",
            "Epoch 00030: val_sparse_categorical_accuracy did not improve from 0.95200\n"
          ],
          "name": "stdout"
        }
      ]
    },
    {
      "cell_type": "code",
      "metadata": {
        "colab": {
          "base_uri": "https://localhost:8080/"
        },
        "id": "DKVZMqdFO15E",
        "outputId": "e1362f25-ed5d-4246-aaaf-51dd6c808391"
      },
      "source": [
        "# Final Evaluation on test data\n",
        "\n",
        "male_model.load_weights(checkpoint_path)\n",
        "print(\"Evaluate on test data\")\n",
        "results = male_model.evaluate(X_test, y_male_test, batch_size=32)\n",
        "print(\"test loss, test acc:\", results)"
      ],
      "execution_count": 54,
      "outputs": [
        {
          "output_type": "stream",
          "text": [
            "Evaluate on test data\n",
            "32/32 [==============================] - 1s 16ms/step - loss: 0.5444 - sparse_categorical_accuracy: 0.9340\n",
            "test loss, test acc: [0.544408917427063, 0.9340000152587891]\n"
          ],
          "name": "stdout"
        }
      ]
    },
    {
      "cell_type": "code",
      "metadata": {
        "colab": {
          "base_uri": "https://localhost:8080/",
          "height": 297
        },
        "id": "YYf9Bl2NwaHo",
        "outputId": "c2808c72-f789-463c-ad5a-1bc4960d1eac"
      },
      "source": [
        "pred = male_model.predict(X_test) \n",
        "y_pred = np.argmax(pred, axis = 1)\n",
        "cm=confusion_matrix(y_male_test, y_pred)\n",
        "disp = ConfusionMatrixDisplay(confusion_matrix=cm, display_labels=[\"Female\", \"Male\"])\n",
        "disp.plot() "
      ],
      "execution_count": 56,
      "outputs": [
        {
          "output_type": "execute_result",
          "data": {
            "text/plain": [
              "<sklearn.metrics._plot.confusion_matrix.ConfusionMatrixDisplay at 0x7f26ee730810>"
            ]
          },
          "metadata": {
            "tags": []
          },
          "execution_count": 56
        },
        {
          "output_type": "display_data",
          "data": {
            "image/png": "[encoded data removed]",
            "text/plain": [
              "<Figure size 432x288 with 2 Axes>"
            ]
          },
          "metadata": {
            "tags": [],
            "needs_background": "light"
          }
        }
      ]
    },
    {
      "cell_type": "markdown",
      "metadata": {
        "id": "sADufevvcW48"
      },
      "source": [
        "#### Binary Classification for Attribute \"Young\""
      ]
    },
    {
      "cell_type": "code",
      "metadata": {
        "colab": {
          "base_uri": "https://localhost:8080/"
        },
        "id": "fDfVowEDO177",
        "outputId": "9485b5fa-2306-4e00-fe85-60d21c6e2b04"
      },
      "source": [
        "# young_model to classify binary attrubute \"young\"\n",
        "\n",
        "layer_young1 = keras.layers.Conv2D(32, 3, activation=\"relu\")\n",
        "layer_young2 = keras.layers.MaxPooling2D(2,2)\n",
        "layer_young3 = keras.layers.Conv2D(64, 3, activation=\"relu\")\n",
        "layer_youngd3 = keras.layers.Dropout(0.2)\n",
        "layer_young4 = keras.layers.MaxPooling2D(2,2)\n",
        "layer_young5 = keras.layers.Conv2D(128, 3, activation=\"relu\")\n",
        "layer_youngd5 = keras.layers.Dropout(0.2)\n",
        "layer_young6 = keras.layers.MaxPooling2D(2,2)\n",
        "layer_young7 = keras.layers.Conv2D(256, 3, activation=\"relu\")\n",
        "layer_youngd7 = keras.layers.Dropout(0.2)\n",
        "layer_young8 = keras.layers.MaxPooling2D(2,2)\n",
        "layer_young9 = keras.layers.Conv2D(512, 3, activation=\"relu\")\n",
        "layer_youngd9 = keras.layers.Dropout(0.2)\n",
        "layer_young10 = keras.layers.MaxPooling2D(2,2)\n",
        "layer_young11 = keras.layers.Flatten()\n",
        "layer_young12 = keras.layers.Dense(1000, activation=\"relu\")\n",
        "layer_youngd12 = keras.layers.Dropout(0.3)\n",
        "layer_young13 = keras.layers.Dense(256, activation=\"relu\")\n",
        "layer_youngd13 = keras.layers.Dropout(0.2)\n",
        "layer_young14 = keras.layers.Dense(2, activation=\"softmax\")\n",
        "\n",
        "young_model = keras.Sequential([keras.layers.Input(shape=(178, 178, 3)), layer_young1, layer_young2, layer_young3, layer_youngd3, layer_young4, \n",
        "                              layer_young5, layer_youngd5, layer_young6, layer_young7, layer_youngd7, layer_young8, layer_young9, layer_youngd9, \n",
        "                              layer_young10, layer_young11, layer_young12, layer_youngd12, layer_young13, layer_youngd13, layer_young14])\n",
        "\n",
        "young_model.summary()"
      ],
      "execution_count": 17,
      "outputs": [
        {
          "output_type": "stream",
          "text": [
            "WARNING:tensorflow:Please add `keras.layers.InputLayer` instead of `keras.Input` to Sequential model. `keras.Input` is intended to be used by Functional model.\n",
            "Model: \"sequential_1\"\n",
            "_________________________________________________________________\n",
            "Layer (type)                 Output Shape              Param #   \n",
            "=================================================================\n",
            "conv2d_5 (Conv2D)            (None, 176, 176, 32)      896       \n",
            "_________________________________________________________________\n",
            "max_pooling2d_5 (MaxPooling2 (None, 88, 88, 32)        0         \n",
            "_________________________________________________________________\n",
            "conv2d_6 (Conv2D)            (None, 86, 86, 64)        18496     \n",
            "_________________________________________________________________\n",
            "dropout_6 (Dropout)          (None, 86, 86, 64)        0         \n",
            "_________________________________________________________________\n",
            "max_pooling2d_6 (MaxPooling2 (None, 43, 43, 64)        0         \n",
            "_________________________________________________________________\n",
            "conv2d_7 (Conv2D)            (None, 41, 41, 128)       73856     \n",
            "_________________________________________________________________\n",
            "dropout_7 (Dropout)          (None, 41, 41, 128)       0         \n",
            "_________________________________________________________________\n",
            "max_pooling2d_7 (MaxPooling2 (None, 20, 20, 128)       0         \n",
            "_________________________________________________________________\n",
            "conv2d_8 (Conv2D)            (None, 18, 18, 256)       295168    \n",
            "_________________________________________________________________\n",
            "dropout_8 (Dropout)          (None, 18, 18, 256)       0         \n",
            "_________________________________________________________________\n",
            "max_pooling2d_8 (MaxPooling2 (None, 9, 9, 256)         0         \n",
            "_________________________________________________________________\n",
            "conv2d_9 (Conv2D)            (None, 7, 7, 512)         1180160   \n",
            "_________________________________________________________________\n",
            "dropout_9 (Dropout)          (None, 7, 7, 512)         0         \n",
            "_________________________________________________________________\n",
            "max_pooling2d_9 (MaxPooling2 (None, 3, 3, 512)         0         \n",
            "_________________________________________________________________\n",
            "flatten_1 (Flatten)          (None, 4608)              0         \n",
            "_________________________________________________________________\n",
            "dense_3 (Dense)              (None, 1000)              4609000   \n",
            "_________________________________________________________________\n",
            "dropout_10 (Dropout)         (None, 1000)              0         \n",
            "_________________________________________________________________\n",
            "dense_4 (Dense)              (None, 256)               256256    \n",
            "_________________________________________________________________\n",
            "dropout_11 (Dropout)         (None, 256)               0         \n",
            "_________________________________________________________________\n",
            "dense_5 (Dense)              (None, 2)                 514       \n",
            "=================================================================\n",
            "Total params: 6,434,346\n",
            "Trainable params: 6,434,346\n",
            "Non-trainable params: 0\n",
            "_________________________________________________________________\n"
          ],
          "name": "stdout"
        }
      ]
    },
    {
      "cell_type": "code",
      "metadata": {
        "id": "-6zTDHR-dT7s"
      },
      "source": [
        "# Create y_young train-validation-tests sets for classification task \"Young\"\n",
        "\n",
        "y_young_train=y_train[\"Young\"]\n",
        "y_young_valid=y_valid[\"Young\"]\n",
        "y_young_test=y_test[\"Young\"]"
      ],
      "execution_count": 18,
      "outputs": []
    },
    {
      "cell_type": "code",
      "metadata": {
        "id": "27J9KdvudUIr"
      },
      "source": [
        "# We specify the training configuration (optimizer, loss, metrics):\n",
        "young_model.compile(\n",
        "    optimizer=keras.optimizers.Adam(learning_rate=0.001),  \n",
        "    loss=keras.losses.SparseCategoricalCrossentropy(),\n",
        "    metrics=[keras.metrics.SparseCategoricalAccuracy()])"
      ],
      "execution_count": 19,
      "outputs": []
    },
    {
      "cell_type": "code",
      "metadata": {
        "id": "jnjjKIAGcckM"
      },
      "source": [
        "# Call_back to store best model\n",
        "file_name = 'best_model_young.h5'\n",
        "checkpoint_path= os.path.join('checkpoint2',file_name)\n",
        "\n",
        "call_back = tf.keras.callbacks.ModelCheckpoint(filepath=checkpoint_path, \n",
        "                                                 monitor='val_sparse_categorical_accuracy', \n",
        "                                                 verbose=1,\n",
        "                                                 save_freq='epoch',\n",
        "                                                 save_best_only=True, \n",
        "                                                 save_weights_only=False, \n",
        "                                                 mode='max')"
      ],
      "execution_count": 20,
      "outputs": []
    },
    {
      "cell_type": "code",
      "metadata": {
        "colab": {
          "base_uri": "https://localhost:8080/"
        },
        "id": "-CqfKx3kccnW",
        "outputId": "9c70c791-f477-4e54-e200-af8f85c15e90"
      },
      "source": [
        "# Fit model to training data - track through validation data\n",
        "print(\"Fit model on training data\")\n",
        "history = young_model.fit(\n",
        "    X_train,\n",
        "    y_young_train,\n",
        "    batch_size=64,\n",
        "    epochs=30,\n",
        "    validation_data=(X_valid, y_young_valid),\n",
        "    callbacks=call_back,\n",
        "    shuffle=True)"
      ],
      "execution_count": 21,
      "outputs": [
        {
          "output_type": "stream",
          "text": [
            "Fit model on training data\n",
            "Epoch 1/30\n",
            "63/63 [==============================] - 40s 115ms/step - loss: 0.5760 - sparse_categorical_accuracy: 0.7843 - val_loss: 0.5765 - val_sparse_categorical_accuracy: 0.7690\n",
            "\n",
            "Epoch 00001: val_sparse_categorical_accuracy improved from -inf to 0.76900, saving model to checkpoint2/best_model_young.h5\n",
            "Epoch 2/30\n",
            "63/63 [==============================] - 6s 89ms/step - loss: 0.5155 - sparse_categorical_accuracy: 0.7860 - val_loss: 0.5260 - val_sparse_categorical_accuracy: 0.7690\n",
            "\n",
            "Epoch 00002: val_sparse_categorical_accuracy did not improve from 0.76900\n",
            "Epoch 3/30\n",
            "63/63 [==============================] - 6s 89ms/step - loss: 0.5021 - sparse_categorical_accuracy: 0.7860 - val_loss: 0.5161 - val_sparse_categorical_accuracy: 0.7690\n",
            "\n",
            "Epoch 00003: val_sparse_categorical_accuracy did not improve from 0.76900\n",
            "Epoch 4/30\n",
            "63/63 [==============================] - 6s 89ms/step - loss: 0.4865 - sparse_categorical_accuracy: 0.7860 - val_loss: 0.5154 - val_sparse_categorical_accuracy: 0.7690\n",
            "\n",
            "Epoch 00004: val_sparse_categorical_accuracy did not improve from 0.76900\n",
            "Epoch 5/30\n",
            "63/63 [==============================] - 6s 89ms/step - loss: 0.4664 - sparse_categorical_accuracy: 0.7905 - val_loss: 0.4860 - val_sparse_categorical_accuracy: 0.7760\n",
            "\n",
            "Epoch 00005: val_sparse_categorical_accuracy improved from 0.76900 to 0.77600, saving model to checkpoint2/best_model_young.h5\n",
            "Epoch 6/30\n",
            "63/63 [==============================] - 6s 90ms/step - loss: 0.4501 - sparse_categorical_accuracy: 0.8060 - val_loss: 0.4742 - val_sparse_categorical_accuracy: 0.7860\n",
            "\n",
            "Epoch 00006: val_sparse_categorical_accuracy improved from 0.77600 to 0.78600, saving model to checkpoint2/best_model_young.h5\n",
            "Epoch 7/30\n",
            "63/63 [==============================] - 6s 90ms/step - loss: 0.4283 - sparse_categorical_accuracy: 0.8140 - val_loss: 0.4548 - val_sparse_categorical_accuracy: 0.8140\n",
            "\n",
            "Epoch 00007: val_sparse_categorical_accuracy improved from 0.78600 to 0.81400, saving model to checkpoint2/best_model_young.h5\n",
            "Epoch 8/30\n",
            "63/63 [==============================] - 6s 90ms/step - loss: 0.4082 - sparse_categorical_accuracy: 0.8267 - val_loss: 0.4537 - val_sparse_categorical_accuracy: 0.8140\n",
            "\n",
            "Epoch 00008: val_sparse_categorical_accuracy did not improve from 0.81400\n",
            "Epoch 9/30\n",
            "63/63 [==============================] - 6s 91ms/step - loss: 0.3906 - sparse_categorical_accuracy: 0.8355 - val_loss: 0.4438 - val_sparse_categorical_accuracy: 0.8120\n",
            "\n",
            "Epoch 00009: val_sparse_categorical_accuracy did not improve from 0.81400\n",
            "Epoch 10/30\n",
            "63/63 [==============================] - 6s 90ms/step - loss: 0.3794 - sparse_categorical_accuracy: 0.8413 - val_loss: 0.4998 - val_sparse_categorical_accuracy: 0.8040\n",
            "\n",
            "Epoch 00010: val_sparse_categorical_accuracy did not improve from 0.81400\n",
            "Epoch 11/30\n",
            "63/63 [==============================] - 6s 89ms/step - loss: 0.3618 - sparse_categorical_accuracy: 0.8535 - val_loss: 0.4149 - val_sparse_categorical_accuracy: 0.8290\n",
            "\n",
            "Epoch 00011: val_sparse_categorical_accuracy improved from 0.81400 to 0.82900, saving model to checkpoint2/best_model_young.h5\n",
            "Epoch 12/30\n",
            "63/63 [==============================] - 6s 88ms/step - loss: 0.3564 - sparse_categorical_accuracy: 0.8503 - val_loss: 0.4493 - val_sparse_categorical_accuracy: 0.8270\n",
            "\n",
            "Epoch 00012: val_sparse_categorical_accuracy did not improve from 0.82900\n",
            "Epoch 13/30\n",
            "63/63 [==============================] - 6s 89ms/step - loss: 0.3254 - sparse_categorical_accuracy: 0.8668 - val_loss: 0.3979 - val_sparse_categorical_accuracy: 0.8260\n",
            "\n",
            "Epoch 00013: val_sparse_categorical_accuracy did not improve from 0.82900\n",
            "Epoch 14/30\n",
            "63/63 [==============================] - 6s 88ms/step - loss: 0.3148 - sparse_categorical_accuracy: 0.8705 - val_loss: 0.4001 - val_sparse_categorical_accuracy: 0.8410\n",
            "\n",
            "Epoch 00014: val_sparse_categorical_accuracy improved from 0.82900 to 0.84100, saving model to checkpoint2/best_model_young.h5\n",
            "Epoch 15/30\n",
            "63/63 [==============================] - 6s 89ms/step - loss: 0.3011 - sparse_categorical_accuracy: 0.8790 - val_loss: 0.4340 - val_sparse_categorical_accuracy: 0.8270\n",
            "\n",
            "Epoch 00015: val_sparse_categorical_accuracy did not improve from 0.84100\n",
            "Epoch 16/30\n",
            "63/63 [==============================] - 6s 89ms/step - loss: 0.2846 - sparse_categorical_accuracy: 0.8815 - val_loss: 0.4432 - val_sparse_categorical_accuracy: 0.8210\n",
            "\n",
            "Epoch 00016: val_sparse_categorical_accuracy did not improve from 0.84100\n",
            "Epoch 17/30\n",
            "63/63 [==============================] - 6s 88ms/step - loss: 0.2646 - sparse_categorical_accuracy: 0.8945 - val_loss: 0.4343 - val_sparse_categorical_accuracy: 0.8040\n",
            "\n",
            "Epoch 00017: val_sparse_categorical_accuracy did not improve from 0.84100\n",
            "Epoch 18/30\n",
            "63/63 [==============================] - 6s 88ms/step - loss: 0.2491 - sparse_categorical_accuracy: 0.8978 - val_loss: 0.4176 - val_sparse_categorical_accuracy: 0.8360\n",
            "\n",
            "Epoch 00018: val_sparse_categorical_accuracy did not improve from 0.84100\n",
            "Epoch 19/30\n",
            "63/63 [==============================] - 6s 89ms/step - loss: 0.2239 - sparse_categorical_accuracy: 0.9040 - val_loss: 0.4247 - val_sparse_categorical_accuracy: 0.8240\n",
            "\n",
            "Epoch 00019: val_sparse_categorical_accuracy did not improve from 0.84100\n",
            "Epoch 20/30\n",
            "63/63 [==============================] - 6s 89ms/step - loss: 0.2161 - sparse_categorical_accuracy: 0.9155 - val_loss: 0.4178 - val_sparse_categorical_accuracy: 0.8300\n",
            "\n",
            "Epoch 00020: val_sparse_categorical_accuracy did not improve from 0.84100\n",
            "Epoch 21/30\n",
            "63/63 [==============================] - 6s 93ms/step - loss: 0.1860 - sparse_categorical_accuracy: 0.9283 - val_loss: 0.4458 - val_sparse_categorical_accuracy: 0.8070\n",
            "\n",
            "Epoch 00021: val_sparse_categorical_accuracy did not improve from 0.84100\n",
            "Epoch 22/30\n",
            "63/63 [==============================] - 6s 89ms/step - loss: 0.1770 - sparse_categorical_accuracy: 0.9280 - val_loss: 0.4733 - val_sparse_categorical_accuracy: 0.8150\n",
            "\n",
            "Epoch 00022: val_sparse_categorical_accuracy did not improve from 0.84100\n",
            "Epoch 23/30\n",
            "63/63 [==============================] - 6s 89ms/step - loss: 0.1751 - sparse_categorical_accuracy: 0.9308 - val_loss: 0.4742 - val_sparse_categorical_accuracy: 0.8240\n",
            "\n",
            "Epoch 00023: val_sparse_categorical_accuracy did not improve from 0.84100\n",
            "Epoch 24/30\n",
            "63/63 [==============================] - 6s 89ms/step - loss: 0.1455 - sparse_categorical_accuracy: 0.9433 - val_loss: 0.4740 - val_sparse_categorical_accuracy: 0.8100\n",
            "\n",
            "Epoch 00024: val_sparse_categorical_accuracy did not improve from 0.84100\n",
            "Epoch 25/30\n",
            "63/63 [==============================] - 6s 89ms/step - loss: 0.1278 - sparse_categorical_accuracy: 0.9490 - val_loss: 0.4922 - val_sparse_categorical_accuracy: 0.8100\n",
            "\n",
            "Epoch 00025: val_sparse_categorical_accuracy did not improve from 0.84100\n",
            "Epoch 26/30\n",
            "63/63 [==============================] - 6s 89ms/step - loss: 0.1191 - sparse_categorical_accuracy: 0.9532 - val_loss: 0.4795 - val_sparse_categorical_accuracy: 0.8170\n",
            "\n",
            "Epoch 00026: val_sparse_categorical_accuracy did not improve from 0.84100\n",
            "Epoch 27/30\n",
            "63/63 [==============================] - 6s 89ms/step - loss: 0.1257 - sparse_categorical_accuracy: 0.9503 - val_loss: 0.4774 - val_sparse_categorical_accuracy: 0.8180\n",
            "\n",
            "Epoch 00027: val_sparse_categorical_accuracy did not improve from 0.84100\n",
            "Epoch 28/30\n",
            "63/63 [==============================] - 6s 88ms/step - loss: 0.1132 - sparse_categorical_accuracy: 0.9575 - val_loss: 0.5101 - val_sparse_categorical_accuracy: 0.7880\n",
            "\n",
            "Epoch 00028: val_sparse_categorical_accuracy did not improve from 0.84100\n",
            "Epoch 29/30\n",
            "63/63 [==============================] - 6s 88ms/step - loss: 0.1013 - sparse_categorical_accuracy: 0.9603 - val_loss: 0.5589 - val_sparse_categorical_accuracy: 0.7990\n",
            "\n",
            "Epoch 00029: val_sparse_categorical_accuracy did not improve from 0.84100\n",
            "Epoch 30/30\n",
            "63/63 [==============================] - 6s 88ms/step - loss: 0.0863 - sparse_categorical_accuracy: 0.9685 - val_loss: 0.5500 - val_sparse_categorical_accuracy: 0.8120\n",
            "\n",
            "Epoch 00030: val_sparse_categorical_accuracy did not improve from 0.84100\n"
          ],
          "name": "stdout"
        }
      ]
    },
    {
      "cell_type": "code",
      "metadata": {
        "colab": {
          "base_uri": "https://localhost:8080/"
        },
        "id": "G08q3tGRccqx",
        "outputId": "b1f41071-cc86-4e9f-fb5a-0bd9bb4649fb"
      },
      "source": [
        "# Final Evaluation on test data\n",
        "\n",
        "young_model.load_weights(checkpoint_path)\n",
        "print(\"Evaluate on test data\")\n",
        "results = young_model.evaluate(X_test, y_young_test, batch_size=32)\n",
        "print(\"test loss, test acc:\", results)"
      ],
      "execution_count": 22,
      "outputs": [
        {
          "output_type": "stream",
          "text": [
            "Evaluate on test data\n",
            "32/32 [==============================] - 1s 23ms/step - loss: 0.4472 - sparse_categorical_accuracy: 0.8040\n",
            "test loss, test acc: [0.4471667408943176, 0.8040000200271606]\n"
          ],
          "name": "stdout"
        }
      ]
    },
    {
      "cell_type": "code",
      "metadata": {
        "colab": {
          "base_uri": "https://localhost:8080/",
          "height": 297
        },
        "id": "XltLTWK3zspa",
        "outputId": "eb6a0af9-0694-4ec8-a90a-603df10073e8"
      },
      "source": [
        "pred = young_model.predict(X_test) \n",
        "y_pred = np.argmax(pred, axis = 1)\n",
        "cm=confusion_matrix(y_young_test, y_pred)\n",
        "disp = ConfusionMatrixDisplay(confusion_matrix=cm, display_labels=[\"Old\", \"Young\"])\n",
        "disp.plot() "
      ],
      "execution_count": 23,
      "outputs": [
        {
          "output_type": "execute_result",
          "data": {
            "text/plain": [
              "<sklearn.metrics._plot.confusion_matrix.ConfusionMatrixDisplay at 0x7f7dbbc7da90>"
            ]
          },
          "metadata": {
            "tags": []
          },
          "execution_count": 23
        },
        {
          "output_type": "display_data",
          "data": {
            "image/png": "[encoded data removed]",
            "text/plain": [
              "<Figure size 432x288 with 2 Axes>"
            ]
          },
          "metadata": {
            "tags": [],
            "needs_background": "light"
          }
        }
      ]
    },
    {
      "cell_type": "markdown",
      "metadata": {
        "id": "UTQ6RMlvh8in"
      },
      "source": [
        "#### Binary Classification for the Attribute \"Smiling\""
      ]
    },
    {
      "cell_type": "code",
      "metadata": {
        "colab": {
          "base_uri": "https://localhost:8080/"
        },
        "id": "0rBTnz8occyo",
        "outputId": "cecb2585-94a5-4a0f-996e-b99138cb9071"
      },
      "source": [
        "# smile_model to classify binaty attrubute \"Smiling\"\n",
        "\n",
        "layer_smile1 = keras.layers.Conv2D(32, 3, activation=\"relu\")\n",
        "layer_smile2 = keras.layers.MaxPooling2D(2,2)\n",
        "layer_smile3 = keras.layers.Conv2D(64, 3, activation=\"relu\")\n",
        "layer_smiled3 = keras.layers.Dropout(0.2)\n",
        "layer_smile4 = keras.layers.MaxPooling2D(2,2)\n",
        "layer_smile5 = keras.layers.Conv2D(128, 3, activation=\"relu\")\n",
        "layer_smiled5 = keras.layers.Dropout(0.2)\n",
        "layer_smile6 = keras.layers.MaxPooling2D(2,2)\n",
        "layer_smile7 = keras.layers.Conv2D(256, 3, activation=\"relu\")\n",
        "layer_smiled7 = keras.layers.Dropout(0.2)\n",
        "layer_smile8 = keras.layers.MaxPooling2D(2,2)\n",
        "layer_smile9 = keras.layers.Conv2D(512, 3, activation=\"relu\")\n",
        "layer_smiled9 = keras.layers.Dropout(0.2)\n",
        "layer_smile10 = keras.layers.MaxPooling2D(2,2)\n",
        "layer_smile11 = keras.layers.Flatten()\n",
        "layer_smile12 = keras.layers.Dense(1000, activation=\"relu\")\n",
        "layer_smiled12 = keras.layers.Dropout(0.3)\n",
        "layer_smile13 = keras.layers.Dense(256, activation=\"relu\")\n",
        "layer_smiled13 = keras.layers.Dropout(0.3)\n",
        "layer_smile14 = keras.layers.Dense(2, activation=\"softmax\")\n",
        "\n",
        "                            \n",
        "smile_model = keras.Sequential([keras.layers.Input(shape=(178, 178, 3)), layer_smile1, layer_smile2, layer_smile3, layer_smiled3, layer_smile4, \n",
        "                                layer_smile5, layer_smiled5, layer_smile6, layer_smile7,layer_smiled7, layer_smile8, layer_smile9,\n",
        "                                layer_smiled9, layer_smile10, layer_smile11, layer_smile12, layer_smiled12, layer_smile13, \n",
        "                                layer_smiled13, layer_smile14])\n",
        "\n",
        "smile_model.summary()"
      ],
      "execution_count": 24,
      "outputs": [
        {
          "output_type": "stream",
          "text": [
            "WARNING:tensorflow:Please add `keras.layers.InputLayer` instead of `keras.Input` to Sequential model. `keras.Input` is intended to be used by Functional model.\n",
            "Model: \"sequential_2\"\n",
            "_________________________________________________________________\n",
            "Layer (type)                 Output Shape              Param #   \n",
            "=================================================================\n",
            "conv2d_10 (Conv2D)           (None, 176, 176, 32)      896       \n",
            "_________________________________________________________________\n",
            "max_pooling2d_10 (MaxPooling (None, 88, 88, 32)        0         \n",
            "_________________________________________________________________\n",
            "conv2d_11 (Conv2D)           (None, 86, 86, 64)        18496     \n",
            "_________________________________________________________________\n",
            "dropout_12 (Dropout)         (None, 86, 86, 64)        0         \n",
            "_________________________________________________________________\n",
            "max_pooling2d_11 (MaxPooling (None, 43, 43, 64)        0         \n",
            "_________________________________________________________________\n",
            "conv2d_12 (Conv2D)           (None, 41, 41, 128)       73856     \n",
            "_________________________________________________________________\n",
            "dropout_13 (Dropout)         (None, 41, 41, 128)       0         \n",
            "_________________________________________________________________\n",
            "max_pooling2d_12 (MaxPooling (None, 20, 20, 128)       0         \n",
            "_________________________________________________________________\n",
            "conv2d_13 (Conv2D)           (None, 18, 18, 256)       295168    \n",
            "_________________________________________________________________\n",
            "dropout_14 (Dropout)         (None, 18, 18, 256)       0         \n",
            "_________________________________________________________________\n",
            "max_pooling2d_13 (MaxPooling (None, 9, 9, 256)         0         \n",
            "_________________________________________________________________\n",
            "conv2d_14 (Conv2D)           (None, 7, 7, 512)         1180160   \n",
            "_________________________________________________________________\n",
            "dropout_15 (Dropout)         (None, 7, 7, 512)         0         \n",
            "_________________________________________________________________\n",
            "max_pooling2d_14 (MaxPooling (None, 3, 3, 512)         0         \n",
            "_________________________________________________________________\n",
            "flatten_2 (Flatten)          (None, 4608)              0         \n",
            "_________________________________________________________________\n",
            "dense_6 (Dense)              (None, 1000)              4609000   \n",
            "_________________________________________________________________\n",
            "dropout_16 (Dropout)         (None, 1000)              0         \n",
            "_________________________________________________________________\n",
            "dense_7 (Dense)              (None, 256)               256256    \n",
            "_________________________________________________________________\n",
            "dropout_17 (Dropout)         (None, 256)               0         \n",
            "_________________________________________________________________\n",
            "dense_8 (Dense)              (None, 2)                 514       \n",
            "=================================================================\n",
            "Total params: 6,434,346\n",
            "Trainable params: 6,434,346\n",
            "Non-trainable params: 0\n",
            "_________________________________________________________________\n"
          ],
          "name": "stdout"
        }
      ]
    },
    {
      "cell_type": "code",
      "metadata": {
        "id": "hyB7-99ecc6A"
      },
      "source": [
        "# Create y_smile train-validation-tests sets for classification task \"Smiling\"\n",
        "\n",
        "y_smile_train=y_train[\"Smiling\"]\n",
        "y_smile_valid=y_valid[\"Smiling\"]\n",
        "y_smile_test=y_test[\"Smiling\"]"
      ],
      "execution_count": 25,
      "outputs": []
    },
    {
      "cell_type": "code",
      "metadata": {
        "id": "SFMtDoNOcdA3"
      },
      "source": [
        "# We specify the training configuration (optimizer, loss, metrics):\n",
        "smile_model.compile(\n",
        "    optimizer=keras.optimizers.RMSprop(learning_rate=0.001),  \n",
        "    loss=keras.losses.SparseCategoricalCrossentropy(),\n",
        "    metrics=[keras.metrics.SparseCategoricalAccuracy()])"
      ],
      "execution_count": 26,
      "outputs": []
    },
    {
      "cell_type": "code",
      "metadata": {
        "id": "5hT-YZ-vcdIF"
      },
      "source": [
        "# Call_back to store best model\n",
        "file_name = 'best_model_smile.h5'\n",
        "checkpoint_path= os.path.join('checkpoint2',file_name)\n",
        "\n",
        "call_back = tf.keras.callbacks.ModelCheckpoint(filepath=checkpoint_path, \n",
        "                                                 monitor='val_sparse_categorical_accuracy', \n",
        "                                                 verbose=1,\n",
        "                                                 save_freq='epoch',\n",
        "                                                 save_best_only=True, \n",
        "                                                 save_weights_only=False, \n",
        "                                                 mode='max')"
      ],
      "execution_count": 28,
      "outputs": []
    },
    {
      "cell_type": "code",
      "metadata": {
        "colab": {
          "base_uri": "https://localhost:8080/"
        },
        "id": "hWAbrSYMO1_M",
        "outputId": "0cb1759d-34b0-49bc-ab97-60a20251d26f"
      },
      "source": [
        "# Fit model to training data - track through validation data\n",
        "print(\"Fit model on training data\")\n",
        "history = smile_model.fit(\n",
        "    X_train,\n",
        "    y_smile_train,\n",
        "    batch_size=64,\n",
        "    epochs=30,\n",
        "    validation_data=(X_valid, y_smile_valid),\n",
        "    callbacks=call_back,\n",
        "    shuffle=True)"
      ],
      "execution_count": 29,
      "outputs": [
        {
          "output_type": "stream",
          "text": [
            "Fit model on training data\n",
            "Epoch 1/30\n",
            "63/63 [==============================] - 8s 100ms/step - loss: 3.4485 - sparse_categorical_accuracy: 0.5117 - val_loss: 0.6930 - val_sparse_categorical_accuracy: 0.5080\n",
            "\n",
            "Epoch 00001: val_sparse_categorical_accuracy improved from -inf to 0.50800, saving model to checkpoint2/best_model_smile.h5\n",
            "Epoch 2/30\n",
            "63/63 [==============================] - 6s 91ms/step - loss: 0.7227 - sparse_categorical_accuracy: 0.5245 - val_loss: 0.6928 - val_sparse_categorical_accuracy: 0.5080\n",
            "\n",
            "Epoch 00002: val_sparse_categorical_accuracy did not improve from 0.50800\n",
            "Epoch 3/30\n",
            "63/63 [==============================] - 6s 91ms/step - loss: 0.7013 - sparse_categorical_accuracy: 0.5278 - val_loss: 0.6916 - val_sparse_categorical_accuracy: 0.5330\n",
            "\n",
            "Epoch 00003: val_sparse_categorical_accuracy improved from 0.50800 to 0.53300, saving model to checkpoint2/best_model_smile.h5\n",
            "Epoch 4/30\n",
            "63/63 [==============================] - 6s 91ms/step - loss: 0.7082 - sparse_categorical_accuracy: 0.5437 - val_loss: 0.6766 - val_sparse_categorical_accuracy: 0.5890\n",
            "\n",
            "Epoch 00004: val_sparse_categorical_accuracy improved from 0.53300 to 0.58900, saving model to checkpoint2/best_model_smile.h5\n",
            "Epoch 5/30\n",
            "63/63 [==============================] - 6s 91ms/step - loss: 0.7137 - sparse_categorical_accuracy: 0.5792 - val_loss: 0.7539 - val_sparse_categorical_accuracy: 0.5080\n",
            "\n",
            "Epoch 00005: val_sparse_categorical_accuracy did not improve from 0.58900\n",
            "Epoch 6/30\n",
            "63/63 [==============================] - 6s 90ms/step - loss: 0.6923 - sparse_categorical_accuracy: 0.6395 - val_loss: 0.6210 - val_sparse_categorical_accuracy: 0.6470\n",
            "\n",
            "Epoch 00006: val_sparse_categorical_accuracy improved from 0.58900 to 0.64700, saving model to checkpoint2/best_model_smile.h5\n",
            "Epoch 7/30\n",
            "63/63 [==============================] - 6s 90ms/step - loss: 0.5796 - sparse_categorical_accuracy: 0.6977 - val_loss: 0.6419 - val_sparse_categorical_accuracy: 0.5600\n",
            "\n",
            "Epoch 00007: val_sparse_categorical_accuracy did not improve from 0.64700\n",
            "Epoch 8/30\n",
            "63/63 [==============================] - 6s 90ms/step - loss: 0.4546 - sparse_categorical_accuracy: 0.7905 - val_loss: 0.3944 - val_sparse_categorical_accuracy: 0.8240\n",
            "\n",
            "Epoch 00008: val_sparse_categorical_accuracy improved from 0.64700 to 0.82400, saving model to checkpoint2/best_model_smile.h5\n",
            "Epoch 9/30\n",
            "63/63 [==============================] - 6s 91ms/step - loss: 0.3586 - sparse_categorical_accuracy: 0.8497 - val_loss: 0.4837 - val_sparse_categorical_accuracy: 0.8040\n",
            "\n",
            "Epoch 00009: val_sparse_categorical_accuracy did not improve from 0.82400\n",
            "Epoch 10/30\n",
            "63/63 [==============================] - 6s 91ms/step - loss: 0.3236 - sparse_categorical_accuracy: 0.8648 - val_loss: 0.3408 - val_sparse_categorical_accuracy: 0.8690\n",
            "\n",
            "Epoch 00010: val_sparse_categorical_accuracy improved from 0.82400 to 0.86900, saving model to checkpoint2/best_model_smile.h5\n",
            "Epoch 11/30\n",
            "63/63 [==============================] - 6s 90ms/step - loss: 0.2908 - sparse_categorical_accuracy: 0.8805 - val_loss: 0.4030 - val_sparse_categorical_accuracy: 0.8140\n",
            "\n",
            "Epoch 00011: val_sparse_categorical_accuracy did not improve from 0.86900\n",
            "Epoch 12/30\n",
            "63/63 [==============================] - 6s 90ms/step - loss: 0.2729 - sparse_categorical_accuracy: 0.8880 - val_loss: 0.2925 - val_sparse_categorical_accuracy: 0.8770\n",
            "\n",
            "Epoch 00012: val_sparse_categorical_accuracy improved from 0.86900 to 0.87700, saving model to checkpoint2/best_model_smile.h5\n",
            "Epoch 13/30\n",
            "63/63 [==============================] - 6s 91ms/step - loss: 0.2509 - sparse_categorical_accuracy: 0.8995 - val_loss: 0.3355 - val_sparse_categorical_accuracy: 0.8750\n",
            "\n",
            "Epoch 00013: val_sparse_categorical_accuracy did not improve from 0.87700\n",
            "Epoch 14/30\n",
            "63/63 [==============================] - 6s 90ms/step - loss: 0.2351 - sparse_categorical_accuracy: 0.9050 - val_loss: 0.2891 - val_sparse_categorical_accuracy: 0.8820\n",
            "\n",
            "Epoch 00014: val_sparse_categorical_accuracy improved from 0.87700 to 0.88200, saving model to checkpoint2/best_model_smile.h5\n",
            "Epoch 15/30\n",
            "63/63 [==============================] - 6s 91ms/step - loss: 0.2217 - sparse_categorical_accuracy: 0.9128 - val_loss: 0.3065 - val_sparse_categorical_accuracy: 0.8600\n",
            "\n",
            "Epoch 00015: val_sparse_categorical_accuracy did not improve from 0.88200\n",
            "Epoch 16/30\n",
            "63/63 [==============================] - 6s 91ms/step - loss: 0.2046 - sparse_categorical_accuracy: 0.9140 - val_loss: 0.2720 - val_sparse_categorical_accuracy: 0.8900\n",
            "\n",
            "Epoch 00016: val_sparse_categorical_accuracy improved from 0.88200 to 0.89000, saving model to checkpoint2/best_model_smile.h5\n",
            "Epoch 17/30\n",
            "63/63 [==============================] - 6s 91ms/step - loss: 0.1892 - sparse_categorical_accuracy: 0.9220 - val_loss: 0.2838 - val_sparse_categorical_accuracy: 0.8850\n",
            "\n",
            "Epoch 00017: val_sparse_categorical_accuracy did not improve from 0.89000\n",
            "Epoch 18/30\n",
            "63/63 [==============================] - 6s 91ms/step - loss: 0.1772 - sparse_categorical_accuracy: 0.9255 - val_loss: 0.2938 - val_sparse_categorical_accuracy: 0.8700\n",
            "\n",
            "Epoch 00018: val_sparse_categorical_accuracy did not improve from 0.89000\n",
            "Epoch 19/30\n",
            "63/63 [==============================] - 6s 91ms/step - loss: 0.1783 - sparse_categorical_accuracy: 0.9295 - val_loss: 0.4024 - val_sparse_categorical_accuracy: 0.8710\n",
            "\n",
            "Epoch 00019: val_sparse_categorical_accuracy did not improve from 0.89000\n",
            "Epoch 20/30\n",
            "63/63 [==============================] - 6s 91ms/step - loss: 0.1695 - sparse_categorical_accuracy: 0.9355 - val_loss: 0.2699 - val_sparse_categorical_accuracy: 0.8810\n",
            "\n",
            "Epoch 00020: val_sparse_categorical_accuracy did not improve from 0.89000\n",
            "Epoch 21/30\n",
            "63/63 [==============================] - 6s 91ms/step - loss: 0.1562 - sparse_categorical_accuracy: 0.9388 - val_loss: 0.3059 - val_sparse_categorical_accuracy: 0.8780\n",
            "\n",
            "Epoch 00021: val_sparse_categorical_accuracy did not improve from 0.89000\n",
            "Epoch 22/30\n",
            "63/63 [==============================] - 6s 92ms/step - loss: 0.1354 - sparse_categorical_accuracy: 0.9505 - val_loss: 0.4227 - val_sparse_categorical_accuracy: 0.8610\n",
            "\n",
            "Epoch 00022: val_sparse_categorical_accuracy did not improve from 0.89000\n",
            "Epoch 23/30\n",
            "63/63 [==============================] - 6s 91ms/step - loss: 0.1471 - sparse_categorical_accuracy: 0.9450 - val_loss: 0.3047 - val_sparse_categorical_accuracy: 0.8790\n",
            "\n",
            "Epoch 00023: val_sparse_categorical_accuracy did not improve from 0.89000\n",
            "Epoch 24/30\n",
            "63/63 [==============================] - 6s 91ms/step - loss: 0.1460 - sparse_categorical_accuracy: 0.9485 - val_loss: 0.3100 - val_sparse_categorical_accuracy: 0.8790\n",
            "\n",
            "Epoch 00024: val_sparse_categorical_accuracy did not improve from 0.89000\n",
            "Epoch 25/30\n",
            "63/63 [==============================] - 6s 91ms/step - loss: 0.1207 - sparse_categorical_accuracy: 0.9495 - val_loss: 0.3047 - val_sparse_categorical_accuracy: 0.8930\n",
            "\n",
            "Epoch 00025: val_sparse_categorical_accuracy improved from 0.89000 to 0.89300, saving model to checkpoint2/best_model_smile.h5\n",
            "Epoch 26/30\n",
            "63/63 [==============================] - 6s 91ms/step - loss: 0.1281 - sparse_categorical_accuracy: 0.9490 - val_loss: 0.3271 - val_sparse_categorical_accuracy: 0.8550\n",
            "\n",
            "Epoch 00026: val_sparse_categorical_accuracy did not improve from 0.89300\n",
            "Epoch 27/30\n",
            "63/63 [==============================] - 6s 91ms/step - loss: 0.1111 - sparse_categorical_accuracy: 0.9525 - val_loss: 0.3149 - val_sparse_categorical_accuracy: 0.8850\n",
            "\n",
            "Epoch 00027: val_sparse_categorical_accuracy did not improve from 0.89300\n",
            "Epoch 28/30\n",
            "63/63 [==============================] - 6s 91ms/step - loss: 0.1061 - sparse_categorical_accuracy: 0.9572 - val_loss: 0.3785 - val_sparse_categorical_accuracy: 0.8810\n",
            "\n",
            "Epoch 00028: val_sparse_categorical_accuracy did not improve from 0.89300\n",
            "Epoch 29/30\n",
            "63/63 [==============================] - 6s 91ms/step - loss: 0.1101 - sparse_categorical_accuracy: 0.9638 - val_loss: 0.4016 - val_sparse_categorical_accuracy: 0.8370\n",
            "\n",
            "Epoch 00029: val_sparse_categorical_accuracy did not improve from 0.89300\n",
            "Epoch 30/30\n",
            "63/63 [==============================] - 6s 91ms/step - loss: 0.1016 - sparse_categorical_accuracy: 0.9640 - val_loss: 0.5470 - val_sparse_categorical_accuracy: 0.8690\n",
            "\n",
            "Epoch 00030: val_sparse_categorical_accuracy did not improve from 0.89300\n"
          ],
          "name": "stdout"
        }
      ]
    },
    {
      "cell_type": "code",
      "metadata": {
        "colab": {
          "base_uri": "https://localhost:8080/"
        },
        "id": "6k33__SQhvg3",
        "outputId": "32be41a4-0f3c-458e-af60-2bcbf4132d30"
      },
      "source": [
        "# Final Evaluation on test data\n",
        "smile_model.load_weights(checkpoint_path)\n",
        "\n",
        "print(\"Evaluate on test data\")\n",
        "results = smile_model.evaluate(X_test, y_smile_test, batch_size=32)\n",
        "print(\"test loss, test acc:\", results)"
      ],
      "execution_count": 30,
      "outputs": [
        {
          "output_type": "stream",
          "text": [
            "Evaluate on test data\n",
            "32/32 [==============================] - 1s 16ms/step - loss: 0.2569 - sparse_categorical_accuracy: 0.8870\n",
            "test loss, test acc: [0.2569214403629303, 0.8870000243186951]\n"
          ],
          "name": "stdout"
        }
      ]
    },
    {
      "cell_type": "code",
      "metadata": {
        "id": "FIbuOI1VO2Cc",
        "colab": {
          "base_uri": "https://localhost:8080/",
          "height": 297
        },
        "outputId": "cdbf709e-437c-4bfa-e815-fbabd942d053"
      },
      "source": [
        "pred = smile_model.predict(X_test) \n",
        "y_pred = np.argmax(pred, axis = 1)\n",
        "cm=confusion_matrix(y_smile_test, y_pred)\n",
        "disp = ConfusionMatrixDisplay(confusion_matrix=cm, display_labels=[\"No Smiling\", \"Smiling\"])\n",
        "disp.plot()"
      ],
      "execution_count": 31,
      "outputs": [
        {
          "output_type": "execute_result",
          "data": {
            "text/plain": [
              "<sklearn.metrics._plot.confusion_matrix.ConfusionMatrixDisplay at 0x7f7dbb6e5bd0>"
            ]
          },
          "metadata": {
            "tags": []
          },
          "execution_count": 31
        },
        {
          "output_type": "display_data",
          "data": {
            "image/png": "[encoded data removed]",
            "text/plain": [
              "<Figure size 432x288 with 2 Axes>"
            ]
          },
          "metadata": {
            "tags": [],
            "needs_background": "light"
          }
        }
      ]
    },
    {
      "cell_type": "markdown",
      "metadata": {
        "id": "Z6mt8jnX2l6J"
      },
      "source": [
        "#### Binary Classification for Attribute \"Attractive\""
      ]
    },
    {
      "cell_type": "code",
      "metadata": {
        "colab": {
          "base_uri": "https://localhost:8080/"
        },
        "id": "pyO_ewkJhvlT",
        "outputId": "490c8665-6712-4c27-d5fd-a70bd6e659f0"
      },
      "source": [
        "# attr_model to classify binaty attribute \"Attractive\"\n",
        "\n",
        "layer_attr1 = keras.layers.Conv2D(32, 3, activation=\"relu\")\n",
        "layer_attr2 = keras.layers.MaxPooling2D(2,2)\n",
        "layer_attr3 = keras.layers.Conv2D(64, 3, activation=\"relu\")\n",
        "layer_attrd3 = keras.layers.Dropout(0.2)\n",
        "layer_attr4 = keras.layers.MaxPooling2D(2,2)\n",
        "layer_attr5 = keras.layers.Conv2D(128, 3, activation=\"relu\")\n",
        "layer_attrd5 = keras.layers.Dropout(0.2)\n",
        "layer_attr6 = keras.layers.MaxPooling2D(2,2)\n",
        "layer_attr7 = keras.layers.Conv2D(256, 3, activation=\"relu\")\n",
        "layer_attrd7 = keras.layers.Dropout(0.2)\n",
        "layer_attr8 = keras.layers.MaxPooling2D(2,2)\n",
        "layer_attr9 = keras.layers.Conv2D(512, 3, activation=\"relu\")\n",
        "layer_attrd9 = keras.layers.Dropout(0.2)\n",
        "layer_attr10 = keras.layers.MaxPooling2D(2,2)\n",
        "layer_attr11 = keras.layers.Flatten()\n",
        "layer_attr12 = keras.layers.Dense(1000, activation=\"relu\")\n",
        "layer_attrd12 = keras.layers.Dropout(0.3)\n",
        "layer_attr13 = keras.layers.Dense(256, activation=\"relu\")\n",
        "layer_attrd13 = keras.layers.Dropout(0.3)\n",
        "layer_attr14 = keras.layers.Dense(2, activation=\"softmax\")\n",
        "\n",
        "                            \n",
        "attr_model = keras.Sequential([keras.layers.Input(shape=(178, 178, 3)), layer_attr1, layer_attr2, layer_attr3, layer_attrd3, layer_attr4, \n",
        "                                layer_attr5, layer_attrd5, layer_attr6, layer_attr7,layer_attrd7, layer_attr8, layer_attr9,\n",
        "                                layer_attrd9, layer_attr10, layer_attr11, layer_attr12, layer_attrd12, layer_attr13, \n",
        "                                layer_attrd13, layer_attr14])\n",
        "\n",
        "attr_model.summary()"
      ],
      "execution_count": 17,
      "outputs": [
        {
          "output_type": "stream",
          "text": [
            "WARNING:tensorflow:Please add `keras.layers.InputLayer` instead of `keras.Input` to Sequential model. `keras.Input` is intended to be used by Functional model.\n",
            "Model: \"sequential_1\"\n",
            "_________________________________________________________________\n",
            "Layer (type)                 Output Shape              Param #   \n",
            "=================================================================\n",
            "conv2d_5 (Conv2D)            (None, 176, 176, 32)      896       \n",
            "_________________________________________________________________\n",
            "max_pooling2d_5 (MaxPooling2 (None, 88, 88, 32)        0         \n",
            "_________________________________________________________________\n",
            "conv2d_6 (Conv2D)            (None, 86, 86, 64)        18496     \n",
            "_________________________________________________________________\n",
            "dropout_6 (Dropout)          (None, 86, 86, 64)        0         \n",
            "_________________________________________________________________\n",
            "max_pooling2d_6 (MaxPooling2 (None, 43, 43, 64)        0         \n",
            "_________________________________________________________________\n",
            "conv2d_7 (Conv2D)            (None, 41, 41, 128)       73856     \n",
            "_________________________________________________________________\n",
            "dropout_7 (Dropout)          (None, 41, 41, 128)       0         \n",
            "_________________________________________________________________\n",
            "max_pooling2d_7 (MaxPooling2 (None, 20, 20, 128)       0         \n",
            "_________________________________________________________________\n",
            "conv2d_8 (Conv2D)            (None, 18, 18, 256)       295168    \n",
            "_________________________________________________________________\n",
            "dropout_8 (Dropout)          (None, 18, 18, 256)       0         \n",
            "_________________________________________________________________\n",
            "max_pooling2d_8 (MaxPooling2 (None, 9, 9, 256)         0         \n",
            "_________________________________________________________________\n",
            "conv2d_9 (Conv2D)            (None, 7, 7, 512)         1180160   \n",
            "_________________________________________________________________\n",
            "dropout_9 (Dropout)          (None, 7, 7, 512)         0         \n",
            "_________________________________________________________________\n",
            "max_pooling2d_9 (MaxPooling2 (None, 3, 3, 512)         0         \n",
            "_________________________________________________________________\n",
            "flatten_1 (Flatten)          (None, 4608)              0         \n",
            "_________________________________________________________________\n",
            "dense_3 (Dense)              (None, 1000)              4609000   \n",
            "_________________________________________________________________\n",
            "dropout_10 (Dropout)         (None, 1000)              0         \n",
            "_________________________________________________________________\n",
            "dense_4 (Dense)              (None, 256)               256256    \n",
            "_________________________________________________________________\n",
            "dropout_11 (Dropout)         (None, 256)               0         \n",
            "_________________________________________________________________\n",
            "dense_5 (Dense)              (None, 2)                 514       \n",
            "=================================================================\n",
            "Total params: 6,434,346\n",
            "Trainable params: 6,434,346\n",
            "Non-trainable params: 0\n",
            "_________________________________________________________________\n"
          ],
          "name": "stdout"
        }
      ]
    },
    {
      "cell_type": "code",
      "metadata": {
        "id": "ViaaH6dlhvot"
      },
      "source": [
        "# Create y_attr train-validation-tests sets for classification task \"Attractive\"\n",
        "\n",
        "y_attr_train=y_train[\"Attractive\"]\n",
        "y_attr_valid=y_valid[\"Attractive\"]\n",
        "y_attr_test=y_test[\"Attractive\"]"
      ],
      "execution_count": 18,
      "outputs": []
    },
    {
      "cell_type": "code",
      "metadata": {
        "id": "K6rq9bsQhvwv"
      },
      "source": [
        "# We specify the training configuration (optimizer, loss, metrics):\n",
        "attr_model.compile(\n",
        "    optimizer=keras.optimizers.Adam(learning_rate=0.001),  \n",
        "    loss=keras.losses.SparseCategoricalCrossentropy(),\n",
        "    metrics=[keras.metrics.SparseCategoricalAccuracy()])"
      ],
      "execution_count": 19,
      "outputs": []
    },
    {
      "cell_type": "code",
      "metadata": {
        "id": "Ryfayfzhhv3y"
      },
      "source": [
        "# Call_back to store best model\n",
        "file_name = 'best_model_attr.h5'\n",
        "checkpoint_path= os.path.join('checkpoint2',file_name)\n",
        "\n",
        "call_back = tf.keras.callbacks.ModelCheckpoint(filepath=checkpoint_path, \n",
        "                                                 monitor='val_sparse_categorical_accuracy', \n",
        "                                                 verbose=1,\n",
        "                                                 save_freq='epoch',\n",
        "                                                 save_best_only=True, \n",
        "                                                 save_weights_only=False, \n",
        "                                                 mode='max')"
      ],
      "execution_count": 20,
      "outputs": []
    },
    {
      "cell_type": "code",
      "metadata": {
        "colab": {
          "base_uri": "https://localhost:8080/"
        },
        "id": "BPXR1HKlhv_a",
        "outputId": "4909f3b0-a29a-426c-a957-88e0ccf9f37a"
      },
      "source": [
        "# Fit model to training data - track through validation data\n",
        "print(\"Fit model on training data\")\n",
        "history = attr_model.fit(\n",
        "    X_train,\n",
        "    y_attr_train,\n",
        "    batch_size=64,\n",
        "    epochs=30,\n",
        "    validation_data=(X_valid, y_attr_valid),\n",
        "    callbacks=call_back,\n",
        "    shuffle=True)"
      ],
      "execution_count": 21,
      "outputs": [
        {
          "output_type": "stream",
          "text": [
            "Fit model on training data\n",
            "Epoch 1/30\n",
            "63/63 [==============================] - 40s 118ms/step - loss: 0.7069 - sparse_categorical_accuracy: 0.5160 - val_loss: 0.6826 - val_sparse_categorical_accuracy: 0.5150\n",
            "\n",
            "Epoch 00001: val_sparse_categorical_accuracy improved from -inf to 0.51500, saving model to checkpoint2/best_model_attr.h5\n",
            "Epoch 2/30\n",
            "63/63 [==============================] - 6s 89ms/step - loss: 0.6507 - sparse_categorical_accuracy: 0.6292 - val_loss: 0.6433 - val_sparse_categorical_accuracy: 0.6310\n",
            "\n",
            "Epoch 00002: val_sparse_categorical_accuracy improved from 0.51500 to 0.63100, saving model to checkpoint2/best_model_attr.h5\n",
            "Epoch 3/30\n",
            "63/63 [==============================] - 6s 89ms/step - loss: 0.6047 - sparse_categorical_accuracy: 0.6795 - val_loss: 0.6125 - val_sparse_categorical_accuracy: 0.6790\n",
            "\n",
            "Epoch 00003: val_sparse_categorical_accuracy improved from 0.63100 to 0.67900, saving model to checkpoint2/best_model_attr.h5\n",
            "Epoch 4/30\n",
            "63/63 [==============================] - 6s 90ms/step - loss: 0.5791 - sparse_categorical_accuracy: 0.6940 - val_loss: 0.5989 - val_sparse_categorical_accuracy: 0.7060\n",
            "\n",
            "Epoch 00004: val_sparse_categorical_accuracy improved from 0.67900 to 0.70600, saving model to checkpoint2/best_model_attr.h5\n",
            "Epoch 5/30\n",
            "63/63 [==============================] - 6s 90ms/step - loss: 0.5497 - sparse_categorical_accuracy: 0.7185 - val_loss: 0.5949 - val_sparse_categorical_accuracy: 0.6830\n",
            "\n",
            "Epoch 00005: val_sparse_categorical_accuracy did not improve from 0.70600\n",
            "Epoch 6/30\n",
            "63/63 [==============================] - 6s 90ms/step - loss: 0.5249 - sparse_categorical_accuracy: 0.7467 - val_loss: 0.5410 - val_sparse_categorical_accuracy: 0.7390\n",
            "\n",
            "Epoch 00006: val_sparse_categorical_accuracy improved from 0.70600 to 0.73900, saving model to checkpoint2/best_model_attr.h5\n",
            "Epoch 7/30\n",
            "63/63 [==============================] - 6s 89ms/step - loss: 0.5103 - sparse_categorical_accuracy: 0.7523 - val_loss: 0.5230 - val_sparse_categorical_accuracy: 0.7410\n",
            "\n",
            "Epoch 00007: val_sparse_categorical_accuracy improved from 0.73900 to 0.74100, saving model to checkpoint2/best_model_attr.h5\n",
            "Epoch 8/30\n",
            "63/63 [==============================] - 6s 90ms/step - loss: 0.4948 - sparse_categorical_accuracy: 0.7592 - val_loss: 0.5424 - val_sparse_categorical_accuracy: 0.7360\n",
            "\n",
            "Epoch 00008: val_sparse_categorical_accuracy did not improve from 0.74100\n",
            "Epoch 9/30\n",
            "63/63 [==============================] - 6s 89ms/step - loss: 0.4853 - sparse_categorical_accuracy: 0.7667 - val_loss: 0.4979 - val_sparse_categorical_accuracy: 0.7560\n",
            "\n",
            "Epoch 00009: val_sparse_categorical_accuracy improved from 0.74100 to 0.75600, saving model to checkpoint2/best_model_attr.h5\n",
            "Epoch 10/30\n",
            "63/63 [==============================] - 6s 89ms/step - loss: 0.4708 - sparse_categorical_accuracy: 0.7750 - val_loss: 0.5114 - val_sparse_categorical_accuracy: 0.7480\n",
            "\n",
            "Epoch 00010: val_sparse_categorical_accuracy did not improve from 0.75600\n",
            "Epoch 11/30\n",
            "63/63 [==============================] - 6s 88ms/step - loss: 0.4586 - sparse_categorical_accuracy: 0.7828 - val_loss: 0.5162 - val_sparse_categorical_accuracy: 0.7480\n",
            "\n",
            "Epoch 00011: val_sparse_categorical_accuracy did not improve from 0.75600\n",
            "Epoch 12/30\n",
            "63/63 [==============================] - 6s 89ms/step - loss: 0.4586 - sparse_categorical_accuracy: 0.7822 - val_loss: 0.5087 - val_sparse_categorical_accuracy: 0.7540\n",
            "\n",
            "Epoch 00012: val_sparse_categorical_accuracy did not improve from 0.75600\n",
            "Epoch 13/30\n",
            "63/63 [==============================] - 6s 89ms/step - loss: 0.4489 - sparse_categorical_accuracy: 0.7860 - val_loss: 0.4922 - val_sparse_categorical_accuracy: 0.7650\n",
            "\n",
            "Epoch 00013: val_sparse_categorical_accuracy improved from 0.75600 to 0.76500, saving model to checkpoint2/best_model_attr.h5\n",
            "Epoch 14/30\n",
            "63/63 [==============================] - 6s 89ms/step - loss: 0.4332 - sparse_categorical_accuracy: 0.7965 - val_loss: 0.5437 - val_sparse_categorical_accuracy: 0.7330\n",
            "\n",
            "Epoch 00014: val_sparse_categorical_accuracy did not improve from 0.76500\n",
            "Epoch 15/30\n",
            "63/63 [==============================] - 6s 89ms/step - loss: 0.4140 - sparse_categorical_accuracy: 0.8062 - val_loss: 0.5043 - val_sparse_categorical_accuracy: 0.7690\n",
            "\n",
            "Epoch 00015: val_sparse_categorical_accuracy improved from 0.76500 to 0.76900, saving model to checkpoint2/best_model_attr.h5\n",
            "Epoch 16/30\n",
            "63/63 [==============================] - 6s 88ms/step - loss: 0.4007 - sparse_categorical_accuracy: 0.8152 - val_loss: 0.5353 - val_sparse_categorical_accuracy: 0.7340\n",
            "\n",
            "Epoch 00016: val_sparse_categorical_accuracy did not improve from 0.76900\n",
            "Epoch 17/30\n",
            "63/63 [==============================] - 6s 88ms/step - loss: 0.3868 - sparse_categorical_accuracy: 0.8230 - val_loss: 0.4858 - val_sparse_categorical_accuracy: 0.7690\n",
            "\n",
            "Epoch 00017: val_sparse_categorical_accuracy did not improve from 0.76900\n",
            "Epoch 18/30\n",
            "63/63 [==============================] - 6s 89ms/step - loss: 0.3773 - sparse_categorical_accuracy: 0.8230 - val_loss: 0.5558 - val_sparse_categorical_accuracy: 0.7400\n",
            "\n",
            "Epoch 00018: val_sparse_categorical_accuracy did not improve from 0.76900\n",
            "Epoch 19/30\n",
            "63/63 [==============================] - 6s 88ms/step - loss: 0.3708 - sparse_categorical_accuracy: 0.8388 - val_loss: 0.5103 - val_sparse_categorical_accuracy: 0.7600\n",
            "\n",
            "Epoch 00019: val_sparse_categorical_accuracy did not improve from 0.76900\n",
            "Epoch 20/30\n",
            "63/63 [==============================] - 6s 89ms/step - loss: 0.3581 - sparse_categorical_accuracy: 0.8460 - val_loss: 0.5199 - val_sparse_categorical_accuracy: 0.7520\n",
            "\n",
            "Epoch 00020: val_sparse_categorical_accuracy did not improve from 0.76900\n",
            "Epoch 21/30\n",
            "63/63 [==============================] - 6s 89ms/step - loss: 0.3349 - sparse_categorical_accuracy: 0.8550 - val_loss: 0.6166 - val_sparse_categorical_accuracy: 0.7000\n",
            "\n",
            "Epoch 00021: val_sparse_categorical_accuracy did not improve from 0.76900\n",
            "Epoch 22/30\n",
            "63/63 [==============================] - 6s 89ms/step - loss: 0.3275 - sparse_categorical_accuracy: 0.8562 - val_loss: 0.5499 - val_sparse_categorical_accuracy: 0.7460\n",
            "\n",
            "Epoch 00022: val_sparse_categorical_accuracy did not improve from 0.76900\n",
            "Epoch 23/30\n",
            "63/63 [==============================] - 6s 89ms/step - loss: 0.3132 - sparse_categorical_accuracy: 0.8615 - val_loss: 0.6387 - val_sparse_categorical_accuracy: 0.7240\n",
            "\n",
            "Epoch 00023: val_sparse_categorical_accuracy did not improve from 0.76900\n",
            "Epoch 24/30\n",
            "63/63 [==============================] - 6s 89ms/step - loss: 0.2989 - sparse_categorical_accuracy: 0.8698 - val_loss: 0.5640 - val_sparse_categorical_accuracy: 0.7320\n",
            "\n",
            "Epoch 00024: val_sparse_categorical_accuracy did not improve from 0.76900\n",
            "Epoch 25/30\n",
            "63/63 [==============================] - 6s 89ms/step - loss: 0.2707 - sparse_categorical_accuracy: 0.8863 - val_loss: 0.5913 - val_sparse_categorical_accuracy: 0.7630\n",
            "\n",
            "Epoch 00025: val_sparse_categorical_accuracy did not improve from 0.76900\n",
            "Epoch 26/30\n",
            "63/63 [==============================] - 6s 89ms/step - loss: 0.2808 - sparse_categorical_accuracy: 0.8765 - val_loss: 0.5812 - val_sparse_categorical_accuracy: 0.7470\n",
            "\n",
            "Epoch 00026: val_sparse_categorical_accuracy did not improve from 0.76900\n",
            "Epoch 27/30\n",
            "63/63 [==============================] - 6s 89ms/step - loss: 0.2607 - sparse_categorical_accuracy: 0.8900 - val_loss: 0.5624 - val_sparse_categorical_accuracy: 0.7540\n",
            "\n",
            "Epoch 00027: val_sparse_categorical_accuracy did not improve from 0.76900\n",
            "Epoch 28/30\n",
            "63/63 [==============================] - 6s 88ms/step - loss: 0.2535 - sparse_categorical_accuracy: 0.8865 - val_loss: 0.5735 - val_sparse_categorical_accuracy: 0.7410\n",
            "\n",
            "Epoch 00028: val_sparse_categorical_accuracy did not improve from 0.76900\n",
            "Epoch 29/30\n",
            "63/63 [==============================] - 5s 87ms/step - loss: 0.2158 - sparse_categorical_accuracy: 0.9125 - val_loss: 0.5944 - val_sparse_categorical_accuracy: 0.7470\n",
            "\n",
            "Epoch 00029: val_sparse_categorical_accuracy did not improve from 0.76900\n",
            "Epoch 30/30\n",
            "63/63 [==============================] - 5s 87ms/step - loss: 0.2162 - sparse_categorical_accuracy: 0.9100 - val_loss: 0.6391 - val_sparse_categorical_accuracy: 0.7510\n",
            "\n",
            "Epoch 00030: val_sparse_categorical_accuracy did not improve from 0.76900\n"
          ],
          "name": "stdout"
        }
      ]
    },
    {
      "cell_type": "code",
      "metadata": {
        "colab": {
          "base_uri": "https://localhost:8080/"
        },
        "id": "0TTa2WvlhwJK",
        "outputId": "835e75fe-8c71-4bd3-a221-5f60a9e46afd"
      },
      "source": [
        "# Final Evaluation on test data\n",
        "attr_model.load_weights(checkpoint_path)\n",
        "\n",
        "print(\"Evaluate on test data\")\n",
        "results = attr_model.evaluate(X_test, y_attr_test, batch_size=32)\n",
        "print(\"test loss, test acc:\", results)"
      ],
      "execution_count": 22,
      "outputs": [
        {
          "output_type": "stream",
          "text": [
            "Evaluate on test data\n",
            "32/32 [==============================] - 1s 28ms/step - loss: 0.5107 - sparse_categorical_accuracy: 0.7530\n",
            "test loss, test acc: [0.5106688737869263, 0.753000020980835]\n"
          ],
          "name": "stdout"
        }
      ]
    },
    {
      "cell_type": "code",
      "metadata": {
        "colab": {
          "base_uri": "https://localhost:8080/",
          "height": 297
        },
        "id": "CFt6B0tBhwSi",
        "outputId": "c6ea329e-40d9-4c84-8b0d-c9faa6e21eb4"
      },
      "source": [
        "pred = attr_model.predict(X_test) \n",
        "y_pred = np.argmax(pred, axis = 1)\n",
        "cm=confusion_matrix(y_attr_test, y_pred)\n",
        "disp = ConfusionMatrixDisplay(confusion_matrix=cm, display_labels=[\"Not Attractive\", \"Attractive\"])\n",
        "disp.plot()"
      ],
      "execution_count": 23,
      "outputs": [
        {
          "output_type": "execute_result",
          "data": {
            "text/plain": [
              "<sklearn.metrics._plot.confusion_matrix.ConfusionMatrixDisplay at 0x7f321a7c1e90>"
            ]
          },
          "metadata": {
            "tags": []
          },
          "execution_count": 23
        },
        {
          "output_type": "display_data",
          "data": {
            "image/png": "[encoded data removed]",
            "text/plain": [
              "<Figure size 432x288 with 2 Axes>"
            ]
          },
          "metadata": {
            "tags": [],
            "needs_background": "light"
          }
        }
      ]
    },
    {
      "cell_type": "markdown",
      "metadata": {
        "id": "10Pq7hsn-G2m"
      },
      "source": [
        "#### Classification for attribute \"Heavy_Makeup\""
      ]
    },
    {
      "cell_type": "code",
      "metadata": {
        "colab": {
          "base_uri": "https://localhost:8080/"
        },
        "id": "hxYGXmg48jnE",
        "outputId": "c483dd36-b144-498b-a783-4e9ec552202d"
      },
      "source": [
        "# hm_model to classify binaty attribute \"Heavy_Makeup\"\n",
        "\n",
        "layer_hm1 = keras.layers.Conv2D(32, 3, activation=\"relu\")\n",
        "layer_hm2 = keras.layers.MaxPooling2D(2,2)\n",
        "layer_hm3 = keras.layers.Conv2D(64, 3, activation=\"relu\")\n",
        "layer_hmd3 = keras.layers.Dropout(0.2)\n",
        "layer_hm4 = keras.layers.MaxPooling2D(2,2)\n",
        "layer_hm5 = keras.layers.Conv2D(128, 3, activation=\"relu\")\n",
        "layer_hmd5 = keras.layers.Dropout(0.2)\n",
        "layer_hm6 = keras.layers.MaxPooling2D(2,2)\n",
        "layer_hm7 = keras.layers.Conv2D(256, 3, activation=\"relu\")\n",
        "layer_hmd7 = keras.layers.Dropout(0.2)\n",
        "layer_hm8 = keras.layers.MaxPooling2D(2,2)\n",
        "layer_hm9 = keras.layers.Conv2D(512, 3, activation=\"relu\")\n",
        "layer_hmd9 = keras.layers.Dropout(0.2)\n",
        "layer_hm10 = keras.layers.MaxPooling2D(2,2)\n",
        "layer_hm11 = keras.layers.Flatten()\n",
        "layer_hm12 = keras.layers.Dense(1000, activation=\"relu\")\n",
        "layer_hmd12 = keras.layers.Dropout(0.3)\n",
        "layer_hm13 = keras.layers.Dense(256, activation=\"relu\")\n",
        "layer_hmd13 = keras.layers.Dropout(0.3)\n",
        "layer_hm14 = keras.layers.Dense(2, activation=\"softmax\")\n",
        "\n",
        "                            \n",
        "hm_model = keras.Sequential([keras.layers.Input(shape=(178, 178, 3)), layer_hm1, layer_hm2, layer_hm3, layer_hmd3, layer_hm4, \n",
        "                                layer_hm5, layer_hmd5, layer_hm6, layer_hm7,layer_hmd7, layer_hm8, layer_hm9,\n",
        "                                layer_hmd9, layer_hm10, layer_hm11, layer_hm12, layer_hmd12, layer_hm13, \n",
        "                                layer_hmd13, layer_hm14])\n",
        "\n",
        "hm_model.summary()"
      ],
      "execution_count": 31,
      "outputs": [
        {
          "output_type": "stream",
          "text": [
            "WARNING:tensorflow:Please add `keras.layers.InputLayer` instead of `keras.Input` to Sequential model. `keras.Input` is intended to be used by Functional model.\n",
            "Model: \"sequential_3\"\n",
            "_________________________________________________________________\n",
            "Layer (type)                 Output Shape              Param #   \n",
            "=================================================================\n",
            "conv2d_20 (Conv2D)           (None, 176, 176, 32)      896       \n",
            "_________________________________________________________________\n",
            "max_pooling2d_20 (MaxPooling (None, 88, 88, 32)        0         \n",
            "_________________________________________________________________\n",
            "conv2d_21 (Conv2D)           (None, 86, 86, 64)        18496     \n",
            "_________________________________________________________________\n",
            "dropout_24 (Dropout)         (None, 86, 86, 64)        0         \n",
            "_________________________________________________________________\n",
            "max_pooling2d_21 (MaxPooling (None, 43, 43, 64)        0         \n",
            "_________________________________________________________________\n",
            "conv2d_22 (Conv2D)           (None, 41, 41, 128)       73856     \n",
            "_________________________________________________________________\n",
            "dropout_25 (Dropout)         (None, 41, 41, 128)       0         \n",
            "_________________________________________________________________\n",
            "max_pooling2d_22 (MaxPooling (None, 20, 20, 128)       0         \n",
            "_________________________________________________________________\n",
            "conv2d_23 (Conv2D)           (None, 18, 18, 256)       295168    \n",
            "_________________________________________________________________\n",
            "dropout_26 (Dropout)         (None, 18, 18, 256)       0         \n",
            "_________________________________________________________________\n",
            "max_pooling2d_23 (MaxPooling (None, 9, 9, 256)         0         \n",
            "_________________________________________________________________\n",
            "conv2d_24 (Conv2D)           (None, 7, 7, 512)         1180160   \n",
            "_________________________________________________________________\n",
            "dropout_27 (Dropout)         (None, 7, 7, 512)         0         \n",
            "_________________________________________________________________\n",
            "max_pooling2d_24 (MaxPooling (None, 3, 3, 512)         0         \n",
            "_________________________________________________________________\n",
            "flatten_4 (Flatten)          (None, 4608)              0         \n",
            "_________________________________________________________________\n",
            "dense_12 (Dense)             (None, 1000)              4609000   \n",
            "_________________________________________________________________\n",
            "dropout_28 (Dropout)         (None, 1000)              0         \n",
            "_________________________________________________________________\n",
            "dense_13 (Dense)             (None, 256)               256256    \n",
            "_________________________________________________________________\n",
            "dropout_29 (Dropout)         (None, 256)               0         \n",
            "_________________________________________________________________\n",
            "dense_14 (Dense)             (None, 2)                 514       \n",
            "=================================================================\n",
            "Total params: 6,434,346\n",
            "Trainable params: 6,434,346\n",
            "Non-trainable params: 0\n",
            "_________________________________________________________________\n"
          ],
          "name": "stdout"
        }
      ]
    },
    {
      "cell_type": "code",
      "metadata": {
        "id": "QKkMWQYD9BoV"
      },
      "source": [
        "# Create y_hm train-validation-tests sets for classification task \"Heavy_Makeup\"\n",
        "\n",
        "y_hm_train=y_train[\"Heavy_Makeup\"]\n",
        "y_hm_valid=y_valid[\"Heavy_Makeup\"]\n",
        "y_hm_test=y_test[\"Heavy_Makeup\"]"
      ],
      "execution_count": 32,
      "outputs": []
    },
    {
      "cell_type": "code",
      "metadata": {
        "id": "6j8qi52g9Bs6"
      },
      "source": [
        "# We specify the training configuration (optimizer, loss, metrics):\n",
        "hm_model.compile(\n",
        "    optimizer=keras.optimizers.RMSprop(learning_rate=0.001),  \n",
        "    loss=keras.losses.SparseCategoricalCrossentropy(),\n",
        "    metrics=[keras.metrics.SparseCategoricalAccuracy()])"
      ],
      "execution_count": 33,
      "outputs": []
    },
    {
      "cell_type": "code",
      "metadata": {
        "id": "9FPO7vD-9BwX"
      },
      "source": [
        "# Call_back to store best model\n",
        "file_name = 'best_model_hm.h5'\n",
        "checkpoint_path= os.path.join('checkpoint2',file_name)\n",
        "\n",
        "call_back = tf.keras.callbacks.ModelCheckpoint(filepath=checkpoint_path, \n",
        "                                                 monitor='val_sparse_categorical_accuracy', \n",
        "                                                 verbose=1,\n",
        "                                                 save_freq='epoch',\n",
        "                                                 save_best_only=True, \n",
        "                                                 save_weights_only=False, \n",
        "                                                 mode='max')"
      ],
      "execution_count": 34,
      "outputs": []
    },
    {
      "cell_type": "code",
      "metadata": {
        "colab": {
          "base_uri": "https://localhost:8080/"
        },
        "id": "XFWbky5T9B1w",
        "outputId": "96984d29-8d72-4ffa-b539-fc6cd7e9abe4"
      },
      "source": [
        "# Fit model to training data - track through validation data\n",
        "print(\"Fit model on training data\")\n",
        "history = hm_model.fit(\n",
        "    X_train,\n",
        "    y_hm_train,\n",
        "    batch_size=64,\n",
        "    epochs=50,\n",
        "    validation_data=(X_valid, y_hm_valid),\n",
        "    callbacks=call_back,\n",
        "    shuffle=True)"
      ],
      "execution_count": 35,
      "outputs": [
        {
          "output_type": "stream",
          "text": [
            "Fit model on training data\n",
            "Epoch 1/50\n",
            "63/63 [==============================] - 7s 97ms/step - loss: 1.1577 - sparse_categorical_accuracy: 0.6075 - val_loss: 0.6550 - val_sparse_categorical_accuracy: 0.6250\n",
            "\n",
            "Epoch 00001: val_sparse_categorical_accuracy improved from -inf to 0.62500, saving model to checkpoint2/best_model_hm.h5\n",
            "Epoch 2/50\n",
            "63/63 [==============================] - 6s 90ms/step - loss: 0.6794 - sparse_categorical_accuracy: 0.6025 - val_loss: 0.6661 - val_sparse_categorical_accuracy: 0.6250\n",
            "\n",
            "Epoch 00002: val_sparse_categorical_accuracy did not improve from 0.62500\n",
            "Epoch 3/50\n",
            "63/63 [==============================] - 6s 91ms/step - loss: 0.6440 - sparse_categorical_accuracy: 0.6565 - val_loss: 0.5726 - val_sparse_categorical_accuracy: 0.7160\n",
            "\n",
            "Epoch 00003: val_sparse_categorical_accuracy improved from 0.62500 to 0.71600, saving model to checkpoint2/best_model_hm.h5\n",
            "Epoch 4/50\n",
            "63/63 [==============================] - 6s 90ms/step - loss: 0.5718 - sparse_categorical_accuracy: 0.7170 - val_loss: 0.4218 - val_sparse_categorical_accuracy: 0.8320\n",
            "\n",
            "Epoch 00004: val_sparse_categorical_accuracy improved from 0.71600 to 0.83200, saving model to checkpoint2/best_model_hm.h5\n",
            "Epoch 5/50\n",
            "63/63 [==============================] - 6s 90ms/step - loss: 0.4811 - sparse_categorical_accuracy: 0.7930 - val_loss: 0.3748 - val_sparse_categorical_accuracy: 0.8320\n",
            "\n",
            "Epoch 00005: val_sparse_categorical_accuracy did not improve from 0.83200\n",
            "Epoch 6/50\n",
            "63/63 [==============================] - 6s 91ms/step - loss: 0.3749 - sparse_categorical_accuracy: 0.8457 - val_loss: 0.3751 - val_sparse_categorical_accuracy: 0.8430\n",
            "\n",
            "Epoch 00006: val_sparse_categorical_accuracy improved from 0.83200 to 0.84300, saving model to checkpoint2/best_model_hm.h5\n",
            "Epoch 7/50\n",
            "63/63 [==============================] - 6s 90ms/step - loss: 0.3365 - sparse_categorical_accuracy: 0.8562 - val_loss: 0.3342 - val_sparse_categorical_accuracy: 0.8650\n",
            "\n",
            "Epoch 00007: val_sparse_categorical_accuracy improved from 0.84300 to 0.86500, saving model to checkpoint2/best_model_hm.h5\n",
            "Epoch 8/50\n",
            "63/63 [==============================] - 6s 90ms/step - loss: 0.3349 - sparse_categorical_accuracy: 0.8627 - val_loss: 0.3255 - val_sparse_categorical_accuracy: 0.8570\n",
            "\n",
            "Epoch 00008: val_sparse_categorical_accuracy did not improve from 0.86500\n",
            "Epoch 9/50\n",
            "63/63 [==============================] - 6s 90ms/step - loss: 0.3079 - sparse_categorical_accuracy: 0.8745 - val_loss: 0.3261 - val_sparse_categorical_accuracy: 0.8800\n",
            "\n",
            "Epoch 00009: val_sparse_categorical_accuracy improved from 0.86500 to 0.88000, saving model to checkpoint2/best_model_hm.h5\n",
            "Epoch 10/50\n",
            "63/63 [==============================] - 6s 89ms/step - loss: 0.2927 - sparse_categorical_accuracy: 0.8842 - val_loss: 0.3556 - val_sparse_categorical_accuracy: 0.8960\n",
            "\n",
            "Epoch 00010: val_sparse_categorical_accuracy improved from 0.88000 to 0.89600, saving model to checkpoint2/best_model_hm.h5\n",
            "Epoch 11/50\n",
            "63/63 [==============================] - 6s 89ms/step - loss: 0.2630 - sparse_categorical_accuracy: 0.8873 - val_loss: 0.3633 - val_sparse_categorical_accuracy: 0.8930\n",
            "\n",
            "Epoch 00011: val_sparse_categorical_accuracy did not improve from 0.89600\n",
            "Epoch 12/50\n",
            "63/63 [==============================] - 6s 89ms/step - loss: 0.2607 - sparse_categorical_accuracy: 0.8932 - val_loss: 0.2678 - val_sparse_categorical_accuracy: 0.9010\n",
            "\n",
            "Epoch 00012: val_sparse_categorical_accuracy improved from 0.89600 to 0.90100, saving model to checkpoint2/best_model_hm.h5\n",
            "Epoch 13/50\n",
            "63/63 [==============================] - 6s 89ms/step - loss: 0.2539 - sparse_categorical_accuracy: 0.8882 - val_loss: 0.2729 - val_sparse_categorical_accuracy: 0.8910\n",
            "\n",
            "Epoch 00013: val_sparse_categorical_accuracy did not improve from 0.90100\n",
            "Epoch 14/50\n",
            "63/63 [==============================] - 6s 90ms/step - loss: 0.2613 - sparse_categorical_accuracy: 0.8910 - val_loss: 0.2943 - val_sparse_categorical_accuracy: 0.9050\n",
            "\n",
            "Epoch 00014: val_sparse_categorical_accuracy improved from 0.90100 to 0.90500, saving model to checkpoint2/best_model_hm.h5\n",
            "Epoch 15/50\n",
            "63/63 [==============================] - 6s 90ms/step - loss: 0.2647 - sparse_categorical_accuracy: 0.9010 - val_loss: 0.2679 - val_sparse_categorical_accuracy: 0.9020\n",
            "\n",
            "Epoch 00015: val_sparse_categorical_accuracy did not improve from 0.90500\n",
            "Epoch 16/50\n",
            "63/63 [==============================] - 6s 90ms/step - loss: 0.2354 - sparse_categorical_accuracy: 0.9020 - val_loss: 0.2605 - val_sparse_categorical_accuracy: 0.9030\n",
            "\n",
            "Epoch 00016: val_sparse_categorical_accuracy did not improve from 0.90500\n",
            "Epoch 17/50\n",
            "63/63 [==============================] - 6s 90ms/step - loss: 0.2225 - sparse_categorical_accuracy: 0.9082 - val_loss: 0.2516 - val_sparse_categorical_accuracy: 0.8990\n",
            "\n",
            "Epoch 00017: val_sparse_categorical_accuracy did not improve from 0.90500\n",
            "Epoch 18/50\n",
            "63/63 [==============================] - 6s 90ms/step - loss: 0.2150 - sparse_categorical_accuracy: 0.9155 - val_loss: 0.2588 - val_sparse_categorical_accuracy: 0.8970\n",
            "\n",
            "Epoch 00018: val_sparse_categorical_accuracy did not improve from 0.90500\n",
            "Epoch 19/50\n",
            "63/63 [==============================] - 6s 91ms/step - loss: 0.2117 - sparse_categorical_accuracy: 0.9158 - val_loss: 0.3033 - val_sparse_categorical_accuracy: 0.8750\n",
            "\n",
            "Epoch 00019: val_sparse_categorical_accuracy did not improve from 0.90500\n",
            "Epoch 20/50\n",
            "63/63 [==============================] - 6s 90ms/step - loss: 0.2034 - sparse_categorical_accuracy: 0.9180 - val_loss: 0.2938 - val_sparse_categorical_accuracy: 0.8940\n",
            "\n",
            "Epoch 00020: val_sparse_categorical_accuracy did not improve from 0.90500\n",
            "Epoch 21/50\n",
            "63/63 [==============================] - 6s 90ms/step - loss: 0.2029 - sparse_categorical_accuracy: 0.9168 - val_loss: 0.2894 - val_sparse_categorical_accuracy: 0.8770\n",
            "\n",
            "Epoch 00021: val_sparse_categorical_accuracy did not improve from 0.90500\n",
            "Epoch 22/50\n",
            "63/63 [==============================] - 6s 90ms/step - loss: 0.1990 - sparse_categorical_accuracy: 0.9208 - val_loss: 0.2800 - val_sparse_categorical_accuracy: 0.8870\n",
            "\n",
            "Epoch 00022: val_sparse_categorical_accuracy did not improve from 0.90500\n",
            "Epoch 23/50\n",
            "63/63 [==============================] - 6s 90ms/step - loss: 0.1878 - sparse_categorical_accuracy: 0.9293 - val_loss: 0.2580 - val_sparse_categorical_accuracy: 0.9100\n",
            "\n",
            "Epoch 00023: val_sparse_categorical_accuracy improved from 0.90500 to 0.91000, saving model to checkpoint2/best_model_hm.h5\n",
            "Epoch 24/50\n",
            "63/63 [==============================] - 6s 90ms/step - loss: 0.1951 - sparse_categorical_accuracy: 0.9283 - val_loss: 0.2737 - val_sparse_categorical_accuracy: 0.9040\n",
            "\n",
            "Epoch 00024: val_sparse_categorical_accuracy did not improve from 0.91000\n",
            "Epoch 25/50\n",
            "63/63 [==============================] - 6s 90ms/step - loss: 0.1737 - sparse_categorical_accuracy: 0.9298 - val_loss: 0.2925 - val_sparse_categorical_accuracy: 0.8860\n",
            "\n",
            "Epoch 00025: val_sparse_categorical_accuracy did not improve from 0.91000\n",
            "Epoch 26/50\n",
            "63/63 [==============================] - 6s 90ms/step - loss: 0.1656 - sparse_categorical_accuracy: 0.9345 - val_loss: 0.2738 - val_sparse_categorical_accuracy: 0.8810\n",
            "\n",
            "Epoch 00026: val_sparse_categorical_accuracy did not improve from 0.91000\n",
            "Epoch 27/50\n",
            "63/63 [==============================] - 6s 90ms/step - loss: 0.1623 - sparse_categorical_accuracy: 0.9380 - val_loss: 0.2849 - val_sparse_categorical_accuracy: 0.8900\n",
            "\n",
            "Epoch 00027: val_sparse_categorical_accuracy did not improve from 0.91000\n",
            "Epoch 28/50\n",
            "63/63 [==============================] - 6s 90ms/step - loss: 0.1551 - sparse_categorical_accuracy: 0.9430 - val_loss: 0.3306 - val_sparse_categorical_accuracy: 0.8890\n",
            "\n",
            "Epoch 00028: val_sparse_categorical_accuracy did not improve from 0.91000\n",
            "Epoch 29/50\n",
            "63/63 [==============================] - 6s 90ms/step - loss: 0.1421 - sparse_categorical_accuracy: 0.9473 - val_loss: 0.5068 - val_sparse_categorical_accuracy: 0.8350\n",
            "\n",
            "Epoch 00029: val_sparse_categorical_accuracy did not improve from 0.91000\n",
            "Epoch 30/50\n",
            "63/63 [==============================] - 6s 91ms/step - loss: 0.1470 - sparse_categorical_accuracy: 0.9435 - val_loss: 0.3480 - val_sparse_categorical_accuracy: 0.8920\n",
            "\n",
            "Epoch 00030: val_sparse_categorical_accuracy did not improve from 0.91000\n",
            "Epoch 31/50\n",
            "63/63 [==============================] - 6s 91ms/step - loss: 0.1597 - sparse_categorical_accuracy: 0.9425 - val_loss: 0.6364 - val_sparse_categorical_accuracy: 0.8790\n",
            "\n",
            "Epoch 00031: val_sparse_categorical_accuracy did not improve from 0.91000\n",
            "Epoch 32/50\n",
            "63/63 [==============================] - 6s 90ms/step - loss: 0.1523 - sparse_categorical_accuracy: 0.9452 - val_loss: 0.2839 - val_sparse_categorical_accuracy: 0.8940\n",
            "\n",
            "Epoch 00032: val_sparse_categorical_accuracy did not improve from 0.91000\n",
            "Epoch 33/50\n",
            "63/63 [==============================] - 6s 90ms/step - loss: 0.1287 - sparse_categorical_accuracy: 0.9500 - val_loss: 0.3710 - val_sparse_categorical_accuracy: 0.9030\n",
            "\n",
            "Epoch 00033: val_sparse_categorical_accuracy did not improve from 0.91000\n",
            "Epoch 34/50\n",
            "63/63 [==============================] - 6s 91ms/step - loss: 0.1320 - sparse_categorical_accuracy: 0.9492 - val_loss: 0.2976 - val_sparse_categorical_accuracy: 0.8870\n",
            "\n",
            "Epoch 00034: val_sparse_categorical_accuracy did not improve from 0.91000\n",
            "Epoch 35/50\n",
            "63/63 [==============================] - 6s 90ms/step - loss: 0.1369 - sparse_categorical_accuracy: 0.9528 - val_loss: 0.3576 - val_sparse_categorical_accuracy: 0.8910\n",
            "\n",
            "Epoch 00035: val_sparse_categorical_accuracy did not improve from 0.91000\n",
            "Epoch 36/50\n",
            "63/63 [==============================] - 6s 91ms/step - loss: 0.1295 - sparse_categorical_accuracy: 0.9542 - val_loss: 0.4306 - val_sparse_categorical_accuracy: 0.8710\n",
            "\n",
            "Epoch 00036: val_sparse_categorical_accuracy did not improve from 0.91000\n",
            "Epoch 37/50\n",
            "63/63 [==============================] - 6s 90ms/step - loss: 0.1217 - sparse_categorical_accuracy: 0.9580 - val_loss: 0.2951 - val_sparse_categorical_accuracy: 0.8970\n",
            "\n",
            "Epoch 00037: val_sparse_categorical_accuracy did not improve from 0.91000\n",
            "Epoch 38/50\n",
            "63/63 [==============================] - 6s 90ms/step - loss: 0.1174 - sparse_categorical_accuracy: 0.9605 - val_loss: 0.4495 - val_sparse_categorical_accuracy: 0.8890\n",
            "\n",
            "Epoch 00038: val_sparse_categorical_accuracy did not improve from 0.91000\n",
            "Epoch 39/50\n",
            "63/63 [==============================] - 6s 90ms/step - loss: 0.1050 - sparse_categorical_accuracy: 0.9597 - val_loss: 0.3757 - val_sparse_categorical_accuracy: 0.8750\n",
            "\n",
            "Epoch 00039: val_sparse_categorical_accuracy did not improve from 0.91000\n",
            "Epoch 40/50\n",
            "63/63 [==============================] - 6s 90ms/step - loss: 0.1129 - sparse_categorical_accuracy: 0.9610 - val_loss: 0.3425 - val_sparse_categorical_accuracy: 0.8820\n",
            "\n",
            "Epoch 00040: val_sparse_categorical_accuracy did not improve from 0.91000\n",
            "Epoch 41/50\n",
            "63/63 [==============================] - 6s 90ms/step - loss: 0.1151 - sparse_categorical_accuracy: 0.9647 - val_loss: 0.4021 - val_sparse_categorical_accuracy: 0.8800\n",
            "\n",
            "Epoch 00041: val_sparse_categorical_accuracy did not improve from 0.91000\n",
            "Epoch 42/50\n",
            "63/63 [==============================] - 6s 90ms/step - loss: 0.0985 - sparse_categorical_accuracy: 0.9672 - val_loss: 0.7247 - val_sparse_categorical_accuracy: 0.8840\n",
            "\n",
            "Epoch 00042: val_sparse_categorical_accuracy did not improve from 0.91000\n",
            "Epoch 43/50\n",
            "63/63 [==============================] - 6s 90ms/step - loss: 0.1129 - sparse_categorical_accuracy: 0.9597 - val_loss: 0.3392 - val_sparse_categorical_accuracy: 0.8770\n",
            "\n",
            "Epoch 00043: val_sparse_categorical_accuracy did not improve from 0.91000\n",
            "Epoch 44/50\n",
            "63/63 [==============================] - 6s 90ms/step - loss: 0.1130 - sparse_categorical_accuracy: 0.9610 - val_loss: 0.4144 - val_sparse_categorical_accuracy: 0.8910\n",
            "\n",
            "Epoch 00044: val_sparse_categorical_accuracy did not improve from 0.91000\n",
            "Epoch 45/50\n",
            "63/63 [==============================] - 6s 91ms/step - loss: 0.0993 - sparse_categorical_accuracy: 0.9680 - val_loss: 0.4254 - val_sparse_categorical_accuracy: 0.8760\n",
            "\n",
            "Epoch 00045: val_sparse_categorical_accuracy did not improve from 0.91000\n",
            "Epoch 46/50\n",
            "63/63 [==============================] - 6s 91ms/step - loss: 0.1071 - sparse_categorical_accuracy: 0.9657 - val_loss: 0.3918 - val_sparse_categorical_accuracy: 0.8840\n",
            "\n",
            "Epoch 00046: val_sparse_categorical_accuracy did not improve from 0.91000\n",
            "Epoch 47/50\n",
            "63/63 [==============================] - 6s 91ms/step - loss: 0.1151 - sparse_categorical_accuracy: 0.9630 - val_loss: 0.4477 - val_sparse_categorical_accuracy: 0.8930\n",
            "\n",
            "Epoch 00047: val_sparse_categorical_accuracy did not improve from 0.91000\n",
            "Epoch 48/50\n",
            "63/63 [==============================] - 6s 90ms/step - loss: 0.1209 - sparse_categorical_accuracy: 0.9645 - val_loss: 0.3844 - val_sparse_categorical_accuracy: 0.8770\n",
            "\n",
            "Epoch 00048: val_sparse_categorical_accuracy did not improve from 0.91000\n",
            "Epoch 49/50\n",
            "63/63 [==============================] - 6s 90ms/step - loss: 0.0798 - sparse_categorical_accuracy: 0.9675 - val_loss: 0.5856 - val_sparse_categorical_accuracy: 0.8930\n",
            "\n",
            "Epoch 00049: val_sparse_categorical_accuracy did not improve from 0.91000\n",
            "Epoch 50/50\n",
            "63/63 [==============================] - 6s 91ms/step - loss: 0.1156 - sparse_categorical_accuracy: 0.9668 - val_loss: 0.3632 - val_sparse_categorical_accuracy: 0.8760\n",
            "\n",
            "Epoch 00050: val_sparse_categorical_accuracy did not improve from 0.91000\n"
          ],
          "name": "stdout"
        }
      ]
    },
    {
      "cell_type": "code",
      "metadata": {
        "colab": {
          "base_uri": "https://localhost:8080/"
        },
        "id": "Z009CXuO9B7q",
        "outputId": "ece451c5-cbbe-4dc5-dd0c-25c7361c539f"
      },
      "source": [
        "# Final Evaluation on test data\n",
        "hm_model.load_weights(checkpoint_path)\n",
        "\n",
        "print(\"Evaluate on test data\")\n",
        "results = hm_model.evaluate(X_test, y_hm_test, batch_size=32)\n",
        "print(\"test loss, test acc:\", results)"
      ],
      "execution_count": 36,
      "outputs": [
        {
          "output_type": "stream",
          "text": [
            "Evaluate on test data\n",
            "32/32 [==============================] - 1s 16ms/step - loss: 0.2686 - sparse_categorical_accuracy: 0.8870\n",
            "test loss, test acc: [0.26861581206321716, 0.8870000243186951]\n"
          ],
          "name": "stdout"
        }
      ]
    },
    {
      "cell_type": "code",
      "metadata": {
        "colab": {
          "base_uri": "https://localhost:8080/",
          "height": 297
        },
        "id": "oId4DS389B-8",
        "outputId": "27dbf508-3ecb-4c22-e6c2-8dd3420e3cec"
      },
      "source": [
        "pred = hm_model.predict(X_test) \n",
        "y_pred = np.argmax(pred, axis = 1)\n",
        "cm=confusion_matrix(y_hm_test, y_pred)\n",
        "disp = ConfusionMatrixDisplay(confusion_matrix=cm, display_labels=[\"No Heavy Makeup\", \"Heavy Makeup\"])\n",
        "disp.plot()"
      ],
      "execution_count": 37,
      "outputs": [
        {
          "output_type": "execute_result",
          "data": {
            "text/plain": [
              "<sklearn.metrics._plot.confusion_matrix.ConfusionMatrixDisplay at 0x7f31cc0cced0>"
            ]
          },
          "metadata": {
            "tags": []
          },
          "execution_count": 37
        },
        {
          "output_type": "display_data",
          "data": {
            "image/png": "[encoded data removed]",
            "text/plain": [
              "<Figure size 432x288 with 2 Axes>"
            ]
          },
          "metadata": {
            "tags": [],
            "needs_background": "light"
          }
        }
      ]
    },
    {
      "cell_type": "code",
      "metadata": {
        "id": "1ybPOcqD9CFz"
      },
      "source": [
        "# \"Freeze\" model layers to by used for transfer learning\n",
        "layer_hm1.trainable = False\n",
        "layer_hm2.trainable = False\n",
        "layer_hm3.trainable = False\n",
        "layer_hmd3.trainable = False\n",
        "layer_hm4.trainable = False\n",
        "layer_hm5.trainable = False\n",
        "layer_hmd5.trainable = False\n",
        "layer_hm6.trainable = False\n",
        "layer_hm7.trainable = False\n",
        "layer_hmd7.trainable = False\n",
        "layer_hm8.trainable = False\n",
        "layer_hm9.trainable = False\n",
        "layer_hmd9.trainable = False\n",
        "layer_hm10.trainable = False\n",
        "layer_hm11.trainable = False\n",
        "layer_hm12.trainable = False\n",
        "layer_hmd12.trainable = False"
      ],
      "execution_count": 39,
      "outputs": []
    },
    {
      "cell_type": "markdown",
      "metadata": {
        "id": "bY8ORx2lIJOB"
      },
      "source": [
        "### Transfer Learning "
      ]
    },
    {
      "cell_type": "code",
      "metadata": {
        "id": "4od-gQs29CQn"
      },
      "source": [
        "# Create y_ps train-validation-tests sets for classification task for \"Pale_Skin\" Attribute (very imbalanced)\n",
        "# transfer learning utilizing model trained for attribute \"Heavy_Makeup\"\n",
        "\n",
        "y_ps_train=y_train[\"Pale_Skin\"]\n",
        "y_ps_valid=y_valid[\"Pale_Skin\"]\n",
        "y_ps_test=y_test[\"Pale_Skin\"]"
      ],
      "execution_count": null,
      "outputs": []
    },
    {
      "cell_type": "code",
      "metadata": {
        "id": "K1n7ZMR18jqg"
      },
      "source": [
        "# Build a model from the pre-trained layers of \"hm_model\" and adding 2 Dense & 1 Prediction Layer\n",
        "tl_ps_model = keras.Sequential([keras.Input(shape=(178, 178, 3)), \n",
        "                                layer_hm1, layer_hm2, layer_hm3, layer_hmd3, layer_hm4, \n",
        "                                layer_hm5, layer_hmd5, layer_hm6, layer_hm7,layer_hmd7, layer_hm8, layer_hm9,\n",
        "                                layer_hmd9, layer_hm10, layer_hm11, layer_hm12, layer_hmd12, layer_hmd12, \n",
        "                                layers.Dense(1000, activation=\"relu\", name=\"Dence1_new\"), \n",
        "                                layers.Dense(256, activation=\"relu\", name=\"Dence2_new\"), \n",
        "                                layers.Dense(1, activation=\"sigmoid\", name=\"Prediction_new\")])"
      ],
      "execution_count": null,
      "outputs": []
    },
    {
      "cell_type": "code",
      "metadata": {
        "id": "AGwtWGU48jz4"
      },
      "source": [
        "# We specify the training configuration (optimizer, loss, metrics):\n",
        "lt_ps_model.compile(\n",
        "    optimizer=keras.optimizers.RMSprop(learning_rate=0.001),  \n",
        "    loss=keras.losses.SparseCategoricalCrossentropy(),\n",
        "    metrics=[keras.metrics.SparseCategoricalAccuracy()])"
      ],
      "execution_count": null,
      "outputs": []
    },
    {
      "cell_type": "code",
      "metadata": {
        "id": "_dFHWc5g8j5u"
      },
      "source": [
        "# Call_back to store best model\n",
        "file_name = 'best_model_tl_ps.h5'\n",
        "checkpoint_path= os.path.join('checkpoint2',file_name)\n",
        "\n",
        "call_back = tf.keras.callbacks.ModelCheckpoint(filepath=checkpoint_path, \n",
        "                                                 monitor='val_sparse_categorical_accuracy', \n",
        "                                                 verbose=1,\n",
        "                                                 save_freq='epoch',\n",
        "                                                 save_best_only=True, \n",
        "                                                 save_weights_only=False, \n",
        "                                                 mode='max')"
      ],
      "execution_count": null,
      "outputs": []
    },
    {
      "cell_type": "code",
      "metadata": {
        "id": "L7E20QcHIGhh"
      },
      "source": [
        "# Fit model to training data - track through validation data\n",
        "print(\"Fit model on training data\")\n",
        "history = tl_ps_model.fit(\n",
        "    X_train,\n",
        "    y_ps_train,\n",
        "    batch_size=64,\n",
        "    epochs=50,\n",
        "    validation_data=(X_valid, y_ps_valid),\n",
        "    callbacks=call_back,\n",
        "    shuffle=True)"
      ],
      "execution_count": null,
      "outputs": []
    },
    {
      "cell_type": "code",
      "metadata": {
        "id": "rqkymvdDIGkk"
      },
      "source": [
        ""
      ],
      "execution_count": null,
      "outputs": []
    },
    {
      "cell_type": "code",
      "metadata": {
        "id": "rqRB_ZUlIGny"
      },
      "source": [
        ""
      ],
      "execution_count": null,
      "outputs": []
    },
    {
      "cell_type": "code",
      "metadata": {
        "id": "MY4GqqAPIGsP"
      },
      "source": [
        ""
      ],
      "execution_count": null,
      "outputs": []
    },
    {
      "cell_type": "code",
      "metadata": {
        "id": "NMZfGBEbIG_t"
      },
      "source": [
        ""
      ],
      "execution_count": null,
      "outputs": []
    }
  ]
}